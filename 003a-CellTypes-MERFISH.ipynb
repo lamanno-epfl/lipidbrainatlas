{
 "cells": [
  {
   "cell_type": "code",
   "execution_count": null,
   "id": "e8900f86-56a7-4811-ab08-8d2496e384d3",
   "metadata": {},
   "outputs": [],
   "source": [
    "import os\n",
    "os.environ[\"OPENBLAS_NUM_THREADS\"] = \"1\"\n",
    "os.environ[\"OMP_NUM_THREADS\"]       = \"1\"\n",
    "os.environ[\"MKL_NUM_THREADS\"]       = \"1\"\n",
    "os.environ[\"NUMEXPR_NUM_THREADS\"]   = \"1\"\n",
    "import pandas as pd\n",
    "import numpy as np\n",
    "import matplotlib.pyplot as plt\n",
    "import seaborn as sns\n",
    "import scanpy as sc\n",
    "import anndata\n",
    "import matplotlib\n",
    "matplotlib.rcParams['pdf.fonttype'] = 42\n",
    "\n",
    "atlas = pd.read_parquet(\"./zenodo/maindata_2.parquet\")\n",
    "merfish = pd.read_parquet(\"./zenodo/multimodal/cell_filtered_w500genes.parquet\")"
   ]
  },
  {
   "cell_type": "code",
   "execution_count": null,
   "id": "198c6769-0b5e-4468-9486-e17e8bc0cac2",
   "metadata": {},
   "outputs": [],
   "source": []
  },
  {
   "cell_type": "markdown",
   "id": "a0d74f00-5d5e-45e9-89e9-2282a5351e0b",
   "metadata": {},
   "source": [
    "## Prepare the data by acronym-constrained neighbor matching of cell types to lipidomic voxels in CCF"
   ]
  },
  {
   "cell_type": "code",
   "execution_count": null,
   "id": "8014fb7c-330b-4bb5-b25b-a89cc26bf1ec",
   "metadata": {},
   "outputs": [],
   "source": [
    "datavignettes = atlas\n",
    "lipidsinallen = datavignettes[['xccf','yccf','zccf']].dropna()\n",
    "merfishinallen = merfish[['x_ccf', 'y_ccf', 'z_ccf']]\n",
    "merfishinallen.columns = ['xccf','yccf','zccf']"
   ]
  },
  {
   "cell_type": "code",
   "execution_count": null,
   "id": "b9c38a10-76e2-48d4-abf3-0cc608c06f28",
   "metadata": {},
   "outputs": [],
   "source": [
    "from allensdk.core.mouse_connectivity_cache import MouseConnectivityCache\n",
    "mcc = MouseConnectivityCache(manifest_file='mouse_connectivity_manifest.json')\n",
    "annotation, _ = mcc.get_annotation_volume()\n",
    "merfish['x_index'] = (merfish['x_ccf']*40).astype(int)\n",
    "merfish['y_index'] = (merfish['y_ccf']*40).astype(int)\n",
    "merfish['z_index'] = (merfish['z_ccf']*40).astype(int)\n",
    "merfish['id'] = annotation[merfish['x_index'], merfish['y_index'], merfish['z_index']]\n",
    "datavignettes = datavignettes.dropna(subset=['id'])\n",
    "datavignettes['id'] = datavignettes['id'].astype(int).astype(str)\n",
    "merfish['id'] = merfish['id'].astype(str)\n",
    "merfishinallen['id'] = merfish['id'].values\n",
    "#drop vascular and immune cells first...\n",
    "merfishinallen['division'] = merfish['division'].values\n",
    "merfishinallen = merfishinallen.loc[~merfishinallen['division'].isin(['6 Vascular', '7 Immune']),:]\n",
    "datavignettes =datavignettes.dropna(subset=['xccf'])\n",
    "datavignettess = datavignettes.copy()"
   ]
  },
  {
   "cell_type": "code",
   "execution_count": null,
   "id": "d7f73627-d98f-430f-80b8-fff0d938e18e",
   "metadata": {
    "tags": []
   },
   "outputs": [],
   "source": [
    "import numpy as np\n",
    "import pandas as pd\n",
    "from scipy.spatial import cKDTree\n",
    "from threadpoolctl import threadpool_limits, threadpool_info\n",
    "threadpool_limits(limits=8)\n",
    "import os\n",
    "os.environ['OMP_NUM_THREADS'] = '6'\n",
    "\n",
    "# 1) pre-group merfish and build trees\n",
    "trees = {}\n",
    "feats = {}\n",
    "for id_, sub in merfish.loc[merfishinallen.index,:].groupby('id'): # this is a priori done for all sections once\n",
    "    coords = sub[['x_ccf','y_ccf','z_ccf']].to_numpy()\n",
    "    trees[id_] = cKDTree(coords)\n",
    "    feats[id_] = sub['labels_cluster'].to_numpy()\n",
    "\n",
    "from tqdm import tqdm\n",
    "import pandas as pd\n",
    "\n",
    "thr = 0.05 \n",
    "idxs = []\n",
    "modes = []    \n",
    "\n",
    "for sec in tqdm(datavignettess['SectionID'].unique()):\n",
    "    datavignettes = datavignettess[datavignettess['SectionID'] == sec]\n",
    "\n",
    "    for id_, dsub in datavignettes.groupby('id'):\n",
    "        tree = trees.get(id_)\n",
    "        if tree is None:\n",
    "            continue\n",
    "\n",
    "        # query points in this vignette\n",
    "        qpts = dsub[['xccf','yccf','zccf']].to_numpy()\n",
    "        nbrs_list = tree.query_ball_point(qpts, r=thr)\n",
    "\n",
    "        # array of cluster labels for this section\n",
    "        arr = feats[id_]\n",
    "\n",
    "        for i, nbrs in enumerate(nbrs_list):\n",
    "            if nbrs:\n",
    "                idxs.append(dsub.index[i])\n",
    "                # build a Series, take its mode, pull out the first (in case of ties)\n",
    "                most_common = pd.Series(arr[nbrs]).mode().iat[0]\n",
    "                modes.append(most_common)\n",
    "\n",
    "\n",
    "celltypes = pd.DataFrame(modes, index = idxs, columns = [\"putative_celltype\"])\n",
    "mappingtab = merfish[['cluster', 'subclass_color','labels_division','labels_class', 'labels_subclass',  'labels_supertype']].drop_duplicates()\n",
    "mappingtab.index = mappingtab['cluster']\n",
    "celltypes['subclass_color'] = celltypes['putative_celltype'].map(mappingtab['subclass_color'])\n",
    "celltypes['labels_division'] = celltypes['putative_celltype'].map(mappingtab['labels_division'])\n",
    "celltypes['labels_class'] = celltypes['putative_celltype'].map(mappingtab['labels_class'])\n",
    "celltypes['labels_subclass'] = celltypes['putative_celltype'].map(mappingtab['labels_subclass'])\n",
    "celltypes['labels_supertype'] = celltypes['putative_celltype'].map(mappingtab['labels_supertype'])\n",
    "celltypes.to_parquet(\"merfishsubclassannotated_acronymized.parquet\")"
   ]
  },
  {
   "cell_type": "code",
   "execution_count": null,
   "id": "05633d7a-3391-46bd-b022-82a24d0e2701",
   "metadata": {},
   "outputs": [],
   "source": [
    "celltypes = pd.read_parquet(\"./zenodo/multimodal/merfishsubclassannotated_acronymized.parquet\")\n",
    "datavignettes = datavignettess \n",
    "result = celltypes\n",
    "result['SectionID'] = datavignettes.loc[result.index,'SectionID']\n",
    "result['xccf'] = datavignettes.loc[result.index,'xccf']\n",
    "result['yccf'] = datavignettes.loc[result.index,'yccf']\n",
    "result['zccf'] = datavignettes.loc[result.index,'zccf']\n",
    "result['boundary'] = datavignettes.loc[result.index,'boundary']"
   ]
  },
  {
   "cell_type": "code",
   "execution_count": null,
   "id": "3ebda18e-7f0c-4eb9-8ee0-a1cc768aaef3",
   "metadata": {},
   "outputs": [],
   "source": [
    "import matplotlib.pyplot as plt\n",
    "import numpy as np\n",
    "import pandas as pd\n",
    "\n",
    "selected_sections = np.random.choice(result['SectionID'].unique(), size=40, replace=False)\n",
    "\n",
    "fig, axes = plt.subplots(nrows=4, ncols=10, figsize=(20, 8))\n",
    "axes = axes.flatten() \n",
    "for ax, section_id in zip(axes, selected_sections):\n",
    "    data = result[result['SectionID'] == section_id]\n",
    "    ax.scatter(data['zccf'], -data['yccf'], c=data['subclass_color'], s=0.1, rasterized = True)\n",
    "\n",
    "    ax.set_xticks([])\n",
    "    ax.set_yticks([])\n",
    "    ax.set_title(f\"Section {section_id}\", fontsize=8)\n",
    "    for spine in ax.spines.values():\n",
    "        spine.set_visible(False)\n",
    "\n",
    "plt.tight_layout()\n",
    "plt.show()"
   ]
  },
  {
   "cell_type": "code",
   "execution_count": null,
   "id": "adaccc3c-14ce-4785-b223-3eae3fb08859",
   "metadata": {},
   "outputs": [],
   "source": [
    "neighs = celltypes\n",
    "neighs['labels_cluster'] = neighs['putative_celltype']\n",
    "atlas = atlas.loc[neighs.index,:]\n",
    "for i in range(2, 11):\n",
    "    atlas['level_'+str(i)] = atlas['level_'+str(i-1)].astype(str) + atlas['level_'+str(i)].astype(str)\n",
    "\n",
    "atlas['level_9']"
   ]
  },
  {
   "cell_type": "code",
   "execution_count": null,
   "id": "67921583-c58a-4d91-90b0-a5539658abdf",
   "metadata": {},
   "outputs": [],
   "source": []
  },
  {
   "cell_type": "markdown",
   "id": "2e642479-77db-4fc5-aab8-88ee901b6d40",
   "metadata": {},
   "source": [
    "## Clean cell types vs lipizones"
   ]
  },
  {
   "cell_type": "code",
   "execution_count": null,
   "id": "c6f90eeb-72bb-44f3-be6f-1551034f00c4",
   "metadata": {},
   "outputs": [],
   "source": [
    "import scipy.cluster.hierarchy as sch\n",
    "from tqdm import tqdm\n",
    "\n",
    "LABEL1s = ['level_6', 'level_7', 'level_8', 'level_9', 'level_10', 'lipizone_names']\n",
    "LABEL2s = ['labels_subclass', 'labels_supertype', 'labels_cluster']\n",
    "\n",
    "NMATCHEDPIXELS = 100\n",
    "MINCOLOC = 200 ############ HARDCORE\n",
    "\n",
    "lipizonescelltypes = []\n",
    "for LABEL1 in tqdm(LABEL1s):\n",
    "    for LABEL2 in LABEL2s:\n",
    "        lipizoneZ = atlas[LABEL1].copy().values\n",
    "        celltypeZ = neighs[LABEL2].copy().values\n",
    "        cmat = pd.crosstab(lipizoneZ, celltypeZ)\n",
    "        normalized_df = cmat / cmat.sum() # fraction \n",
    "        normalized_df = (normalized_df.T / normalized_df.T.mean()).T ## switch to enrichments\n",
    "        normalized_df1 = normalized_df.copy()\n",
    "\n",
    "        cmat = pd.crosstab(lipizoneZ, celltypeZ).T\n",
    "        normalized_df = cmat / cmat.sum() # fraction \n",
    "        normalized_df = (normalized_df.T / normalized_df.T.mean()) ## switch to enrichments\n",
    "        normalized_df2 = normalized_df.copy()\n",
    "\n",
    "        normalized_df = normalized_df2 * normalized_df1\n",
    "        normalized_df[cmat.T < NMATCHEDPIXELS] = 0 #####################\n",
    "        normalized_df = normalized_df.loc[:, normalized_df.sum() > 200] #####################\n",
    "\n",
    "        linkage = sch.linkage(sch.distance.pdist(normalized_df.T), method='weighted', optimal_ordering=True)\n",
    "        order = sch.leaves_list(linkage)\n",
    "        normalized_df = normalized_df.iloc[:, order]\n",
    "\n",
    "        order = np.argmax(normalized_df.values, axis=1)\n",
    "        order = np.argsort(order)\n",
    "        normalized_df = normalized_df.iloc[order,:]\n",
    "\n",
    "        maxcoloc = normalized_df.max(axis=1).sort_values()\n",
    "        lipizonesthatarecelltypes = maxcoloc[maxcoloc > MINCOLOC][::-1]\n",
    "        lipizonescelltype=pd.DataFrame(normalized_df.idxmax(axis=1).sort_values().loc[lipizonesthatarecelltypes.index])\n",
    "        lipizonescelltype.columns = ['putative_celltype']\n",
    "        lipizonescelltype['putative_celltype'] = (\n",
    "            lipizonescelltype['putative_celltype']\n",
    "              .str.replace(r'^.*?=', '', regex=True)\n",
    "        )\n",
    "        lipizonescelltype['colocalization'] = maxcoloc.loc[lipizonescelltype.index]\n",
    "        lipizonescelltype['label1'] = LABEL1\n",
    "        lipizonescelltype['label2'] = LABEL2\n",
    "        lipizonescelltypes.append(lipizonescelltype)\n",
    "        \n",
    "colocalization_all_levels = pd.concat(lipizonescelltypes)\n",
    "colocalization_all_levels.to_csv(\"colocalization_all_levels.csv\")\n",
    "colocalization_all_levels"
   ]
  },
  {
   "cell_type": "code",
   "execution_count": null,
   "id": "45730c53-76f8-44eb-a48f-bbec55082189",
   "metadata": {},
   "outputs": [],
   "source": [
    "lipizonesxlevels = atlas[LABEL1s].drop_duplicates().reset_index().iloc[:,1:]\n",
    "lipizonesxlevels.index = lipizonesxlevels.lipizone_names\n",
    "mapping = {\n",
    "    lvl: grp['putative_celltype'].to_dict()\n",
    "    for lvl, grp in colocalization_all_levels.groupby('label1')\n",
    "}\n",
    "result = lipizonesxlevels.copy()\n",
    "for lvl in result.columns:\n",
    "    result[lvl] = result[lvl].map(mapping.get(lvl, {}))\n",
    "\n",
    "frommacoscko = pd.read_csv(\"./zenodo/csv/lipizone_celltype_correspondence_macoscko.csv\", index_col=0)\n",
    "priority = ['lipizone_names', 'level_10', 'level_9', 'level_8', 'level_7', 'level_6']\n",
    "result['celltype'] = result[priority].bfill(axis=1).iloc[:, 0]\n",
    "result['levelmatch'] = result[priority].apply(lambda row: row.first_valid_index(), axis=1)\n",
    "orig = lipizonesxlevels\n",
    "col_all = colocalization_all_levels  \n",
    "map_label2 = col_all['label2'].to_dict()\n",
    "map_coloc  = col_all['colocalization'].to_dict()\n",
    "def safe_get_code(idx, lvl):\n",
    "    if pd.isna(lvl) or lvl not in orig.columns:\n",
    "        return np.nan\n",
    "    return orig.at[idx, lvl]\n",
    "\n",
    "result['orig_code'] = [\n",
    "    safe_get_code(idx, lvl)\n",
    "    for idx, lvl in zip(result.index, result['levelmatch'])\n",
    "]\n",
    "\n",
    "result['label2']        = result['orig_code'].map(map_label2)\n",
    "result['colocalization'] = result['orig_code'].map(map_coloc)\n",
    "celltypematched = result[[\"celltype\",\t\"levelmatch\", \"label2\",\t\"colocalization\"]]\n",
    "celltypematched['celltype_macoscko'] = [\n",
    "    frommacoscko.loc[x, 'putative_celltype'] if x in frommacoscko.index else np.nan\n",
    "    for x in celltypematched.index\n",
    "]\n",
    "celltypematched"
   ]
  },
  {
   "cell_type": "code",
   "execution_count": null,
   "id": "bc5fce3c-79f8-473b-b16b-f91d8d0c59a5",
   "metadata": {},
   "outputs": [],
   "source": [
    "data = pd.read_parquet(\"./zenodo/maindata_2.parquet\")\n",
    "merfish['x_index'] = (merfish['x_ccf']*40).astype(int)\n",
    "merfish['y_index'] = (merfish['y_ccf']*40).astype(int)\n",
    "merfish['z_index'] = (merfish['z_ccf']*40).astype(int)\n",
    "border = np.load(\"./zenodo/mixed/eroded_annot.npy\")\n",
    "merfish['boundary'] = border[merfish['x_index'], merfish['y_index'], merfish['z_index']]\n",
    "data['ct'] = np.nan\n",
    "data.loc[neighs.index, 'ct'] = neighs['putative_celltype']\n",
    "celltypematched[\"colocalization\"] = celltypematched[\"colocalization\"].fillna(0)\n",
    "celltypematched = celltypematched.sort_values(by=\"colocalization\")[::-1]\n",
    "celltypematched"
   ]
  },
  {
   "cell_type": "code",
   "execution_count": null,
   "id": "79851f09-47b8-4e96-bc4f-a4263829801a",
   "metadata": {
    "tags": []
   },
   "outputs": [],
   "source": [
    "unique_sections = data[\"SectionID\"].unique()[:28]\n",
    "unique_sections2 = merfish[\"brain_section_label\"].unique()[::2][::-1]\n",
    "\n",
    "for XXX in celltypematched.index[:10]: # the best ones\n",
    "    print(celltypematched.loc[XXX,:])\n",
    "    fig, axs = plt.subplots(4, 8, figsize=(32, 16))\n",
    "    axs = axs.flatten()\n",
    "\n",
    "    for i, section_value in enumerate(unique_sections):\n",
    "        if i >= len(axs):\n",
    "            break\n",
    "        ax = axs[i]\n",
    "        section = data[data[\"SectionID\"] == section_value]\n",
    "        filtered_section = section.loc[section['lipizone_names'].isin([XXX]),:]\n",
    "\n",
    "        ax.scatter(filtered_section['z_index'], -filtered_section['y_index'],\n",
    "                        c=\"red\", s=1.0,\n",
    "                        alpha=1, zorder=1, rasterized=True)  \n",
    "\n",
    "        filtered_section_contour = section.loc[section['boundary'] == 1,:]\n",
    "        ax.scatter(filtered_section_contour['z_index'], -filtered_section_contour['y_index'],\n",
    "                        c='black', s=0.01, rasterized=True, zorder=2, alpha=0.9)\n",
    "\n",
    "        ax.set_aspect('equal')\n",
    "\n",
    "    for ax in axs:\n",
    "        ax.axis('off') \n",
    "\n",
    "    plt.tight_layout()\n",
    "    plt.show()\n",
    "\n",
    "    ct = celltypematched.loc[XXX,:]['celltype']\n",
    "    lab = celltypematched.loc[XXX,:]['label2']\n",
    "    \n",
    "    if pd.notna(ct):\n",
    "        fig, axs = plt.subplots(4, 8, figsize=(32, 16))\n",
    "        axs = axs.flatten()\n",
    "\n",
    "        for i, section_value in enumerate(unique_sections2[:32]):\n",
    "            if i >= len(axs):\n",
    "                break\n",
    "            ax = axs[i]\n",
    "            section = merfish[merfish[\"brain_section_label\"] == section_value]\n",
    "            filtered_section = section.loc[section[lab]==ct,:]\n",
    "\n",
    "            ax.scatter(filtered_section['z_index'], -filtered_section['y_index'],\n",
    "                            c=\"red\", s=1.0,\n",
    "                            alpha=1, zorder=1, rasterized=True)  \n",
    "\n",
    "            filtered_section_contour = section.loc[section['boundary'] == 1,:]\n",
    "            ax.scatter(filtered_section_contour['z_index'], -filtered_section_contour['y_index'],\n",
    "                            c='black', s=0.01, rasterized=True, zorder=2, alpha=0.9)\n",
    "\n",
    "            ax.set_aspect('equal')\n",
    "\n",
    "        for ax in axs:\n",
    "            ax.axis('off') \n",
    "\n",
    "        plt.tight_layout()\n",
    "        plt.show() \n",
    "\n",
    "        fig, axs = plt.subplots(4, 8, figsize=(32, 16))\n",
    "        axs = axs.flatten()\n",
    "\n",
    "        for i, section_value in enumerate(unique_sections):\n",
    "            if i >= len(axs):\n",
    "                break\n",
    "            ax = axs[i]\n",
    "            section = data[data[\"SectionID\"] == section_value]\n",
    "            filtered_section = section.loc[section['ct']==ct,:]\n",
    "\n",
    "            ax.scatter(filtered_section['z_index'], -filtered_section['y_index'],\n",
    "                            c=\"red\", s=1.0,\n",
    "                            alpha=1, zorder=1, rasterized=True)  \n",
    "\n",
    "            filtered_section_contour = section.loc[section['boundary'] == 1,:]\n",
    "            ax.scatter(filtered_section_contour['z_index'], -filtered_section_contour['y_index'],\n",
    "                            c='black', s=0.01, rasterized=True, zorder=2, alpha=0.9)\n",
    "\n",
    "            ax.set_aspect('equal')\n",
    "\n",
    "        for ax in axs:\n",
    "            ax.axis('off') \n",
    "\n",
    "        plt.tight_layout()\n",
    "        plt.show()"
   ]
  },
  {
   "cell_type": "code",
   "execution_count": null,
   "id": "b57e9ebe-ed43-4a5f-be5f-3c76a74cab70",
   "metadata": {},
   "outputs": [],
   "source": []
  },
  {
   "cell_type": "markdown",
   "id": "1477e369-16c4-497b-9b39-d12b83961d55",
   "metadata": {},
   "source": [
    "## Decide on a threshold to call a lipizone to match a cell type territory"
   ]
  },
  {
   "cell_type": "code",
   "execution_count": null,
   "id": "b0085016-4107-4fdc-a37f-917b0509df34",
   "metadata": {},
   "outputs": [],
   "source": [
    "counts = data.loc[data['division'] != \"General\",:].groupby(['lipizone_names','division']).size()\n",
    "counts"
   ]
  },
  {
   "cell_type": "code",
   "execution_count": null,
   "id": "9723721f-7b60-4322-8995-fa244395a9dc",
   "metadata": {},
   "outputs": [],
   "source": [
    "modal_division = (\n",
    "    data.loc[data['division'] != \"General\",:]\n",
    "    .groupby('lipizone_names')['division']\n",
    "    .agg(lambda x: x.value_counts().idxmax())\n",
    ")"
   ]
  },
  {
   "cell_type": "code",
   "execution_count": null,
   "id": "33fab8e8-aed2-48f1-8bd7-c2f5cfea9485",
   "metadata": {},
   "outputs": [],
   "source": [
    "# remove cerebellum and fiber tracts to be conservative\n",
    "\n",
    "lipizonesthatarenotCBorfibers = modal_division.loc[(modal_division != \"fiber tracts\") & (modal_division != \"Cerebellum\")].index\n",
    "len(lipizonesthatarenotCBorfibers) # so here we study 399 lipizones"
   ]
  },
  {
   "cell_type": "code",
   "execution_count": null,
   "id": "2c8188bb-e08b-4611-9729-d0596e1dbd04",
   "metadata": {},
   "outputs": [],
   "source": [
    "celltypematchedall = celltypematched.copy()\n",
    "celltypematched = celltypematched.loc[celltypematched.index.isin(lipizonesthatarenotCBorfibers),:]\n",
    "celltypematched"
   ]
  },
  {
   "cell_type": "code",
   "execution_count": null,
   "id": "2c1eb66f-fc57-4b68-9fb2-ea3f07a05ab5",
   "metadata": {},
   "outputs": [],
   "source": [
    "# put a hard threshold on colocalization and define a lipizone as mapping to a cell type territory (at some level for the two hierarchies)\n",
    "# i want to reintroduce the cerebellar and fiber tract guys that perfectly match\n",
    "\n",
    "theyrecelltypeterritories = pd.concat([celltypematched.loc[celltypematched['colocalization'] > 200,:], celltypematchedall.loc[celltypematchedall['colocalization'] > 1200,:], celltypematched.loc[celltypematched['celltype_macoscko'].notna(),:]])\n",
    "theyrecelltypeterritories = theyrecelltypeterritories.loc[\n",
    "    ~theyrecelltypeterritories.index.duplicated(keep='first')\n",
    "]\n",
    "theyrecelltypeterritories # so 304 that match with a permissive threshold at 200 and the OR on the macoscko data..."
   ]
  },
  {
   "cell_type": "code",
   "execution_count": null,
   "id": "8f8a0a0d-59e9-4342-8243-6f0602dc4d74",
   "metadata": {},
   "outputs": [],
   "source": [
    "fiber = np.setdiff1d(modal_division.loc[(modal_division == \"fiber tracts\")].index, theyrecelltypeterritories.index)\n",
    "CB = np.setdiff1d(modal_division.loc[(modal_division == \"Cerebellum\")].index, theyrecelltypeterritories.index)\n",
    "\n",
    "len(CB)+len(fiber) # 122 that are cerebellar or fiber tract therefore difficult to track, mostly are cerebellar - large diversity there!"
   ]
  },
  {
   "cell_type": "code",
   "execution_count": null,
   "id": "0280e499-275b-42c7-ab98-053643d6178e",
   "metadata": {},
   "outputs": [],
   "source": [
    "len(CB)"
   ]
  },
  {
   "cell_type": "code",
   "execution_count": null,
   "id": "1541c252-bb91-4920-8b27-5b7df0a2d248",
   "metadata": {},
   "outputs": [],
   "source": [
    "len(fiber)"
   ]
  },
  {
   "cell_type": "code",
   "execution_count": null,
   "id": "d8741d61-d1a3-4150-a26e-956bdf81a7f1",
   "metadata": {},
   "outputs": [],
   "source": [
    "whouare = celltypematchedall.loc[~celltypematchedall.index.isin(theyrecelltypeterritories.index),:]\n",
    "whouare = whouare.loc[~whouare.index.isin(CB),:]\n",
    "whouare = whouare.loc[~whouare.index.isin(fiber),:]\n",
    "whouare"
   ]
  },
  {
   "cell_type": "code",
   "execution_count": null,
   "id": "9bfbd3fb-6f49-4461-a7d3-d49f4ddfcf9b",
   "metadata": {},
   "outputs": [],
   "source": [
    "theyrecelltypeterritories.shape[0] / (len(fiber) + len(CB) + theyrecelltypeterritories.shape[0]) # 72% lipizones at some level overlap CT territories"
   ]
  },
  {
   "cell_type": "code",
   "execution_count": null,
   "id": "c9096d88-8125-4fc6-ae70-aad181f484df",
   "metadata": {},
   "outputs": [],
   "source": [
    "# assess agreement between two ST technologies\n",
    "macosckoonly = pd.isna(theyrecelltypeterritories['celltype']) & ~pd.isna(theyrecelltypeterritories['celltype_macoscko'])\n",
    "np.sum(macosckoonly)"
   ]
  },
  {
   "cell_type": "code",
   "execution_count": null,
   "id": "174292b8-c530-41e1-adfd-517bd7dfcf55",
   "metadata": {
    "tags": []
   },
   "outputs": [],
   "source": [
    "merfishonly = ~pd.isna(theyrecelltypeterritories['celltype']) & pd.isna(theyrecelltypeterritories['celltype_macoscko'])\n",
    "np.sum(merfishonly)"
   ]
  },
  {
   "cell_type": "code",
   "execution_count": null,
   "id": "732033c4-16fa-452b-af77-719636c31406",
   "metadata": {},
   "outputs": [],
   "source": [
    "both = ~pd.isna(theyrecelltypeterritories['celltype']) & ~pd.isna(theyrecelltypeterritories['celltype_macoscko'])\n",
    "np.sum(both)"
   ]
  },
  {
   "cell_type": "code",
   "execution_count": null,
   "id": "eeb3df40-5c33-4e82-8a0f-d6e7e2b51c3f",
   "metadata": {},
   "outputs": [],
   "source": [
    "# characterize lipizones that are not cell types: what divisions are they found in? what branch of our hierarchy?\n",
    "division_difficultmatch = pd.Series([modal_division[x] for x in whouare.index])\n",
    "numeratore = division_difficultmatch.value_counts()\n",
    "numeratore"
   ]
  },
  {
   "cell_type": "code",
   "execution_count": null,
   "id": "f107b2d5-53f6-4cc5-9911-02c5538b63f7",
   "metadata": {},
   "outputs": [],
   "source": [
    "to_drop = set(CB) | set(fiber)\n",
    "\n",
    "filtered_modal_division = {\n",
    "    k: v\n",
    "    for k, v in modal_division.items()\n",
    "    if k not in to_drop\n",
    "}\n",
    "\n",
    "len(filtered_modal_division)"
   ]
  },
  {
   "cell_type": "code",
   "execution_count": null,
   "id": "a2ddfd3b-1f50-4c08-9823-e46357b7d8d9",
   "metadata": {},
   "outputs": [],
   "source": [
    "denominatore = pd.Series(list(filtered_modal_division.values())).value_counts()\n",
    "num_aligned = numeratore.reindex(denominatore.index, fill_value=0)\n",
    "ratio = num_aligned / denominatore\n",
    "ratio.sort_values() # hindbrain, striatum, midbrain. complex, mixed, myelinated... good!"
   ]
  },
  {
   "cell_type": "code",
   "execution_count": null,
   "id": "f1c8d7f0-0857-4e84-91ee-ff3568f0bb40",
   "metadata": {},
   "outputs": [],
   "source": [
    "for i in range(2, 11):\n",
    "    data['level_'+str(i)] = data['level_'+str(i-1)].astype(str) + data['level_'+str(i)].astype(str)\n",
    "    \n",
    "modal_lev2 = (\n",
    "    data\n",
    "    .groupby('lipizone_names')['level_2']\n",
    "    .agg(lambda x: x.value_counts().idxmax())\n",
    ")\n",
    "\n",
    "division_difficultmatch = pd.Series([modal_lev2[x] for x in whouare.index])\n",
    "numeratore = division_difficultmatch.value_counts()\n",
    "\n",
    "to_drop = set(CB) | set(fiber)\n",
    "\n",
    "filtered_modal_lev2 = {\n",
    "    k: v\n",
    "    for k, v in modal_lev2.items()\n",
    "    if k not in to_drop\n",
    "}\n",
    "\n",
    "denominatore = pd.Series(list(filtered_modal_lev2.values())).value_counts()\n",
    "\n",
    "num_aligned = numeratore.reindex(denominatore.index, fill_value=0)\n",
    "ratio = num_aligned / denominatore\n",
    "ratio # it's as expected overwhelmingly WM stuff!!!! builds a strong link to downstream analyses! especially 11 enters in the 111 callosal et al branch :)"
   ]
  },
  {
   "cell_type": "code",
   "execution_count": null,
   "id": "95f73f74-a8ab-4dac-bc92-cb007ae60635",
   "metadata": {},
   "outputs": [],
   "source": []
  },
  {
   "cell_type": "markdown",
   "id": "1fa4129d-3266-4bdc-9c71-87700aa26d64",
   "metadata": {},
   "source": [
    "## Are there lipotypes?"
   ]
  },
  {
   "cell_type": "code",
   "execution_count": null,
   "id": "6b1c43d0-879a-4e34-b130-6ed70b7081ad",
   "metadata": {},
   "outputs": [],
   "source": [
    "theyrecelltypeterritories.to_csv(\"./zenodo/csv/theyrecelltypeterritories.csv\")"
   ]
  },
  {
   "cell_type": "code",
   "execution_count": null,
   "id": "fef05052-7d78-4e51-8bca-5f48c1abd4a4",
   "metadata": {},
   "outputs": [],
   "source": [
    "theyrecelltypeterritories['celltype'].value_counts()[:10] # for these cell types we have > 1 lipizone, what could explain that?"
   ]
  },
  {
   "cell_type": "code",
   "execution_count": null,
   "id": "30820886-0167-4470-a8c4-8425cda5aa3c",
   "metadata": {},
   "outputs": [],
   "source": [
    "theyrecelltypeterritories.loc[theyrecelltypeterritories['celltype'] == theyrecelltypeterritories['celltype'].value_counts()[:10].index[0],:]"
   ]
  },
  {
   "cell_type": "code",
   "execution_count": null,
   "id": "6e7a4ada-05fc-48f3-b412-782d0ad39601",
   "metadata": {
    "tags": []
   },
   "outputs": [],
   "source": [
    "for x in range(10):\n",
    "    lipotype_h1 = theyrecelltypeterritories.loc[theyrecelltypeterritories['celltype'] == theyrecelltypeterritories['celltype'].value_counts()[:10].index[x],:].index\n",
    "\n",
    "    unique_sections = data[\"SectionID\"].unique()[:28]\n",
    "\n",
    "    fig, axs = plt.subplots(4, 8, figsize=(32, 16))\n",
    "    axs = axs.flatten()\n",
    "\n",
    "    for i, section_value in enumerate(unique_sections):\n",
    "        if i >= len(axs):\n",
    "            break\n",
    "        ax = axs[i]\n",
    "        section = data[data[\"SectionID\"] == section_value]\n",
    "        filtered_section = section.loc[section['lipizone_names'].isin(lipotype_h1),:]\n",
    "        print(len(filtered_section['lipizone_color'].unique()))\n",
    "\n",
    "        ax.scatter(filtered_section['z_index'], -filtered_section['y_index'],\n",
    "                        c=filtered_section['lipizone_color'].astype(\"category\").cat.codes, cmap=\"tab20\", s=1.0,\n",
    "                        alpha=1, zorder=1, rasterized=True)  \n",
    "\n",
    "        filtered_section_contour = section.loc[section['boundary'] == 1,:]\n",
    "        ax.scatter(filtered_section_contour['z_index'], -filtered_section_contour['y_index'],\n",
    "                        c='black', s=0.01, rasterized=True, zorder=2, alpha=0.9)\n",
    "\n",
    "        ax.set_aspect('equal')\n",
    "\n",
    "    for ax in axs:\n",
    "        ax.axis('off') \n",
    "\n",
    "    plt.tight_layout()\n",
    "    plt.show()"
   ]
  },
  {
   "cell_type": "code",
   "execution_count": null,
   "id": "1c5430fb-efe0-4d0d-88cd-625b78942b0d",
   "metadata": {},
   "outputs": [],
   "source": [
    "# it's cortical and striatal mostly! these are the \"many lipidomic matches\""
   ]
  },
  {
   "cell_type": "code",
   "execution_count": null,
   "id": "3ab25552-1106-45c1-bbf4-ecf6ebd0a50f",
   "metadata": {
    "tags": []
   },
   "outputs": [],
   "source": [
    "for x in range(10):\n",
    "    lipotype_h1 = theyrecelltypeterritories.loc[theyrecelltypeterritories['celltype'] == theyrecelltypeterritories['celltype'].value_counts()[theyrecelltypeterritories['celltype'].value_counts() ==2][:10].index[x],:].index\n",
    "\n",
    "    unique_sections = data[\"SectionID\"].unique()[:28]\n",
    "\n",
    "    fig, axs = plt.subplots(4, 8, figsize=(32, 16))\n",
    "    axs = axs.flatten()\n",
    "\n",
    "    for i, section_value in enumerate(unique_sections):\n",
    "        if i >= len(axs):\n",
    "            break\n",
    "        ax = axs[i]\n",
    "        section = data[data[\"SectionID\"] == section_value]\n",
    "        filtered_section = section.loc[section['lipizone_names'].isin(lipotype_h1),:]\n",
    "        print(len(filtered_section['lipizone_color'].unique()))\n",
    "\n",
    "        ax.scatter(filtered_section['z_index'], -filtered_section['y_index'],\n",
    "                        c=filtered_section['lipizone_color'].astype(\"category\").cat.codes, cmap=\"tab20\", s=1.0,\n",
    "                        alpha=1, zorder=1, rasterized=True)  \n",
    "\n",
    "        filtered_section_contour = section.loc[section['boundary'] == 1,:]\n",
    "        ax.scatter(filtered_section_contour['z_index'], -filtered_section_contour['y_index'],\n",
    "                        c='black', s=0.01, rasterized=True, zorder=2, alpha=0.9)\n",
    "\n",
    "        ax.set_aspect('equal')\n",
    "\n",
    "    for ax in axs:\n",
    "        ax.axis('off') \n",
    "\n",
    "    plt.tight_layout()\n",
    "    plt.show() # cerebellum double layering in there!!!"
   ]
  },
  {
   "cell_type": "code",
   "execution_count": null,
   "id": "22949124-259c-4e9e-8a24-442a629cad87",
   "metadata": {},
   "outputs": [],
   "source": [
    "theyrecelltypeterritories['celltype'].value_counts()[theyrecelltypeterritories['celltype'].value_counts() > 1] # 66 cell types appear with 1+ lipizones"
   ]
  },
  {
   "cell_type": "code",
   "execution_count": null,
   "id": "b0e94eb5-4443-460c-8f5b-b270162c43ca",
   "metadata": {},
   "outputs": [],
   "source": [
    "len(theyrecelltypeterritories['celltype'].unique())"
   ]
  },
  {
   "cell_type": "code",
   "execution_count": null,
   "id": "028e48f0-cbe1-44f9-942c-92ff2d6386b9",
   "metadata": {},
   "outputs": [],
   "source": []
  },
  {
   "cell_type": "markdown",
   "id": "5e52cf1b-f04e-46fe-89d8-489899311146",
   "metadata": {},
   "source": [
    "## Maybe the right granularity to study the cell types vs the lipizones is the subclass"
   ]
  },
  {
   "cell_type": "code",
   "execution_count": null,
   "id": "293f077a-111b-4804-9ec1-f63121cde01a",
   "metadata": {
    "tags": []
   },
   "outputs": [],
   "source": [
    "import scipy.cluster.hierarchy as sch\n",
    "from tqdm import tqdm\n",
    "\n",
    "LABEL1s = ['level_6', 'level_7', 'level_8', 'level_9', 'level_10', 'lipizone_names']\n",
    "LABEL2s = ['labels_subclass']\n",
    "\n",
    "normalized_dfs = []\n",
    "NMATCHEDPIXELS = 100\n",
    "MINCOLOC = 25 ############ HARDCORE\n",
    "\n",
    "lipizonescelltypes = []\n",
    "for LABEL1 in tqdm(LABEL1s):\n",
    "    for LABEL2 in LABEL2s:\n",
    "        lipizoneZ = atlas[LABEL1].copy().values\n",
    "        celltypeZ = neighs[LABEL2].copy().values\n",
    "        cmat = pd.crosstab(lipizoneZ, celltypeZ)\n",
    "        normalized_df = cmat / cmat.sum() # fraction \n",
    "        normalized_df = (normalized_df.T / normalized_df.T.mean()).T ## switch to enrichments\n",
    "        normalized_df1 = normalized_df.copy()\n",
    "\n",
    "        cmat = pd.crosstab(lipizoneZ, celltypeZ).T\n",
    "        normalized_df = cmat / cmat.sum() # fraction \n",
    "        normalized_df = (normalized_df.T / normalized_df.T.mean()) ## switch to enrichments\n",
    "        normalized_df2 = normalized_df.copy()\n",
    "\n",
    "        normalized_df = normalized_df2 * normalized_df1\n",
    "        normalized_df[cmat.T < NMATCHEDPIXELS] = 0 #####################\n",
    "        normalized_df = normalized_df.loc[:, normalized_df.sum() > MINCOLOC] #####################\n",
    "\n",
    "        linkage = sch.linkage(sch.distance.pdist(normalized_df.T), method='weighted', optimal_ordering=True)\n",
    "        order = sch.leaves_list(linkage)\n",
    "        normalized_df = normalized_df.iloc[:, order]\n",
    "\n",
    "        order = np.argmax(normalized_df.values, axis=1)\n",
    "        order = np.argsort(order)\n",
    "        normalized_df = normalized_df.iloc[order,:]\n",
    "\n",
    "        normalized_dfs.append(normalized_df)"
   ]
  },
  {
   "cell_type": "code",
   "execution_count": null,
   "id": "78896bd1-fc32-47a4-9984-d2549f658693",
   "metadata": {},
   "outputs": [],
   "source": [
    "import pandas as pd\n",
    "\n",
    "bools = [(df.max() > 100) for df in normalized_dfs]\n",
    "\n",
    "combined = pd.concat(bools, axis=1).any(axis=1)\n",
    "\n",
    "combined"
   ]
  },
  {
   "cell_type": "code",
   "execution_count": null,
   "id": "4f0a8553-87cd-4eae-8937-1d2787c8d633",
   "metadata": {},
   "outputs": [],
   "source": [
    "np.sum(combined) # even at 100 just a minority of subclasses is captured! at any level!"
   ]
  },
  {
   "cell_type": "code",
   "execution_count": null,
   "id": "23060697-6849-4abd-91f7-f14cfa3b57f8",
   "metadata": {},
   "outputs": [],
   "source": [
    "# now we'd need to characterize the subclasses that are found vs those that are not, what distinguishes them?\n",
    "\n",
    "cmat.sum(axis=1).sort_values()[cmat.sum(axis=1).sort_values() > MINCOLOC] # so 289 subclasses have at least 30 pixels mapped to our data\n",
    "\n",
    "# but only 97 are detected. why?"
   ]
  },
  {
   "cell_type": "code",
   "execution_count": null,
   "id": "46b0cd8d-e0cf-4bcf-8502-c31749fe34a6",
   "metadata": {},
   "outputs": [],
   "source": [
    "cmat = cmat.loc[cmat.sum(axis=1).sort_values()[cmat.sum(axis=1).sort_values() > MINCOLOC].index,:]\n",
    "\n",
    "cmat_undetected = cmat.loc[~cmat.index.isin(combined.index[combined]),:]\n",
    "cmat_undetected"
   ]
  },
  {
   "cell_type": "code",
   "execution_count": null,
   "id": "aee14a7b-ed38-44c4-a505-63b49b9dad77",
   "metadata": {},
   "outputs": [],
   "source": [
    "cmat_undetected.index"
   ]
  },
  {
   "cell_type": "code",
   "execution_count": null,
   "id": "1ab2cd85-f02e-49c8-be71-eab55ba97907",
   "metadata": {
    "tags": []
   },
   "outputs": [],
   "source": [
    "import pickle\n",
    "from allensdk.core.mouse_connectivity_cache import MouseConnectivityCache\n",
    "mcc = MouseConnectivityCache(manifest_file='mouse_connectivity_manifest.json')\n",
    "annotation, _ = mcc.get_annotation_volume()\n",
    "merfish['x_index'] = (merfish['x_ccf']*40).astype(int)\n",
    "merfish['y_index'] = (merfish['y_ccf']*40).astype(int)\n",
    "merfish['z_index'] = (merfish['z_ccf']*40).astype(int)\n",
    "merfish['id'] = annotation[merfish['x_index'], merfish['y_index'], merfish['z_index']]\n",
    "\n",
    "file_path = './zenodo/mixed/allen_name_to_annots.pkl'\n",
    "\n",
    "with open(file_path, 'rb') as file:\n",
    "    allen_name_to_annots = pickle.load(file)\n",
    "\n",
    "divisions = ['Olfactory areas', 'Isocortex', 'Hippocampal formation', 'Cortical subplate', 'Striatum', 'Pallidum', 'Thalamus', 'Hypothalamus', 'Midbrain', 'Hindbrain', 'Cerebellum', 'fiber tracts', 'ventricular systems']#, ventricular systems']\n",
    "\n",
    "merfish['division'] = \"General\"\n",
    "for i in divisions:\n",
    "    merfish['division'][merfish['id'].isin(allen_name_to_annots[i])] = i\n",
    "    \n",
    "merfish['division'].value_counts()"
   ]
  },
  {
   "cell_type": "code",
   "execution_count": null,
   "id": "eb27a611-b8ff-4ff8-aa2a-602847880cb6",
   "metadata": {},
   "outputs": [],
   "source": [
    "numeratore = merfish.loc[merfish['labels_subclass'].isin(cmat_undetected.index), 'division'].value_counts()\n",
    "\n",
    "denominatore = merfish.loc[:, 'division'].value_counts()\n",
    "\n",
    "num_aligned = numeratore.reindex(denominatore.index, fill_value=0)\n",
    "ratio = num_aligned / denominatore\n",
    "ratio.sort_values() # wm/mixed regions stand out, reassuringly. only the HY is surprising... and the overall high number"
   ]
  },
  {
   "cell_type": "code",
   "execution_count": null,
   "id": "04dc80ea-8f8b-4415-9087-0148cdd14539",
   "metadata": {},
   "outputs": [],
   "source": [
    "modal_mer = (\n",
    "     merfish.loc[merfish['labels_subclass'].isin(cmat_undetected.index), :]\n",
    "    .groupby('labels_subclass')['division']\n",
    "    .agg(lambda x: x.value_counts().idxmax())\n",
    ")\n",
    "modal_mer"
   ]
  },
  {
   "cell_type": "code",
   "execution_count": null,
   "id": "3b68e867-c902-44db-9a88-819e20ae9f0a",
   "metadata": {},
   "outputs": [],
   "source": [
    "modal_mer.value_counts() # again in line, with the HY but indeed in HY there are only 2 prevalent, large lipizones..."
   ]
  },
  {
   "cell_type": "code",
   "execution_count": null,
   "id": "7a9b7cf5-501a-4ee2-a401-0bb5f0586f21",
   "metadata": {},
   "outputs": [],
   "source": [
    "check = cmat_undetected.loc[modal_mer[modal_mer == \"Hypothalamus\"].index,:].sum().sort_values()\n",
    "(check[\"_1\"] + check[\"Paratrochlear nucleus\"]) / check.sum() # they overall cover 33% of the voxels in the region, making fine-grained analysis there very difficul"
   ]
  },
  {
   "cell_type": "code",
   "execution_count": null,
   "id": "d78fb22b-bfd7-4125-b7ff-ad5ba1632991",
   "metadata": {},
   "outputs": [],
   "source": []
  },
  {
   "cell_type": "markdown",
   "id": "72528a59-4252-437b-b390-0d1906e4bcaf",
   "metadata": {},
   "source": [
    "## Go on a lipizone vs cluster adventure to estimate cell type lipidomes and do nice plots"
   ]
  },
  {
   "cell_type": "code",
   "execution_count": null,
   "id": "5d66c7cf-23a2-4f05-ad28-75552decc8f7",
   "metadata": {},
   "outputs": [],
   "source": [
    "import scipy.cluster.hierarchy as sch\n",
    "\n",
    "LABEL1 = \"lipizone_names\"\n",
    "LABEL2 = \"labels_cluster\"\n",
    "\n",
    "lipizoneZ = atlas[LABEL1].copy().values\n",
    "celltypeZ = neighs[LABEL2].copy().values\n",
    "cmat = pd.crosstab(lipizoneZ, celltypeZ)\n",
    "normalized_df = cmat / cmat.sum() # fraction \n",
    "normalized_df = (normalized_df.T / normalized_df.T.mean()).T ## switch to enrichments\n",
    "normalized_df1 = normalized_df.copy()\n",
    "\n",
    "cmat = pd.crosstab(lipizoneZ, celltypeZ).T\n",
    "normalized_df = cmat / cmat.sum() # fraction \n",
    "normalized_df = (normalized_df.T / normalized_df.T.mean()) ## switch to enrichments\n",
    "normalized_df2 = normalized_df.copy()\n",
    "\n",
    "normalized_df = normalized_df2 * normalized_df1\n",
    "normalized_df[cmat.T < 20] = 0 #####################\n",
    "normalized_df = normalized_df.loc[:, normalized_df.sum() > 200] #####################\n",
    "\n",
    "linkage = sch.linkage(sch.distance.pdist(normalized_df.T), method='weighted', optimal_ordering=True)\n",
    "order = sch.leaves_list(linkage)\n",
    "normalized_df = normalized_df.iloc[:, order]\n",
    "\n",
    "order = np.argmax(normalized_df.values, axis=1)\n",
    "order = np.argsort(order)\n",
    "normalized_df = normalized_df.iloc[order,:]"
   ]
  },
  {
   "cell_type": "code",
   "execution_count": null,
   "id": "134b0c50-88f7-44a8-a144-7f57214aa326",
   "metadata": {},
   "outputs": [],
   "source": [
    "plt.imshow(normalized_df, vmin=0, vmax=400)"
   ]
  },
  {
   "cell_type": "code",
   "execution_count": null,
   "id": "2692d4c4-0eca-4ec4-a9eb-62fd77dca602",
   "metadata": {},
   "outputs": [],
   "source": [
    "normalized_df = normalized_df.loc[:, normalized_df.sum() > 0]"
   ]
  },
  {
   "cell_type": "code",
   "execution_count": null,
   "id": "6cf27d82-7587-486d-92a9-bb01236b49d5",
   "metadata": {},
   "outputs": [],
   "source": [
    "import pandas as pd\n",
    "import numpy as np\n",
    "import seaborn as sns\n",
    "import matplotlib.pyplot as plt\n",
    "from matplotlib.colors import to_rgb\n",
    "from matplotlib.patches import Patch\n",
    "import random\n",
    "\n",
    "unique_categories = neighs['labels_class'].unique().tolist()\n",
    "categories        = neighs['labels_class'].values\n",
    "n_categories      = len(unique_categories)\n",
    "beautiful_colors = sns.color_palette(\"husl\", n_categories).as_hex()\n",
    "random.shuffle(beautiful_colors)\n",
    "color_dict = {cat: beautiful_colors[i] for i, cat in enumerate(unique_categories)}\n",
    "color_dict['02 NP-CT-L6b Glut'] = \"#000000\"\n",
    "color_dict['01 IT-ET Glut'] = \"gray\"\n",
    "col_colors = [color_dict[cat] for cat in categories]\n",
    "\n",
    "vmin, vmax = 0, np.percentile(normalized_df.values, 98)\n",
    "\n",
    "data   = normalized_df.to_numpy()\n",
    "nrows, ncols = data.shape\n",
    "img    = np.zeros((nrows, ncols, 3))\n",
    "\n",
    "for j in range(ncols):\n",
    "    base = np.array(to_rgb(col_colors[j]))\n",
    "    for i in range(nrows):\n",
    "        nv = (data[i, j] - vmin) / (vmax - vmin)\n",
    "        nv = np.clip(nv, 0, 1)\n",
    "        img[i, j, :] = (1 - nv) * np.array([1, 1, 1]) + nv * base\n",
    "\n",
    "plt.figure(figsize=(20, 20))\n",
    "plt.imshow(img, aspect='auto')\n",
    "plt.xticks(\n",
    "    ticks=np.arange(ncols),\n",
    "    labels=[categories[j] for j in range(ncols)],\n",
    "    rotation=90\n",
    ")\n",
    "plt.yticks([])\n",
    "plt.title('Colocalization of lipizones and cell types')\n",
    "plt.tight_layout()\n",
    "#plt.savefig(\"celltype_vs_lipizones_merfish_matrix.pdf\")\n",
    "plt.show()\n",
    "\n",
    "legend_elements = [\n",
    "    Patch(facecolor=color, edgecolor='black', label=label)\n",
    "    for label, color in color_dict.items()\n",
    "]\n",
    "\n",
    "plt.figure(figsize=(8, 6))\n",
    "plt.legend(\n",
    "    handles=legend_elements,\n",
    "    loc='center left',\n",
    "    bbox_to_anchor=(1, 0.5),\n",
    "    title=\"Categories\"\n",
    ")\n",
    "plt.axis('off')\n",
    "plt.title(\"Color Legend\")\n",
    "plt.tight_layout()\n",
    "#plt.savefig(\"celltype_vs_lipizones_merfish.pdf\")\n",
    "plt.show()"
   ]
  },
  {
   "cell_type": "code",
   "execution_count": null,
   "id": "0d307b11-7bcd-4872-b908-14cbcdcd67c7",
   "metadata": {},
   "outputs": [],
   "source": [
    "normalized_df[normalized_df < 200] = 0 #### DANGEROUS, focus on cell type - matching lipizones only..."
   ]
  },
  {
   "cell_type": "code",
   "execution_count": null,
   "id": "a25bde87-dc65-4fbe-a3df-edddc5c11dd0",
   "metadata": {},
   "outputs": [],
   "source": [
    "normalized_df = normalized_df.loc[normalized_df.sum(axis=1) > 0,normalized_df.sum() > 0]\n",
    "normalized_df # pulite righe e colonne"
   ]
  },
  {
   "cell_type": "code",
   "execution_count": null,
   "id": "bf9a9baa-19ee-46b4-b1dc-16ebf3c0ed37",
   "metadata": {},
   "outputs": [],
   "source": []
  },
  {
   "cell_type": "code",
   "execution_count": null,
   "id": "6c98b96e-fbbe-4e20-9dd9-17c7270ed64c",
   "metadata": {
    "tags": []
   },
   "outputs": [],
   "source": [
    "import numpy as np\n",
    "import pandas as pd\n",
    "from sklearn.neighbors import NearestNeighbors\n",
    "import igraph as ig\n",
    "import leidenalg\n",
    "from sklearn.preprocessing import StandardScaler\n",
    "from sklearn.cluster import KMeans\n",
    "\n",
    "def top_n_feats(df, prefix, ns=(1,2,3,4,5,6,7,8,9,10)):\n",
    "    arr = df.values\n",
    "    max_n = max(ns)\n",
    "    idx = np.argpartition(-arr, max_n-1, axis=1)[:, :max_n]\n",
    "    row_idx = np.arange(arr.shape[0])[:, None]\n",
    "    top_vals = arr[row_idx, idx]\n",
    "    sorted_top = np.sort(top_vals, axis=1)[:, ::-1]\n",
    "    \n",
    "    out = {}\n",
    "    for n in ns:\n",
    "        out[f\"{prefix}_top{n}\"] = sorted_top[:, n-1]\n",
    "    return pd.DataFrame(out, index=df.index)\n",
    "\n",
    "dfs       = [normalized_df]\n",
    "prefixes  = ['normalized_df']\n",
    "\n",
    "blocks = [ top_n_feats(df, p) for df, p in zip(dfs, prefixes) ]\n",
    "combined = pd.concat(blocks, axis=1)\n",
    "\n",
    "scaler = StandardScaler()\n",
    "X_scaled = scaler.fit_transform(combined.T).T\n",
    "\n",
    "nbrs = NearestNeighbors(n_neighbors=10, metric='euclidean').fit(X_scaled)\n",
    "distances, indices = nbrs.kneighbors(X_scaled)\n",
    "\n",
    "edges = set()\n",
    "for i, neigh in enumerate(indices):\n",
    "    for j in neigh:\n",
    "        if i != j:\n",
    "            edges.add(tuple(sorted((i, j))))\n",
    "g = ig.Graph(list(edges), directed=False)\n",
    "\n",
    "partition = leidenalg.find_partition(\n",
    "    g,\n",
    "    leidenalg.RBConfigurationVertexPartition,\n",
    "    resolution_parameter=0.1\n",
    ")\n",
    "\n",
    "labels = np.array(partition.membership)\n",
    "combined['cluster'] = labels"
   ]
  },
  {
   "cell_type": "code",
   "execution_count": null,
   "id": "0b64c62a-4632-4fe1-b3b5-ddb81a4f9b35",
   "metadata": {},
   "outputs": [],
   "source": [
    "plt.imshow(normalized_df, vmin=0, vmax=1000, cmap=\"Grays\")"
   ]
  },
  {
   "cell_type": "code",
   "execution_count": null,
   "id": "6c495710-13ce-4eab-8e31-dea12e3c1018",
   "metadata": {},
   "outputs": [],
   "source": [
    "normalized_df.max().sort_values()"
   ]
  },
  {
   "cell_type": "code",
   "execution_count": null,
   "id": "3bba9682-b263-4381-9635-3968508e6122",
   "metadata": {},
   "outputs": [],
   "source": [
    "normalized_df.max(axis=1).sort_values()"
   ]
  },
  {
   "cell_type": "code",
   "execution_count": null,
   "id": "774b64b8-4a41-4ae3-80e0-441ba932d3db",
   "metadata": {},
   "outputs": [],
   "source": [
    "plt.imshow(normalized_df.loc[combined.index[combined['cluster'] == 2],:], vmin=200, vmax=210)"
   ]
  },
  {
   "cell_type": "code",
   "execution_count": null,
   "id": "0458a772-4909-47c7-a882-417454e103c3",
   "metadata": {},
   "outputs": [],
   "source": [
    "plt.imshow(normalized_df.loc[combined.index[combined['cluster'] == 1],:], vmin=200, vmax=800)"
   ]
  },
  {
   "cell_type": "code",
   "execution_count": null,
   "id": "6a4ada81-2c4a-41ca-962a-0f014b0ed815",
   "metadata": {},
   "outputs": [],
   "source": [
    "plt.imshow(normalized_df.loc[combined.index[combined['cluster'] == 0],:], vmin=200, vmax=800)"
   ]
  },
  {
   "cell_type": "raw",
   "id": "73dcc6c5-cee1-4ac8-9fae-75a0d664bc8c",
   "metadata": {},
   "source": [
    "combined[combined['cluster'] == 0]"
   ]
  },
  {
   "cell_type": "code",
   "execution_count": null,
   "id": "0901a98a-afce-4cd8-a418-db4702ba06ec",
   "metadata": {
    "tags": []
   },
   "outputs": [],
   "source": [
    "for iii in np.random.choice(combined[combined['cluster'] == 3].index, 5):\n",
    "    serie = normalized_df.loc[iii,:].sort_values()[::-1]\n",
    "\n",
    "    plt.figure(figsize=(4, 3))\n",
    "    serie[:10].plot(kind='bar')\n",
    "    plt.xticks(rotation=45, ha='right')\n",
    "    plt.tight_layout()\n",
    "    plt.show()"
   ]
  },
  {
   "cell_type": "code",
   "execution_count": null,
   "id": "e3289ed2-398c-4918-9a7b-17dad482513f",
   "metadata": {
    "tags": []
   },
   "outputs": [],
   "source": [
    "for iii in np.random.choice(combined[combined['cluster'] == 2].index, 10):\n",
    "    serie = normalized_df.loc[iii,:].sort_values()[::-1]\n",
    "\n",
    "    plt.figure(figsize=(4, 3))\n",
    "    serie[:10].plot(kind='bar')\n",
    "    plt.xticks(rotation=45, ha='right')\n",
    "    plt.tight_layout()\n",
    "    plt.show()"
   ]
  },
  {
   "cell_type": "code",
   "execution_count": null,
   "id": "9aefddde-f4c6-425f-88c9-d78d01893b4d",
   "metadata": {
    "tags": []
   },
   "outputs": [],
   "source": [
    "for iii in np.random.choice(combined[combined['cluster'] == 1].index, 10):\n",
    "    serie = normalized_df.loc[iii,:].sort_values()[::-1]\n",
    "\n",
    "    plt.figure(figsize=(4, 3))\n",
    "    serie[:10].plot(kind='bar')\n",
    "    plt.xticks(rotation=45, ha='right')\n",
    "    plt.tight_layout()\n",
    "    plt.show()"
   ]
  },
  {
   "cell_type": "code",
   "execution_count": null,
   "id": "bf41fb9b-747e-4c92-afe4-36e6426798d3",
   "metadata": {
    "tags": []
   },
   "outputs": [],
   "source": [
    "for iii in np.random.choice(combined[combined['cluster'] == 0].index, 10):\n",
    "    serie = normalized_df.loc[iii,:].sort_values()[::-1]\n",
    "\n",
    "    plt.figure(figsize=(4, 3))\n",
    "    serie[:10].plot(kind='bar')\n",
    "    plt.xticks(rotation=45, ha='right')\n",
    "    plt.tight_layout()\n",
    "    plt.show()"
   ]
  },
  {
   "cell_type": "code",
   "execution_count": null,
   "id": "ece3f059-5fa0-4a8f-80e9-8cda1908e42d",
   "metadata": {},
   "outputs": [],
   "source": [
    "# 3 and 2 --> 1:1\n",
    "# 1 --> 1 very prevalent, others but less\n",
    "# 0 --> multiple matching cell types"
   ]
  },
  {
   "cell_type": "code",
   "execution_count": null,
   "id": "2db6a244-7b99-4d9d-acc3-7e58c981cc95",
   "metadata": {},
   "outputs": [],
   "source": [
    "tmp1 = normalized_df.loc[combined.index[combined['cluster'] == 1],:]\n",
    "tmp1 = (tmp1.T / tmp1.max(axis=1)).T\n",
    "tmp1 = tmp1.loc[:,tmp1.sum() > 0.95]\n",
    "linkage = sch.linkage(sch.distance.pdist(tmp1.T), method='weighted', optimal_ordering=True)\n",
    "order = sch.leaves_list(linkage)\n",
    "tmp1 = tmp1.iloc[:, order]\n",
    "\n",
    "order = np.argmax(tmp1.values, axis=1)\n",
    "order = np.argsort(order)\n",
    "tmp1 = tmp1.iloc[order,:]\n",
    "plt.imshow(tmp1, vmin=0.1, vmax=1)"
   ]
  },
  {
   "cell_type": "code",
   "execution_count": null,
   "id": "8c59f33e-87dd-4578-bd1e-8cf0d1c3f4ab",
   "metadata": {},
   "outputs": [],
   "source": [
    "tmp1 = normalized_df.loc[combined.index[combined['cluster'] == 0],:]\n",
    "tmp1 = (tmp1.T / tmp1.max(axis=1)).T\n",
    "tmp1 = tmp1.loc[:,tmp1.sum() > 0.95]\n",
    "linkage = sch.linkage(sch.distance.pdist(tmp1.T), method='weighted', optimal_ordering=True)\n",
    "order = sch.leaves_list(linkage)\n",
    "tmp1 = tmp1.iloc[:, order]\n",
    "\n",
    "order = np.argmax(tmp1.values, axis=1)\n",
    "order = np.argsort(order)\n",
    "tmp1 = tmp1.iloc[order,:]\n",
    "plt.imshow(tmp1, vmin=0.1, vmax=1)"
   ]
  },
  {
   "cell_type": "code",
   "execution_count": null,
   "id": "82f5c8ca-43be-4077-81be-d32421e99103",
   "metadata": {},
   "outputs": [],
   "source": [
    "tmp1 = normalized_df.loc[combined.index[(combined['cluster'] == 2) | (combined['cluster'] == 3)],:]\n",
    "tmp1 = (tmp1.T / tmp1.max(axis=1)).T\n",
    "tmp1 = tmp1.loc[:,tmp1.sum() > 0.95]\n",
    "linkage = sch.linkage(sch.distance.pdist(tmp1.T), method='weighted', optimal_ordering=True)\n",
    "order = sch.leaves_list(linkage)\n",
    "tmp1 = tmp1.iloc[:, order]\n",
    "\n",
    "order = np.argmax(tmp1.values, axis=1)\n",
    "order = np.argsort(order)\n",
    "tmp1 = tmp1.iloc[order,:]\n",
    "plt.imshow(tmp1, vmin=0.1, vmax=1)"
   ]
  },
  {
   "cell_type": "code",
   "execution_count": null,
   "id": "8ea0c075-5246-4a55-ae92-aedd3c3781b6",
   "metadata": {},
   "outputs": [],
   "source": [
    "tmp1 = normalized_df.copy()\n",
    "tmp1 = (tmp1.T / tmp1.max(axis=1)).T\n",
    "tmp1 = tmp1.loc[:,tmp1.max() == 1]\n",
    "linkage = sch.linkage(sch.distance.pdist(tmp1.T), method='weighted', optimal_ordering=True)\n",
    "order = sch.leaves_list(linkage)\n",
    "tmp1 = tmp1.iloc[:, order]\n",
    "\n",
    "order = np.argmax(tmp1.values, axis=1)\n",
    "order = np.argsort(order)\n",
    "tmp1 = tmp1.iloc[order,:]\n",
    "plt.imshow(tmp1, vmin=0.1, vmax=1, cmap=\"Grays\")"
   ]
  },
  {
   "cell_type": "code",
   "execution_count": null,
   "id": "69f03b95-0fd0-4fc4-8ba6-f68ffe5a880b",
   "metadata": {},
   "outputs": [],
   "source": []
  },
  {
   "cell_type": "markdown",
   "id": "32989c93-cfc5-4dc0-9121-455ef52ad733",
   "metadata": {},
   "source": [
    "## Define the cell types lipidomes"
   ]
  },
  {
   "cell_type": "code",
   "execution_count": null,
   "id": "5d70150d-e2d5-4c9c-8903-c422ded8f5d2",
   "metadata": {},
   "outputs": [],
   "source": [
    "atlas = pd.read_parquet(\"./zenodo/maindata_2.parquet\")\n",
    "\n",
    "cols = atlas.columns[:173]\n",
    "vmin = atlas[cols].quantile(0.005)\n",
    "vmax = atlas[cols].quantile(0.995)\n",
    "\n",
    "atlas.loc[:, cols] = (atlas.loc[:, cols] - vmin) / (vmax - vmin)\n",
    "atlas.loc[:, cols] = atlas.loc[:, cols].clip(0,1)\n",
    "\n",
    "atlas['putative_celltype'] = atlas['lipizone_names'].map(theyrecelltypeterritories['celltype'])\n",
    "atlas['putative_celltype'] = atlas['putative_celltype'].fillna('0')\n",
    "atl = atlas.loc[atlas['putative_celltype'] != '0',:]\n",
    "celltypelipidome = atl.iloc[:,:173].groupby(atl['putative_celltype']).mean()\n",
    "celltypelipidome.to_csv(\"./zenodo/csv/celltypelipidome_viamatching_MERFISH.csv\")\n",
    "\n",
    "convtab=merfish[['labels_cluster', 'labels_class']].drop_duplicates().reset_index().iloc[:,1:]\n",
    "convtab['color'] = convtab['labels_class'].map(color_dict)\n",
    "color_dict2 = convtab.set_index('labels_cluster')['color'].to_dict()\n",
    "\n",
    "convtab=merfish[['labels_supertype', 'labels_class']].drop_duplicates().reset_index().iloc[:,1:]\n",
    "convtab['color'] = convtab['labels_class'].map(color_dict)\n",
    "color_dict3 = convtab.set_index('labels_supertype')['color'].to_dict()\n",
    "\n",
    "convtab=merfish[['labels_subclass', 'labels_class']].drop_duplicates().reset_index().iloc[:,1:]\n",
    "convtab['color'] = convtab['labels_class'].map(color_dict)\n",
    "color_dict4 = convtab.set_index('labels_subclass')['color'].to_dict()\n",
    "color_dict2 = color_dict | color_dict2 | color_dict3 | color_dict4"
   ]
  },
  {
   "cell_type": "code",
   "execution_count": null,
   "id": "0ddec10f-ad34-4a70-b45c-4fcb4cd12f49",
   "metadata": {},
   "outputs": [],
   "source": []
  },
  {
   "cell_type": "code",
   "execution_count": null,
   "id": "a58158fd-1297-475b-b3f0-bbb44fe003a3",
   "metadata": {},
   "outputs": [],
   "source": []
  }
 ],
 "metadata": {
  "kernelspec": {
   "display_name": "Python 3 (ipykernel)",
   "language": "python",
   "name": "python3"
  },
  "language_info": {
   "codemirror_mode": {
    "name": "ipython",
    "version": 3
   },
   "file_extension": ".py",
   "mimetype": "text/x-python",
   "name": "python",
   "nbconvert_exporter": "python",
   "pygments_lexer": "ipython3",
   "version": "3.10.10"
  }
 },
 "nbformat": 4,
 "nbformat_minor": 5
}
