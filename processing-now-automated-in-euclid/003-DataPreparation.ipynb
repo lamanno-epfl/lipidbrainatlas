{
 "cells": [
  {
   "cell_type": "code",
   "execution_count": null,
   "id": "1b93fe5c-1c5a-4baa-be3b-1f8e3991493f",
   "metadata": {},
   "outputs": [],
   "source": [
    "import zarr\n",
    "import numpy as np\n",
    "import matplotlib.pyplot as plt\n",
    "from tqdm import tqdm\n",
    "\n",
    "PATH_DATA = '/data/luca/lipidatlas/uMAIA_allbrains/021124_ALLBRAINS_normalised.zarr'\n",
    "\n",
    "root = zarr.open(PATH_DATA, mode='rb')\n",
    "PATH_MZ = np.sort(list(root.group_keys()))\n",
    "\n",
    "print(len(PATH_MZ))\n",
    "\n",
    "plt.imshow(np.exp(root[PATH_MZ[29]][10][:]))"
   ]
  },
  {
   "cell_type": "markdown",
   "id": "70b72326-d404-4df3-bba1-0c8a005ad18e",
   "metadata": {},
   "source": [
    "## Extract the data"
   ]
  },
  {
   "cell_type": "code",
   "execution_count": null,
   "id": "c8853732-a157-4d37-9d35-0452ed6ebde5",
   "metadata": {},
   "outputs": [],
   "source": [
    "datasetsize = 138 # OUR NUMBER OF ACQUISITIONS\n",
    "lipid_native_sections_array = np.full((len(PATH_MZ), datasetsize, 500, 500), np.nan)\n",
    "\n",
    "for LIPID in tqdm(range(len(PATH_MZ))):\n",
    "    for SECTION in range(datasetsize):\n",
    "        img = root[PATH_MZ[LIPID]][SECTION][:]\n",
    "        img_x, img_y = img.shape\n",
    "        lipid_native_sections_array[LIPID, SECTION, :img_x, :img_y] = img\n",
    "\n",
    "print(lipid_native_sections_array.shape)"
   ]
  },
  {
   "cell_type": "code",
   "execution_count": null,
   "id": "1bdedb15-ba23-471b-81f7-e802071b280e",
   "metadata": {},
   "outputs": [],
   "source": [
    "import pandas as pd\n",
    "\n",
    "# preparing a pixel x lipid dataframe (similar to \"cell x gene\")\n",
    "lipid_tensor = lipid_native_sections_array\n",
    "\n",
    "# flatten the tensor\n",
    "flattened_lipid_tensor = lipid_tensor.reshape(lipid_tensor.shape[0], -1)\n",
    "\n",
    "# generate temporary lipid names\n",
    "lipid_names = [\"lipid\" + str(i+1) for i in range(flattened_lipid_tensor.shape[0])]\n",
    "\n",
    "flattened_lipid_tensor"
   ]
  },
  {
   "cell_type": "code",
   "execution_count": null,
   "id": "d62db049-fbe6-456f-8a88-5836320004e0",
   "metadata": {},
   "outputs": [],
   "source": [
    "# generate pixel names that retain their spatial position as unique identifier\n",
    "column_names = []\n",
    "for i in range(lipid_tensor.shape[1]):\n",
    "    for j in range(lipid_tensor.shape[2]):\n",
    "        for k in range(lipid_tensor.shape[3]):\n",
    "            column_names.append(f\"section{i+1}_pixel{j+1}_{k+1}\")\n",
    "\n",
    "df = pd.DataFrame(flattened_lipid_tensor, index=lipid_names, columns=column_names)\n",
    "df"
   ]
  },
  {
   "cell_type": "code",
   "execution_count": null,
   "id": "548723fc-ac57-4e60-84be-9fb44408b780",
   "metadata": {},
   "outputs": [],
   "source": [
    "## removing out-of-brain pixels\n",
    "\n",
    "df_transposed = df.T\n",
    "\n",
    "df_transposed = df_transposed.dropna(how='all')\n",
    "\n",
    "df_transposed"
   ]
  },
  {
   "cell_type": "code",
   "execution_count": null,
   "id": "026246f8-1dde-4c52-8d44-b72fdcf298ec",
   "metadata": {},
   "outputs": [],
   "source": [
    "df_transposed.columns = PATH_MZ"
   ]
  },
  {
   "cell_type": "code",
   "execution_count": null,
   "id": "1c7ae8fe-d558-43a5-bf3e-70c0578d3305",
   "metadata": {},
   "outputs": [],
   "source": [
    "df_index = df_transposed.index.to_series().str.split('_', expand=True)\n",
    "df_index.columns = ['Section', 'x', 'y']\n",
    "\n",
    "df_index['Section'] = df_index['Section'].str.replace('section', '')\n",
    "df_index['x'] = df_index['x'].str.split('pixel').str.get(1)\n",
    "\n",
    "df_index = df_index.astype(int)\n",
    "\n",
    "df_transposed = df_transposed.join(df_index)\n",
    "\n",
    "pixels = df_transposed\n",
    "\n",
    "pixels"
   ]
  },
  {
   "cell_type": "code",
   "execution_count": null,
   "id": "bb8f9b76-97b2-4adf-a893-2f8db9347b45",
   "metadata": {},
   "outputs": [],
   "source": [
    "pixels.to_parquet(\"20241102_pixels_allipids_allbrains.parquet\")"
   ]
  },
  {
   "cell_type": "code",
   "execution_count": null,
   "id": "4c4f24b7-6a64-411b-88ec-488125c807c2",
   "metadata": {},
   "outputs": [],
   "source": []
  },
  {
   "cell_type": "markdown",
   "id": "9811367c-89e5-4e3c-87b4-cfe29d1648eb",
   "metadata": {},
   "source": [
    "## Exponentiate"
   ]
  },
  {
   "cell_type": "code",
   "execution_count": null,
   "id": "60958a5c-11cf-4c24-8f86-e6982b4fea23",
   "metadata": {},
   "outputs": [],
   "source": [
    "# restart the kernel due to memory\n",
    "\n",
    "import pandas as pd\n",
    "import zarr\n",
    "import numpy as np\n",
    "import matplotlib.pyplot as plt\n",
    "from tqdm import tqdm\n",
    "\n",
    "PATH_DATA = '/data/luca/lipidatlas/uMAIA_allbrains/021124_ALLBRAINS_normalised.zarr'\n",
    "\n",
    "### wait for the \"full\" dataset\n",
    "\n",
    "root = zarr.open(PATH_DATA, mode='rb')\n",
    "PATH_MZ = np.sort(list(root.group_keys()))\n",
    "\n",
    "pixels = pd.read_parquet(\"20241102_pixels_allipids_allbrains.parquet\")"
   ]
  },
  {
   "cell_type": "code",
   "execution_count": null,
   "id": "41b8eaef-914c-4a42-9d28-2e843d09ed25",
   "metadata": {},
   "outputs": [],
   "source": [
    "Nlipids = len(PATH_MZ)\n",
    "\n",
    "pixels.iloc[:,:Nlipids] = np.exp(pixels.iloc[:,:Nlipids])\n",
    "pixels"
   ]
  },
  {
   "cell_type": "code",
   "execution_count": null,
   "id": "90342c8d-5bf1-442f-a2e0-5d01fdfcee43",
   "metadata": {},
   "outputs": [],
   "source": [
    "pixels.to_parquet(\"20241102_exp_pixels_allipids_allbrains.parquet\")"
   ]
  },
  {
   "cell_type": "code",
   "execution_count": null,
   "id": "33763a1e-d17f-4022-9b34-1a816251fcd4",
   "metadata": {},
   "outputs": [],
   "source": []
  },
  {
   "cell_type": "markdown",
   "id": "1239de4d-080f-4f8a-b9c2-5623c5780ee7",
   "metadata": {},
   "source": [
    "## Metadata"
   ]
  },
  {
   "cell_type": "code",
   "execution_count": null,
   "id": "831e737d-d865-4d79-8ed2-faa7a08bcbc1",
   "metadata": {
    "tags": []
   },
   "outputs": [],
   "source": [
    "import pandas as pd\n",
    "import zarr\n",
    "import numpy as np\n",
    "import matplotlib.pyplot as plt\n",
    "from tqdm import tqdm\n",
    "\n",
    "#pixels = pd.read_parquet(\"20241024_exp_pixels_allipids_allbrains.parquet\")\n",
    "\n",
    "ind = pixels.index\n",
    "\n",
    "metadata = pd.read_csv(\"acquisitions_metadata.csv\")\n",
    "cols = np.array(pixels.columns)\n",
    "cols[-3] = \"SectionID\"\n",
    "pixels.columns = cols\n",
    "pixels.index = ind"
   ]
  },
  {
   "cell_type": "code",
   "execution_count": null,
   "id": "e5850230-943d-47e9-8933-deb80978e692",
   "metadata": {
    "tags": []
   },
   "outputs": [],
   "source": [
    "pixels = pixels.merge(metadata, left_on='SectionID', right_on='SectionID', how='left')"
   ]
  },
  {
   "cell_type": "code",
   "execution_count": null,
   "id": "21f02a68-d1bf-4bed-8e2c-cece0c7c1f2e",
   "metadata": {},
   "outputs": [],
   "source": [
    "pixels.index = ind\n",
    "pixels"
   ]
  },
  {
   "cell_type": "code",
   "execution_count": null,
   "id": "bfd6ccd9-135a-42ec-8ef6-e9c63ace93e6",
   "metadata": {},
   "outputs": [],
   "source": []
  },
  {
   "cell_type": "markdown",
   "id": "ba9bb466-ad2a-4fb5-91ee-40e00b4f06cd",
   "metadata": {},
   "source": [
    "## Remove background"
   ]
  },
  {
   "cell_type": "code",
   "execution_count": null,
   "id": "c4d80abe-0e08-4794-be1a-8653de7635c1",
   "metadata": {},
   "outputs": [],
   "source": [
    "## clean up from background pixels\n",
    "\n",
    "mask = (pixels.iloc[:, :len(PATH_MZ)] < 0.00011).all(axis=1)\n",
    "pixels = pixels[~mask]\n",
    "pixels"
   ]
  },
  {
   "cell_type": "code",
   "execution_count": null,
   "id": "9e678c7c-b7f0-45bb-81d4-5f31475f0165",
   "metadata": {},
   "outputs": [],
   "source": []
  },
  {
   "cell_type": "markdown",
   "id": "ecc475fb-4167-4388-a164-7f2bed393a40",
   "metadata": {},
   "source": [
    "## CCF coordinates"
   ]
  },
  {
   "cell_type": "code",
   "execution_count": null,
   "id": "26db4b30-ae24-47c3-a1ea-82ca88130baa",
   "metadata": {},
   "outputs": [],
   "source": [
    "# for the reference atlas\n",
    "\n",
    "coordinates_initialization = pd.read_hdf(\"ccf_coordinates_colas_initialization.h5ad\", key=\"table\")\n",
    "\n",
    "coordinates_initialization = coordinates_initialization[['xccf', 'yccf', 'zccf']]\n",
    "\n",
    "import pandas as pd\n",
    "import os\n",
    "import numpy as np\n",
    "\n",
    "files = np.sort(os.listdir(\"STalignOutput\"))\n",
    "files = files[files != '.ipynb_checkpoints']\n",
    "\n",
    "print(files)\n",
    "\n",
    "stal = []\n",
    "\n",
    "for xxx in files:\n",
    "    stal.append(pd.read_csv(os.getcwd()+\"/STalignOutput/\"+xxx, index_col=0))\n",
    "\n",
    "stal = pd.concat(stal)\n",
    "stal = stal[['density', 'y_index_new',\t'z_index_new']]\n",
    "\n",
    "stal['yccf'] = stal['y_index_new'] / 40\n",
    "stal['zccf'] = stal['z_index_new'] / 40\n",
    "\n",
    "coordinates_initialization = coordinates_initialization.loc[stal.index,:]\n",
    "\n",
    "stal['xccf'] = coordinates_initialization['xccf']\n",
    "stal['x_index'] = (stal['xccf']*40).astype(int)\n",
    "stal['y_index'] = (stal['yccf']*40).astype(int)\n",
    "stal['z_index'] = (stal['zccf']*40).astype(int)"
   ]
  },
  {
   "cell_type": "code",
   "execution_count": null,
   "id": "d92b7a21-d7eb-4f24-a7d8-e482c9dc4563",
   "metadata": {
    "tags": []
   },
   "outputs": [],
   "source": [
    "# for the second atlas\n",
    "\n",
    "import re\n",
    "exprs = []\n",
    "for i in range(metadata.loc[metadata['Sample'] == \"SecondAtlas\", :].shape[0]):\n",
    "    path = metadata.loc[metadata['Sample'] == \"SecondAtlas\", \"Path\"].iloc[i]\n",
    "    match = re.search(r'_(\\d+[A-Z])_', path)\n",
    "    if match:\n",
    "        exprs.append(match.group(1))\n",
    "    else:\n",
    "        match = re.search(r'_([A-Z]+\\d+)_', path)\n",
    "        if match:\n",
    "            exprs.append(match.group(1))\n",
    "        else:\n",
    "            exprs.append(None)"
   ]
  },
  {
   "cell_type": "code",
   "execution_count": null,
   "id": "e99f5609-926b-4295-bf37-3448309774c6",
   "metadata": {
    "tags": []
   },
   "outputs": [],
   "source": [
    "import os\n",
    "import skimage\n",
    "\n",
    "filez = os.listdir(\"/data/luca/lipidatlas/ManuscriptAnalysisRound2/Atlas_Brain3/\")\n",
    "filez = [file[:-len(\"_Coords.tif\")] for file in filez]\n",
    "\n",
    "matches = [re.findall(r\"\\[['\\\"]([^'\\\"]+)['\\\"]\\]\", text)[1] for text in filez]\n",
    "\n",
    "ms = []\n",
    "for m in matches:\n",
    "    if m[:2] == '2_':\n",
    "        ms.append(m[2:])\n",
    "    else:\n",
    "        ms.append(m)\n",
    "        \n",
    "print(len(ms)) # so 7 sections of brain 3 (OB i guess) are missing. \n",
    "exprssel = [e for e in exprs if e in ms]\n",
    "sorted_filez = pd.DataFrame(filez, index=ms).loc[exprssel,:]\n",
    "sorted_filez.columns = ['Path_coordinates']"
   ]
  },
  {
   "cell_type": "code",
   "execution_count": null,
   "id": "03720a3c-6ddf-4763-a8a6-a02955dea164",
   "metadata": {
    "tags": []
   },
   "outputs": [],
   "source": [
    "tmp = metadata.loc[metadata['Sample'] == \"SecondAtlas\", :]\n",
    "tmp.index = exprs\n",
    "\n",
    "tmp = tmp.loc[sorted_filez.index,:]\n",
    "tmp['Path_coordinates'] = sorted_filez['Path_coordinates']\n",
    "tmp"
   ]
  },
  {
   "cell_type": "code",
   "execution_count": null,
   "id": "21fcf33c-5a91-4a99-a57d-13beb9ec9a39",
   "metadata": {},
   "outputs": [],
   "source": [
    "import numpy as np\n",
    "import pandas as pd\n",
    "import skimage.io\n",
    "\n",
    "dfs = []\n",
    "for it in range(tmp.shape[0]):\n",
    "    xxx = tmp['Path_coordinates'].iloc[it]\n",
    "    yyy = tmp['SectionID'].iloc[it]\n",
    "\n",
    "    image = skimage.io.imread(f\"/data/luca/lipidatlas/ManuscriptAnalysisRound2/Atlas_Brain3/{xxx}_Coords.tif\")\n",
    "    height, width, _ = image.shape\n",
    "    x_coords, y_coords = np.meshgrid(np.arange(width), np.arange(height))\n",
    "    x_coords_flat = x_coords.flatten()\n",
    "    y_coords_flat = y_coords.flatten()\n",
    "    flattened_array = image.reshape(-1, 3)\n",
    "\n",
    "    df = pd.DataFrame(flattened_array, columns=['xccf', 'yccf', 'zccf'])\n",
    "\n",
    "    df['x_pos'] = x_coords_flat\n",
    "    df['y_pos'] = y_coords_flat\n",
    "    df.index = \"section\"+yyy.astype(str)+\"_pixel\"+(df['y_pos']+1).astype(str)+\"_\"+(df['x_pos']+1).astype(str)\n",
    "    df.drop(columns=['x_pos', 'y_pos'], inplace=True)\n",
    "\n",
    "    dfs.append(df)\n",
    "\n",
    "secondatlas_ccf = pd.concat(dfs)\n",
    "\n",
    "indexes = np.array(secondatlas_ccf.index)\n",
    "pixels_index_set = set(pixels.index)\n",
    "goodindexes = [ind for ind in indexes if ind in pixels_index_set]\n",
    "secondatlas_ccf = secondatlas_ccf.loc[goodindexes,:]\n",
    "secondatlas_ccf"
   ]
  },
  {
   "cell_type": "code",
   "execution_count": null,
   "id": "efdfea35-7435-4caa-9229-5f91b09636aa",
   "metadata": {
    "tags": []
   },
   "outputs": [],
   "source": [
    "secondatlas_ccf['x_index'] = (secondatlas_ccf['xccf']*40).astype(int)\n",
    "secondatlas_ccf['y_index'] = (secondatlas_ccf['yccf']*40).astype(int)\n",
    "secondatlas_ccf['z_index'] = (secondatlas_ccf['zccf']*40).astype(int)\n",
    "secondatlas_ccf"
   ]
  },
  {
   "cell_type": "code",
   "execution_count": null,
   "id": "9eccdfd7-a319-4e7c-b870-19eb1a7a4461",
   "metadata": {},
   "outputs": [],
   "source": [
    "ccf_dataframe = pd.concat([stal[[\"xccf\",\t\"yccf\",\"zccf\",\t\"x_index\",\t\"y_index\",\t\"z_index\"]], secondatlas_ccf], axis=0)"
   ]
  },
  {
   "cell_type": "code",
   "execution_count": null,
   "id": "91ba0f0e-afdc-40f8-9683-f7d94d57d351",
   "metadata": {},
   "outputs": [],
   "source": [
    "### there will be several NaN's wherever we do not yet have CCF coordinates\n",
    "pixels = pd.concat([pixels, ccf_dataframe], axis=1)\n",
    "pixels = pixels.dropna(subset=['Condition']) # remove the extrapixels unfiltered in the STAlign procedure\n",
    "pixels"
   ]
  },
  {
   "cell_type": "code",
   "execution_count": null,
   "id": "5698aebf-69fd-4439-8fa0-d5e97f9e8853",
   "metadata": {},
   "outputs": [],
   "source": [
    "pixels['Section'] = np.array(pixels['Section']).astype(int)"
   ]
  },
  {
   "cell_type": "code",
   "execution_count": null,
   "id": "8f5dbce6-aba7-4738-ab56-906ce8348505",
   "metadata": {},
   "outputs": [],
   "source": []
  },
  {
   "cell_type": "code",
   "execution_count": null,
   "id": "84368378-3e98-4c58-8fe4-143bf631eedc",
   "metadata": {},
   "outputs": [],
   "source": [
    "pixels.to_parquet(\"20241102_exp_pixels___allipids_allbrains.parquet\")"
   ]
  },
  {
   "cell_type": "code",
   "execution_count": null,
   "id": "776ff240-15a6-4a4b-937a-52abcf3c4d1e",
   "metadata": {},
   "outputs": [],
   "source": []
  },
  {
   "cell_type": "code",
   "execution_count": null,
   "id": "92190c42-46ba-45b4-84be-d306e21b0ad4",
   "metadata": {
    "tags": []
   },
   "outputs": [],
   "source": [
    "for samp in pixels['Sample'].unique():\n",
    "\n",
    "    data = pixels.loc[pixels['Sample'] == samp,:] # just do a check on a lipid to omit bad sections\n",
    "\n",
    "    global_min_z = data['x'].min()\n",
    "    global_max_z = data['x'].max()\n",
    "    global_min_y = data['y'].min() \n",
    "    global_max_y = data['y'].max()  \n",
    "\n",
    "    cmap = plt.cm.plasma\n",
    "\n",
    "    for currentPC in ['741.530795']:\n",
    "\n",
    "        fig, axes = plt.subplots(4, 11, figsize=(20, 10))\n",
    "        axes = axes.flatten()\n",
    "\n",
    "        for section in range(1, np.max(data['Section'])+1):\n",
    "            ax = axes[section - 1]\n",
    "            ddf = data[(data['Section'] == section)]\n",
    "\n",
    "            ax.scatter(ddf['y'], -ddf['x'], c=np.array(ddf[currentPC]), cmap=cmap, s=0.1,rasterized=True, vmin=np.percentile(ddf[currentPC], 10), vmax=np.percentile(ddf[currentPC], 98))\n",
    "            ax.axis('off')\n",
    "            ax.set_aspect('equal')  \n",
    "            ax.set_ylim(global_min_z, global_max_z)\n",
    "            ax.set_xlim(global_min_y, global_max_y)\n",
    "            ax.set_title(section)\n",
    "\n",
    "        ax = axes[31]\n",
    "        ax.axis('off')\n",
    "\n",
    "        plt.tight_layout(rect=[0, 0, 0.9, 1])\n",
    "        plt.show()"
   ]
  },
  {
   "cell_type": "code",
   "execution_count": null,
   "id": "c0a39ba1-6c8e-470a-8851-8f9374a2acf0",
   "metadata": {},
   "outputs": [],
   "source": []
  },
  {
   "cell_type": "markdown",
   "id": "f284f3e6-cc88-41da-8642-cf2b55d69243",
   "metadata": {},
   "source": [
    "## Allen metadata"
   ]
  },
  {
   "cell_type": "code",
   "execution_count": null,
   "id": "8a14336e-9e57-4172-ab9a-3f36f55cee9d",
   "metadata": {},
   "outputs": [],
   "source": [
    "from bg_atlasapi import BrainGlobeAtlas\n",
    "\n",
    "atlas = BrainGlobeAtlas(\"allen_mouse_25um\")\n",
    "reference_image = atlas.reference"
   ]
  },
  {
   "cell_type": "code",
   "execution_count": null,
   "id": "ce396ca1-e552-4857-beff-e609b3a68b3b",
   "metadata": {},
   "outputs": [],
   "source": [
    "import numpy as np\n",
    "\n",
    "erodedannot = np.load(\"eroded_annot.npy\")\n",
    "erodedannot.shape"
   ]
  },
  {
   "cell_type": "code",
   "execution_count": null,
   "id": "341287ea-dae6-45ef-93c6-06e4d584f589",
   "metadata": {},
   "outputs": [],
   "source": [
    "import pandas as pd \n",
    "\n",
    "pixels = pd.read_parquet(\"20241102_exp_pixels___allipids_allbrains.parquet\")"
   ]
  },
  {
   "cell_type": "code",
   "execution_count": null,
   "id": "842cdd7c-b288-48db-aa36-99e82e3b1600",
   "metadata": {},
   "outputs": [],
   "source": [
    "nan_mask = pixels[['x_index', 'y_index', 'z_index']].isna().any(axis=1)\n",
    "\n",
    "pixels['boundary'] = np.nan\n",
    "valid_pixels = pixels.loc[~nan_mask, ['x_index', 'y_index', 'z_index']]\n",
    "valid_indices = valid_pixels.astype(int)\n",
    "X_MAX, Y_MAX, Z_MAX = erodedannot.shape\n",
    "\n",
    "in_bounds_mask = (\n",
    "    (valid_indices['x_index'] >= 0) & (valid_indices['x_index'] < X_MAX) &\n",
    "    (valid_indices['y_index'] >= 0) & (valid_indices['y_index'] < Y_MAX) &\n",
    "    (valid_indices['z_index'] >= 0) & (valid_indices['z_index'] < Z_MAX)\n",
    ")\n",
    "\n",
    "valid_and_inbounds_indices = valid_indices.loc[in_bounds_mask]\n",
    "\n",
    "pixels.loc[valid_and_inbounds_indices.index, 'boundary'] = erodedannot[\n",
    "    valid_and_inbounds_indices['x_index'].values,\n",
    "    valid_and_inbounds_indices['y_index'].values,\n",
    "    valid_and_inbounds_indices['z_index'].values\n",
    "]"
   ]
  },
  {
   "cell_type": "code",
   "execution_count": null,
   "id": "16389028-40af-4fbd-addc-71dc8df7d341",
   "metadata": {},
   "outputs": [],
   "source": [
    "import matplotlib.pyplot as plt"
   ]
  },
  {
   "cell_type": "code",
   "execution_count": null,
   "id": "489f5ec5-6108-4b68-893f-93474adbd8bc",
   "metadata": {},
   "outputs": [],
   "source": [
    "# check the registration is good enough\n",
    "\n",
    "data=pixels.loc[(pixels['Sample'] == \"ReferenceAtlas\") | (pixels['Sample'] == \"SecondAtlas\"),:]"
   ]
  },
  {
   "cell_type": "code",
   "execution_count": null,
   "id": "835a8ee4-ce50-4820-a7f6-f66ffa23cc7f",
   "metadata": {},
   "outputs": [],
   "source": [
    "data"
   ]
  },
  {
   "cell_type": "code",
   "execution_count": null,
   "id": "68c097ee-b697-4baa-ae3f-27ab0069b5f2",
   "metadata": {
    "tags": []
   },
   "outputs": [],
   "source": [
    "for SEC in data['SectionID'].unique()[32:]: #brain 3 check\n",
    "    sec10 = data.loc[data['SectionID'] == SEC,:]\n",
    "    image_array = np.zeros((320, 456))\n",
    "    for _, row in sec10.iterrows():\n",
    "        try:\n",
    "            y = int(row['z_index']) ################## since casting the indexes to int with nan's (legit) is cumbersome\n",
    "            z = int(row['y_index'])\n",
    "            image_array[z, y] = row['870.540956']\n",
    "        except:\n",
    "            continue\n",
    "    plt.imshow(image_array)\n",
    "    image_array = np.zeros((320, 456))\n",
    "    for _, row in sec10.iterrows():\n",
    "        try:\n",
    "            y = int(row['z_index'])\n",
    "            z = int(row['y_index'])\n",
    "            x = int(row['x_index'])\n",
    "            image_array[z, y] = row['boundary']\n",
    "        except:\n",
    "            continue\n",
    "    smoothed_image = image_array\n",
    "    plt.imshow(smoothed_image, cmap=\"Grays\", alpha=0.3)\n",
    "    plt.show()"
   ]
  },
  {
   "cell_type": "code",
   "execution_count": null,
   "id": "61298ba8-5492-492f-86a6-7572f7a3eeac",
   "metadata": {},
   "outputs": [],
   "source": [
    "reference_image.shape"
   ]
  },
  {
   "cell_type": "code",
   "execution_count": null,
   "id": "bd917927-ccd1-4c25-8c31-0ee0b46a4ac1",
   "metadata": {
    "tags": []
   },
   "outputs": [],
   "source": [
    "#### assigning Allen regions\n",
    "\n",
    "from allensdk.core.mouse_connectivity_cache import MouseConnectivityCache\n",
    "import pandas as pd\n",
    "import numpy as np\n",
    "from tqdm import tqdm\n",
    "\n",
    "## use with care!\n",
    "import warnings\n",
    "warnings.filterwarnings('ignore')\n",
    "\n",
    "mcc = MouseConnectivityCache(manifest_file='mouse_connectivity_manifest.json')\n",
    "structure_tree = mcc.get_structure_tree()\n",
    "\n",
    "data = pixels\n",
    "annotation, _ = mcc.get_annotation_volume()\n",
    "\n",
    "import pandas as pd\n",
    "import matplotlib.pyplot as plt\n",
    "\n",
    "num_rows = len(data)\n",
    "data['acronym'] = [''] * num_rows\n",
    "data['id'] = [0] * num_rows\n",
    "data['name'] = [''] * num_rows\n",
    "data['structure_id_path'] = [''] * num_rows\n",
    "data['structure_set_ids'] = [''] * num_rows\n",
    "data['rgb_triplet'] = [''] * num_rows\n",
    "\n",
    "for xxx in tqdm(range(0, data.shape[0])):\n",
    "    row = data.iloc[xxx,:]\n",
    "    try:\n",
    "        x_index = int(row['x_index'])\n",
    "        y_index = int(row['y_index'])\n",
    "        z_index = int(row['z_index'])\n",
    "    \n",
    "        if 0 <= x_index < annotation.shape[0] and 0 <= y_index < annotation.shape[1] and 0 <= z_index < annotation.shape[2]:\n",
    "            index = annotation[x_index, y_index, z_index]\n",
    "            brain_region = structure_tree.get_structures_by_id([index])[0]\n",
    "\n",
    "            if brain_region is not None:\n",
    "\n",
    "                data['acronym'][xxx] = brain_region['acronym']\n",
    "                data['id'][xxx] = brain_region['id']\n",
    "                data['name'][xxx] = brain_region['name']\n",
    "                data['structure_id_path'][xxx] = brain_region['structure_id_path']\n",
    "                data['structure_set_ids'][xxx] = brain_region['structure_set_ids']\n",
    "                data['rgb_triplet'][xxx] = brain_region['rgb_triplet']\n",
    "    except:\n",
    "        continue\n",
    "            \n",
    "\n",
    "def rgb_to_hex_safe(rgb):\n",
    "    try:\n",
    "        return '#{:02x}{:02x}{:02x}'.format(*rgb)\n",
    "    except (TypeError, IndexError):\n",
    "        return \"#000000\"\n",
    "\n",
    "data['allencolor'] = data['rgb_triplet'].apply(rgb_to_hex_safe)\n",
    "\n",
    "data"
   ]
  },
  {
   "cell_type": "code",
   "execution_count": null,
   "id": "55cc2243-ac39-446d-b19f-a1786181a4d6",
   "metadata": {
    "tags": []
   },
   "outputs": [],
   "source": [
    "data.iloc[:,-14:].to_hdf(\"allenmeta.h5ad\", key=\"table\")"
   ]
  },
  {
   "cell_type": "code",
   "execution_count": null,
   "id": "f50757c3-e4c6-471c-9c51-974a4781bc14",
   "metadata": {},
   "outputs": [],
   "source": []
  },
  {
   "cell_type": "code",
   "execution_count": null,
   "id": "a9914dbf-3048-4690-9cc7-dca530d3f6a9",
   "metadata": {},
   "outputs": [],
   "source": [
    "import pandas as pd\n",
    "import numpy as np\n",
    "\n",
    "dat = pd.read_parquet(\"20241102_exp_pixels___allipids_allbrains.parquet\")\n",
    "allenmeta = pd.read_hdf(\"allenmeta.h5ad\", key=\"table\")\n",
    "dat"
   ]
  },
  {
   "cell_type": "code",
   "execution_count": null,
   "id": "4c80551b-8d61-49eb-bf1e-12e17afefb02",
   "metadata": {},
   "outputs": [],
   "source": [
    "data = pd.concat([dat, allenmeta], axis=1)\n",
    "data"
   ]
  },
  {
   "cell_type": "code",
   "execution_count": null,
   "id": "af4aad41-fed5-4a70-b028-55f5a05e65a3",
   "metadata": {},
   "outputs": [],
   "source": [
    "# check that Allen metadata transfer went smooth\n",
    "import matplotlib.pyplot as plt\n",
    "import numpy as np\n",
    "\n",
    "\n",
    "tmp = data.loc[data['SectionID'] == 49,:]\n",
    "tmp['allencolor'] = tmp['allencolor'].fillna(\"#000000\")\n",
    "\n",
    "plt.scatter(tmp['zccf'].iloc[:,0], -tmp['yccf'].iloc[:,0], c=np.array(tmp['allencolor']), s=0.5)\n",
    "plt.show()"
   ]
  },
  {
   "cell_type": "code",
   "execution_count": null,
   "id": "418acefd-5126-4983-b296-eb4a91f9afd7",
   "metadata": {},
   "outputs": [],
   "source": []
  },
  {
   "cell_type": "markdown",
   "id": "08493159-b120-48ea-b026-e6e01507d223",
   "metadata": {},
   "source": [
    "## Clean up out-of-brain pixels by using the Allen annotation"
   ]
  },
  {
   "cell_type": "code",
   "execution_count": null,
   "id": "9eb16d3b-ff82-4553-8b11-d9c398955485",
   "metadata": {},
   "outputs": [],
   "source": [
    "data['allencolor'] = data['allencolor'].fillna(\"#000000\")\n",
    "\n",
    "data = data.loc[\n",
    "    (data[\"rgb_triplet\"] != \"\") |\n",
    "    (\n",
    "        ~data[\"Sample\"].isin(['ReferenceAtlas', 'SecondAtlas']) |\n",
    "        (\n",
    "            (data[\"Sample\"] == \"SecondAtlas\") & (data[\"Section\"] < 8)\n",
    "        )\n",
    "    ),\n",
    "    :\n",
    "]"
   ]
  },
  {
   "cell_type": "code",
   "execution_count": null,
   "id": "2e5795bd-fa5d-4c2d-9a0b-52ebe569d5b4",
   "metadata": {},
   "outputs": [],
   "source": [
    "# check that Allen cleanup went smooth\n",
    "import matplotlib.pyplot as plt\n",
    "tmp = data.loc[data['SectionID'] == 49,:]\n",
    "plt.scatter(tmp['zccf'].iloc[:,0], -tmp['yccf'].iloc[:,0], c=tmp['allencolor'], s=0.5)\n",
    "plt.show()"
   ]
  },
  {
   "cell_type": "code",
   "execution_count": null,
   "id": "5bfe3e62-5887-4fcb-8572-f2ea1bcdeed0",
   "metadata": {},
   "outputs": [],
   "source": [
    "data = data.loc[:, ~data.columns.duplicated()]\n",
    "\n",
    "data['structure_id_path'] = data['structure_id_path'].apply(lambda x: x if isinstance(x, list) else [] if pd.isnull(x) else [x])\n",
    "data['structure_id_path'] = data['structure_id_path'].apply(lambda x: '_'.join(map(str, x)))\n",
    "\n",
    "data['structure_set_ids'] = data['structure_set_ids'].apply(lambda x: x if isinstance(x, list) else [] if pd.isnull(x) else [x])\n",
    "data['structure_set_ids'] = data['structure_set_ids'].apply(lambda x: '_'.join(map(str, x)))\n",
    "\n",
    "data['rgb_triplet'] = data['rgb_triplet'].apply(lambda x: x if isinstance(x, list) else [] if pd.isnull(x) else [x])\n",
    "data['rgb_triplet'] = data['rgb_triplet'].apply(lambda x: '_'.join(map(str, x)))"
   ]
  },
  {
   "cell_type": "code",
   "execution_count": null,
   "id": "076cd71e-9625-427b-ad70-eff60d609127",
   "metadata": {},
   "outputs": [],
   "source": [
    "data.to_hdf(\"20241103_pixels_allips_allbrains_allen_pixelcleaned.h5ad\", key=\"df\")"
   ]
  },
  {
   "cell_type": "code",
   "execution_count": null,
   "id": "b11ffc5b-25fc-4daa-96cf-c41e7a82f077",
   "metadata": {},
   "outputs": [],
   "source": [
    "data.loc[data['Sample'] == \"ReferenceAtlas\",:].to_parquet(\"brain2only.parquet\")"
   ]
  },
  {
   "cell_type": "code",
   "execution_count": null,
   "id": "1bca0e2a-6c04-4925-952c-7f09b7afab7c",
   "metadata": {},
   "outputs": [],
   "source": [
    "data['SectionID'].value_counts() # fast identity check"
   ]
  },
  {
   "cell_type": "code",
   "execution_count": null,
   "id": "8aaca604-a4e6-46cc-a1b5-35f3000a9182",
   "metadata": {},
   "outputs": [],
   "source": []
  },
  {
   "cell_type": "markdown",
   "id": "c57f1dc9-c481-411d-92b0-cc489543e850",
   "metadata": {},
   "source": []
  },
  {
   "cell_type": "code",
   "execution_count": null,
   "id": "93bd0f3a-eb25-4abc-b155-4b7089790e02",
   "metadata": {},
   "outputs": [],
   "source": []
  }
 ],
 "metadata": {
  "kernelspec": {
   "display_name": "Python 3 (ipykernel)",
   "language": "python",
   "name": "python3"
  },
  "language_info": {
   "codemirror_mode": {
    "name": "ipython",
    "version": 3
   },
   "file_extension": ".py",
   "mimetype": "text/x-python",
   "name": "python",
   "nbconvert_exporter": "python",
   "pygments_lexer": "ipython3",
   "version": "3.10.10"
  }
 },
 "nbformat": 4,
 "nbformat_minor": 5
}
