{
 "cells": [
  {
   "cell_type": "code",
   "execution_count": null,
   "id": "fe0c133c-08e8-49a7-bc40-7908c9514bbb",
   "metadata": {},
   "outputs": [],
   "source": [
    "import pandas as pd\n",
    "import numpy as np\n",
    "import os\n",
    "import typing\n",
    "import tifffile\n",
    "from tqdm import tqdm\n",
    "\n",
    "# import the data (here's an old iteration, but it's the same)\n",
    "pixels = pd.read_hdf(\"20241007_pixels_featsel_allbrains.h5ad\", key=\"table\")\n",
    "peaks = np.array(pixels.iloc[:,:137].columns.astype(float))\n",
    "pixels"
   ]
  },
  {
   "cell_type": "code",
   "execution_count": null,
   "id": "08750925-e005-4479-8708-1004bfd58732",
   "metadata": {},
   "outputs": [],
   "source": [
    "# select three lipids that together expose most anatomy to help manual and automated warping to the Allen cell density and contours\n",
    "targets = np.array([845.528425, 731.606009, 784.657705])\n",
    "\n",
    "indices = np.abs(peaks[:, np.newaxis] - targets).argmin(axis=0)\n",
    "closest_values = peaks[indices]\n",
    "closest_values"
   ]
  },
  {
   "cell_type": "code",
   "execution_count": null,
   "id": "40b3e1ef-5e16-4be1-9a62-39788dce455a",
   "metadata": {},
   "outputs": [],
   "source": [
    "# a function to save in a format compatible with ABBA for CCF registration\n",
    "\n",
    "def save_imagej_tiff(save_path: str, data: np.ndarray, scale: tuple[float, ...], units: str, com):\n",
    "    \"\"\"Save image as tiff to path or buffer\n",
    "    :param scale: image scale\n",
    "    :param data: image for save\n",
    "    :param units: units of image\n",
    "    :param save_path: save location\n",
    "    \"\"\"\n",
    "    assert data.dtype in [np.uint8, np.uint16, np.float32]\n",
    "    metadata: dict[str, typing.Any] = {\"mode\": \"color\", \"unit\": units}\n",
    "    if len(scale) >= 3:\n",
    "        metadata[\"spacing\"] = scale[-3]\n",
    "    resolution = [1 / x for x in scale[-2:]]\n",
    "    tifffile.imwrite(\n",
    "        save_path,\n",
    "        data,\n",
    "        imagej=True,\n",
    "        metadata=metadata,\n",
    "        resolution=resolution,\n",
    "    )  # , compress=6,"
   ]
  },
  {
   "cell_type": "code",
   "execution_count": null,
   "id": "c7a96127-1d53-44f5-b448-383e47d2bd64",
   "metadata": {},
   "outputs": [],
   "source": [
    "# extract the data\n",
    "\n",
    "compdata = pixels.loc[:,closest_values.astype(str)] \n",
    "compdata = pd.concat([compdata, pixels[['SectionID',\t'x',\t'y', 'Sample', 'Section', 'Sex']]], axis=1)\n",
    "compdata.columns = compdata.columns.astype(str)\n",
    "compdata['x'] = compdata['x'].astype(int)\n",
    "compdata['y'] = compdata['y'].astype(int)\n",
    "closest_values = closest_values.astype(str)"
   ]
  },
  {
   "cell_type": "code",
   "execution_count": null,
   "id": "7f9810f7-bf0f-40ea-900e-b73df2cce849",
   "metadata": {},
   "outputs": [],
   "source": [
    "# cure the contrast and export the images in a dynamic range and format to ease the experimemnter's life to do registration to CCF\n",
    "\n",
    "for sec in tqdm(range(33, 139)):\n",
    "    now = compdata.loc[compdata['SectionID'] == sec,:]\n",
    "    \n",
    "    img = np.full((now['x'].max()+1, now['y'].max()+1), np.nan)\n",
    "\n",
    "    for _, row in now.iterrows():\n",
    "        y = row['y']\n",
    "        z = row['x']\n",
    "        intensity = row[closest_values[0]]\n",
    "        img[z, y] = intensity\n",
    "\n",
    "    p3 = np.nanpercentile(img, 1.5)\n",
    "    p97 = np.nanpercentile(img, 98.5)\n",
    "    img = (img - p3) / (p97 - p3)\n",
    "    img = np.clip(img, 0, 1)\n",
    "    img = (img * 255).astype(np.uint8)\n",
    "    img0 = img.copy()\n",
    "\n",
    "    img = np.full((now['x'].max()+1, now['y'].max()+1), np.nan)\n",
    "\n",
    "    for _, row in now.iterrows():\n",
    "        y = row['y']\n",
    "        z = row['x']\n",
    "        intensity = row[closest_values[1]]\n",
    "        img[z, y] = intensity\n",
    "\n",
    "    p3 = np.nanpercentile(img, 3)\n",
    "    p97 = np.nanpercentile(img, 97)\n",
    "    img = (img - p3) / (p97 - p3)\n",
    "    img = np.clip(img, 0, 1)\n",
    "    img = (img * 255).astype(np.uint8)\n",
    "    img1 = img.copy()\n",
    "\n",
    "    img = np.full((now['x'].max()+1, now['y'].max()+1), np.nan)\n",
    "\n",
    "    for _, row in now.iterrows():\n",
    "        y = row['y']\n",
    "        z = row['x']\n",
    "        intensity = row[closest_values[2]]\n",
    "        img[z, y] = intensity\n",
    "\n",
    "    p3 = np.nanpercentile(img, 3)\n",
    "    p97 = np.nanpercentile(img, 97)\n",
    "    img = (img - p3) / (p97 - p3)\n",
    "    img = np.clip(img, 0, 1)\n",
    "    img = (img * 255).astype(np.uint8)\n",
    "    img2 = img.copy()\n",
    "\n",
    "    composite = np.stack((img0, img1, img2))\n",
    "    composite_transposed = np.transpose(composite, (1, 2, 0))\n",
    "    scale = (25, 25, 25)\n",
    "    units = \"um\"\n",
    "    save_imagej_tiff(os.getcwd()+\"/ABBA-in/composite_transposed_\"+str(now['Sample'].unique())+\"_\"+str(now['Section'].unique())+\"_\"+str(now['SectionID'].unique())+\".tif\", composite_transposed, scale, units, None)"
   ]
  },
  {
   "cell_type": "code",
   "execution_count": null,
   "id": "f9e72e21-a5cd-4696-a064-b6d15245be04",
   "metadata": {},
   "outputs": [],
   "source": [
    "# zip it to transfer via email\n",
    "!zip -r ABBA-in.zip ABBA-in"
   ]
  },
  {
   "cell_type": "code",
   "execution_count": null,
   "id": "ebdb17a4-1809-40e5-ba69-e4eb08de3b06",
   "metadata": {},
   "outputs": [],
   "source": []
  },
  {
   "cell_type": "code",
   "execution_count": null,
   "id": "0c89b2bb-6691-4bca-afa8-98cf5aa1a28b",
   "metadata": {},
   "outputs": [],
   "source": []
  },
  {
   "cell_type": "code",
   "execution_count": null,
   "id": "72bdd596-1ee0-4575-ac05-8c9cf8481d06",
   "metadata": {},
   "outputs": [],
   "source": []
  }
 ],
 "metadata": {
  "kernelspec": {
   "display_name": "Python 3 (ipykernel)",
   "language": "python",
   "name": "python3"
  },
  "language_info": {
   "codemirror_mode": {
    "name": "ipython",
    "version": 3
   },
   "file_extension": ".py",
   "mimetype": "text/x-python",
   "name": "python",
   "nbconvert_exporter": "python",
   "pygments_lexer": "ipython3",
   "version": "3.10.10"
  }
 },
 "nbformat": 4,
 "nbformat_minor": 5
}
