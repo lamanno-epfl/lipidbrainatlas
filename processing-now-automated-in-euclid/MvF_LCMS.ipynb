{
 "cells": [
  {
   "cell_type": "code",
   "execution_count": null,
   "id": "2022d13c-8278-44fe-9989-cc0315350eb9",
   "metadata": {},
   "outputs": [],
   "source": [
    "import pandas as pd\n",
    "import numpy as np\n",
    "\n",
    "mvsf=pd.read_csv(\"mvsf_lcms.csv\", index_col=0).iloc[1:,:]"
   ]
  },
  {
   "cell_type": "code",
   "execution_count": null,
   "id": "19d7f207-9426-4f49-9d11-cd68adafdee9",
   "metadata": {},
   "outputs": [],
   "source": []
  },
  {
   "cell_type": "markdown",
   "id": "7069412a-9d8b-48af-9e34-ef37b083b7cb",
   "metadata": {},
   "source": [
    "## Our new M vs F LCMS dataset has 0 differential lipids across the whole brain between sexes"
   ]
  },
  {
   "cell_type": "code",
   "execution_count": null,
   "id": "3d33859f-e76c-4b6c-8af2-ad9050cb5ebb",
   "metadata": {},
   "outputs": [],
   "source": [
    "logFC = np.log(1 / mvsf['FC(Male / Female)']) # we doing female vs male\n",
    "\n",
    "logFC"
   ]
  },
  {
   "cell_type": "code",
   "execution_count": null,
   "id": "199eb505-c942-488c-b9b7-53ea9350ba6c",
   "metadata": {},
   "outputs": [],
   "source": [
    "mvsf['ttest.pValueAdj'].min() # AH, LOL. weird... mixup?"
   ]
  },
  {
   "cell_type": "raw",
   "id": "029640dd-08b3-4c9c-8870-22b64a760b7e",
   "metadata": {
    "jupyter": {
     "outputs_hidden": true
    },
    "tags": []
   },
   "source": [
    "pvals = mvsf['ttest.pValue']\n",
    "\n",
    "import numpy as np\n",
    "from statsmodels.stats.multitest import multipletests\n",
    "\n",
    "pvals_array = np.array(list(pvals))\n",
    "\n",
    "rejected, pvals_corrected, _, _ = multipletests(pvals_array, alpha=0.05, method='fdr_bh')\n",
    "\n",
    "pvals_corrected"
   ]
  },
  {
   "cell_type": "code",
   "execution_count": null,
   "id": "57caebc5-49fd-43e2-83d7-a3f0dd8334a1",
   "metadata": {},
   "outputs": [],
   "source": [
    "unsignificant = logFC[mvsf['ttest.pValue'] < 0.05].sort_values()\n",
    "unsignificant"
   ]
  },
  {
   "cell_type": "code",
   "execution_count": null,
   "id": "445ee3da-c2ad-45cf-8cd9-eb06f338961d",
   "metadata": {},
   "outputs": [],
   "source": []
  },
  {
   "cell_type": "markdown",
   "id": "487c5258-307c-4fcd-81e6-b4e14115f9e8",
   "metadata": {},
   "source": [
    "## Look at the male vs female AD dataset"
   ]
  },
  {
   "cell_type": "code",
   "execution_count": null,
   "id": "0543c4e2-5141-4712-becd-b5af23002314",
   "metadata": {},
   "outputs": [],
   "source": [
    "mvsfad = pd.read_csv(\"maleVSfemaleVSAD_juljiana.csv\", index_col=0)\n",
    "lipids = mvsfad.iloc[3:, 1:].copy()\n",
    "lipids.index = mvsfad['LipidBlast_name'][3:]\n",
    "lipids.columns = mvsfad.loc['Sample name',:][1:]\n",
    "lipids"
   ]
  },
  {
   "cell_type": "code",
   "execution_count": null,
   "id": "c30079c4-4605-40b8-a4cb-e5dbbd30490a",
   "metadata": {},
   "outputs": [],
   "source": [
    "meta = mvsfad.iloc[:3,1:].T\n",
    "meta"
   ]
  },
  {
   "cell_type": "code",
   "execution_count": null,
   "id": "2ba78ee8-a729-454a-bafc-9e709b77d053",
   "metadata": {},
   "outputs": [],
   "source": [
    "males = lipids.loc[:, meta.loc[(meta['Sex'] == \"M\") & (meta['Genotype'] == \"WT\"), 'Sample name']].astype(float)\n",
    "females = lipids.loc[:, meta.loc[(meta['Sex'] == \"F\") & (meta['Genotype'] == \"WT\"), 'Sample name']].astype(float)\n",
    "\n",
    "males"
   ]
  },
  {
   "cell_type": "code",
   "execution_count": null,
   "id": "cb5bb061-d0ad-4f10-a5e1-acf99a15eb0e",
   "metadata": {},
   "outputs": [],
   "source": [
    "import pandas as pd\n",
    "import numpy as np\n",
    "from scipy import stats\n",
    "from statsmodels.stats.multitest import multipletests\n",
    "import plotly.graph_objects as go\n",
    "import plotly.express as px\n",
    "from adjustText import adjust_text\n",
    "import matplotlib.pyplot as plt\n",
    "\n",
    "def analyze_lipids(males_df, females_df):\n",
    "    \"\"\"\n",
    "    Perform statistical analysis on lipid data between males and females.\n",
    "    \n",
    "    Parameters:\n",
    "    males_df (pd.DataFrame): DataFrame with lipids as rows and samples as columns for males\n",
    "    females_df (pd.DataFrame): DataFrame with lipids as rows and samples as columns for females\n",
    "    \n",
    "    Returns:\n",
    "    pd.DataFrame: Results containing statistics for each lipid\n",
    "    \"\"\"\n",
    "    # Initialize results dictionary\n",
    "    results = {\n",
    "        'lipid': [],\n",
    "        'pvalue': [],\n",
    "        'fold_change': [],\n",
    "        'log2_fold_change': [],\n",
    "        'mean_males': [],\n",
    "        'mean_females': []\n",
    "    }\n",
    "    \n",
    "    # Perform t-test for each lipid\n",
    "    for lipid in males_df.index:\n",
    "        males_data = males_df.loc[lipid]\n",
    "        females_data = females_df.loc[lipid]\n",
    "        \n",
    "        # Calculate t-test\n",
    "        t_stat, p_val = stats.ttest_ind(males_data, females_data)\n",
    "        \n",
    "        # Calculate means and fold changes\n",
    "        mean_males = np.mean(males_data)\n",
    "        mean_females = np.mean(females_data)\n",
    "        fold_change = mean_females / mean_males\n",
    "        log2_fold_change = np.log2(fold_change)\n",
    "        \n",
    "        # Store results\n",
    "        results['lipid'].append(lipid)\n",
    "        results['pvalue'].append(p_val)\n",
    "        results['fold_change'].append(fold_change)\n",
    "        results['log2_fold_change'].append(log2_fold_change)\n",
    "        results['mean_males'].append(mean_males)\n",
    "        results['mean_females'].append(mean_females)\n",
    "    \n",
    "    # Convert to DataFrame\n",
    "    results_df = pd.DataFrame(results)\n",
    "    \n",
    "    # Apply Benjamini-Hochberg correction\n",
    "    results_df['padj'] = multipletests(results_df['pvalue'], method='fdr_bh')[1]\n",
    "    \n",
    "    return results_df\n",
    "\n",
    "results = analyze_lipids(males, females)"
   ]
  },
  {
   "cell_type": "code",
   "execution_count": null,
   "id": "048b660e-abe2-4e9a-90c1-a02de94ad83d",
   "metadata": {},
   "outputs": [],
   "source": [
    "results['padj'].min()"
   ]
  },
  {
   "cell_type": "code",
   "execution_count": null,
   "id": "8c14f729-c919-4ce3-90a8-6c96d5b752dd",
   "metadata": {},
   "outputs": [],
   "source": [
    "padj_threshold=0.1\n",
    "fc_threshold=0.1\n",
    "results_df = results\n",
    "\n",
    "results_df['neg_log10_padj'] = -np.log10(results_df['padj'])\n",
    "results_df['significant'] = (results_df['padj'] < padj_threshold) & \\\n",
    "                           (abs(results_df['log2_fold_change']) > fc_threshold)\n",
    "\n",
    "significant_df = results_df[results_df['significant']]\n",
    "significant_df\n",
    "\n",
    "# ok, good confirmation - also this independent dataset confirms that fundamentally there are NO DIFFERENTIAL LIPIDS \"OVERALL\" BETWEEN M AND F\n",
    "# ONE GOOD EXTRA REASON TO LOOK LOCALLY, SPATIALLY!"
   ]
  },
  {
   "cell_type": "code",
   "execution_count": null,
   "id": "8c69118d-b9e4-473d-b33e-ce5d952bfe74",
   "metadata": {},
   "outputs": [],
   "source": []
  },
  {
   "cell_type": "markdown",
   "id": "d1abe653-8bea-41f9-b22d-f5f1245ad86b",
   "metadata": {},
   "source": [
    "## Look at AD changes to incorporate in our sex-specific knowledge base"
   ]
  },
  {
   "cell_type": "code",
   "execution_count": null,
   "id": "f60fc429-1789-46a0-a3ef-613d0496b694",
   "metadata": {},
   "outputs": [],
   "source": [
    "males = lipids.loc[:, meta.loc[(meta['Sex'] == \"M\") & (meta['Genotype'] == \"WT\"), 'Sample name']].astype(float)\n",
    "females = lipids.loc[:, meta.loc[(meta['Sex'] == \"F\") & (meta['Genotype'] == \"WT\"), 'Sample name']].astype(float)\n",
    "malesAD = lipids.loc[:, meta.loc[(meta['Sex'] == \"M\") & (meta['Genotype'] != \"WT\"), 'Sample name']].astype(float)\n",
    "femalesAD = lipids.loc[:, meta.loc[(meta['Sex'] == \"F\") & (meta['Genotype'] != \"WT\"), 'Sample name']].astype(float)\n",
    "malesAD"
   ]
  },
  {
   "cell_type": "code",
   "execution_count": null,
   "id": "67b897f6-339e-4082-8f0b-8993dbae1898",
   "metadata": {},
   "outputs": [],
   "source": [
    "results = analyze_lipids(males, malesAD)\n",
    "padj_threshold=0.1\n",
    "fc_threshold=0.1\n",
    "results_df = results\n",
    "\n",
    "results_df['neg_log10_padj'] = -np.log10(results_df['padj'])\n",
    "results_df['significant'] = (results_df['padj'] < padj_threshold) & \\\n",
    "                           (abs(results_df['log2_fold_change']) > fc_threshold)\n",
    "\n",
    "significant_df = results_df[results_df['significant']]\n",
    "significant_df # Cer 42:2, some PCs we don't have, TGs that we don't have"
   ]
  },
  {
   "cell_type": "code",
   "execution_count": null,
   "id": "7899b150-674d-48dc-8797-1dd374cbcf0f",
   "metadata": {},
   "outputs": [],
   "source": [
    "results = analyze_lipids(females, femalesAD) #### way more changes in females than in males. this is very interesting!\n",
    "padj_threshold=0.1\n",
    "fc_threshold=0.1\n",
    "results_df = results\n",
    "\n",
    "results_df['neg_log10_padj'] = -np.log10(results_df['padj'])\n",
    "results_df['significant'] = (results_df['padj'] < padj_threshold) & \\\n",
    "                           (abs(results_df['log2_fold_change']) > fc_threshold)\n",
    "\n",
    "significant_df = results_df[results_df['significant']]\n",
    "significant_df"
   ]
  },
  {
   "cell_type": "code",
   "execution_count": null,
   "id": "9eb7f677-5823-4bb9-9990-0571f59462a0",
   "metadata": {},
   "outputs": [],
   "source": [
    "print(significant_df['lipid'].values) # Cer 40:2, HexCer 36:1, HexCer 36:2, HexCer 38:0, HexCer 40:1, HexCer 40:2 and many more!"
   ]
  },
  {
   "cell_type": "code",
   "execution_count": null,
   "id": "d2e63bea-6887-45b0-9a32-63a79570a076",
   "metadata": {},
   "outputs": [],
   "source": []
  },
  {
   "cell_type": "code",
   "execution_count": null,
   "id": "2b059076-b0e3-4a1a-992a-9d67ccef51c8",
   "metadata": {
    "tags": []
   },
   "outputs": [],
   "source": [
    "f_spec_ad_lipids = significant_df['lipid'].values\n",
    "f_spec_ad_lipids = [x.split('|')[0].replace('3O', 'O2').replace('2O', 'O2').rstrip('/0:0') for x in f_spec_ad_lipids]\n",
    "f_spec_ad_lipids"
   ]
  },
  {
   "cell_type": "code",
   "execution_count": null,
   "id": "f11b677e-287c-4b16-ae00-9663da75ce2e",
   "metadata": {},
   "outputs": [],
   "source": [
    "pd.Series(f_spec_ad_lipids).to_csv(\"f_spec_ad_lipids.csv\")"
   ]
  },
  {
   "cell_type": "code",
   "execution_count": null,
   "id": "efd06b2e-b9b9-40d1-ac3b-d55db0c8d412",
   "metadata": {},
   "outputs": [],
   "source": []
  },
  {
   "cell_type": "code",
   "execution_count": null,
   "id": "e164aea6-38ef-4364-a2fa-d32e477b242b",
   "metadata": {},
   "outputs": [],
   "source": []
  },
  {
   "cell_type": "code",
   "execution_count": null,
   "id": "a988669d-8276-4676-82d4-2a710cf69925",
   "metadata": {},
   "outputs": [],
   "source": []
  },
  {
   "cell_type": "code",
   "execution_count": null,
   "id": "e3058ad8-e936-45fa-ab7a-62616edfb7fb",
   "metadata": {},
   "outputs": [],
   "source": [
    "atlas = pd.read_parquet(\"atlas.parquet\")"
   ]
  },
  {
   "cell_type": "code",
   "execution_count": null,
   "id": "24cec043-608d-4fa1-84d3-7beaa2c676c1",
   "metadata": {},
   "outputs": [],
   "source": [
    "np.intersect1d(atlas.columns[:173].values, f_spec_ad_lipids)\n",
    "\n",
    "# these lipids that we track are in the call set of AD in FEMALES!"
   ]
  },
  {
   "cell_type": "code",
   "execution_count": null,
   "id": "36f20af8-a7d0-4f24-9df4-2ef2e658b9f0",
   "metadata": {},
   "outputs": [],
   "source": [
    "significant_df.index = f_spec_ad_lipids\n",
    "significant_df.loc[np.intersect1d(atlas.columns[:173].values, f_spec_ad_lipids),:]\n",
    "\n",
    "# lysophospho go down, all other folks go up...\n",
    "# ofc i like seeing Cer 40:2;O2... quite lucky..."
   ]
  },
  {
   "cell_type": "code",
   "execution_count": null,
   "id": "1b785546-c4e0-46ff-af42-bd9db4a3d655",
   "metadata": {},
   "outputs": [],
   "source": [
    "averaged_df = significant_df.loc[np.intersect1d(atlas.columns[:173].values, f_spec_ad_lipids),['log2_fold_change']].groupby(level=0).mean()\n",
    "averaged_df"
   ]
  },
  {
   "cell_type": "code",
   "execution_count": null,
   "id": "b6eb0dc8-f30c-41f4-b846-e73319441e15",
   "metadata": {},
   "outputs": [],
   "source": [
    "averaged_df.to_csv(\"AD_femalespec_alteredlips.csv\")"
   ]
  },
  {
   "cell_type": "code",
   "execution_count": null,
   "id": "6d4a40d6-8b47-493a-b18c-d8ff7fc233b5",
   "metadata": {},
   "outputs": [],
   "source": [
    "f_spec_ad_lipids = malesAD.index.values\n",
    "f_spec_ad_lipids = [x.split('|')[0].replace('3O', 'O2').replace('2O', 'O2').rstrip('/0:0') for x in f_spec_ad_lipids]\n",
    "pd.Series(f_spec_ad_lipids).to_csv(\"AD_studyBG.csv\")"
   ]
  },
  {
   "cell_type": "code",
   "execution_count": null,
   "id": "a4b516d8-9fa3-4168-9185-18b583048e2e",
   "metadata": {},
   "outputs": [],
   "source": []
  },
  {
   "cell_type": "code",
   "execution_count": null,
   "id": "ea00f146-2a64-4019-ab53-e767c37c0293",
   "metadata": {},
   "outputs": [],
   "source": []
  },
  {
   "cell_type": "code",
   "execution_count": null,
   "id": "0cbf170b-d83b-4db0-abf3-bd812c386b89",
   "metadata": {},
   "outputs": [],
   "source": []
  },
  {
   "cell_type": "code",
   "execution_count": null,
   "id": "7f2902e1-9a06-4cc9-aa24-acd5f88b8fb3",
   "metadata": {},
   "outputs": [],
   "source": []
  }
 ],
 "metadata": {
  "kernelspec": {
   "display_name": "Python 3 (ipykernel)",
   "language": "python",
   "name": "python3"
  },
  "language_info": {
   "codemirror_mode": {
    "name": "ipython",
    "version": 3
   },
   "file_extension": ".py",
   "mimetype": "text/x-python",
   "name": "python",
   "nbconvert_exporter": "python",
   "pygments_lexer": "ipython3",
   "version": "3.10.10"
  }
 },
 "nbformat": 4,
 "nbformat_minor": 5
}
