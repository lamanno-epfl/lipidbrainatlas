{
 "cells": [
  {
   "cell_type": "code",
   "execution_count": null,
   "id": "f1371451-2bdc-488a-98dc-f5a55f06235e",
   "metadata": {},
   "outputs": [],
   "source": [
    "import os\n",
    "import numpy as np\n",
    "import pandas as pd\n",
    "import zarr\n",
    "import matplotlib.pyplot as plt\n",
    "from tqdm import tqdm\n",
    "from collections import Counter\n",
    "from rdkit import Chem"
   ]
  },
  {
   "cell_type": "code",
   "execution_count": null,
   "id": "e9e89b6f-abf6-45ed-87a6-ccdb70095713",
   "metadata": {},
   "outputs": [],
   "source": []
  },
  {
   "cell_type": "markdown",
   "id": "832a3b35-6fb7-4fc1-9d64-8606b267395d",
   "metadata": {},
   "source": [
    "## Define helper functions to handle strings, adducts, databases, scores"
   ]
  },
  {
   "cell_type": "code",
   "execution_count": null,
   "id": "a161cabe-3ee2-49ad-b481-1c33bd8fd326",
   "metadata": {},
   "outputs": [],
   "source": [
    "# some helper functions\n",
    "\n",
    "ppm = 5 # desired ppm to validate an annotation\n",
    "reference_mz = 800 # scale of our dataset\n",
    "distance_ab5ppm = ppm / 1e6 * reference_mz\n",
    "\n",
    "\n",
    "def find_matching_lipids(path_mz, lipid_mz_df):\n",
    "    lower_bound = path_mz - ppm / 1e6 * path_mz\n",
    "    upper_bound = path_mz + ppm / 1e6 * path_mz\n",
    "    matching_lipids = lipid_mz_df[(lipid_mz_df['m/z'] >= lower_bound) & (lipid_mz_df['m/z'] <= upper_bound)]['Lipids']\n",
    "    return ', '.join(matching_lipids)\n",
    "\n",
    "def create_adduct_entries(row):\n",
    "    entries = []\n",
    "    for adduct, mass_diff in adducts.items():\n",
    "        new_row = row.copy()\n",
    "        new_row['Exact Mass'] += mass_diff\n",
    "        new_row['Adduct'] = adduct\n",
    "        entries.append(new_row)\n",
    "    return entries\n",
    "\n",
    "def find_closest_mz(peaks_mz, metaspace_df):\n",
    "    abs_diff = np.abs(metaspace_df['mz'].astype(float) - peaks_mz)\n",
    "    min_index = abs_diff.idxmin()\n",
    "    min_value = abs_diff[min_index]\n",
    "    if min_value <= distance_ab5ppm:\n",
    "        return metaspace_df.loc[min_index, ['METASPACEfdr', 'METASPACEname', 'METASPACEmsm']]\n",
    "    else:\n",
    "        return pd.Series([np.nan, np.nan, np.nan], index=['METASPACEfdr', 'METASPACEname', 'METASPACEmsm'])\n",
    "\n",
    "def map_hmdb_ids(hmdb_ids):\n",
    "    return np.unique([conversion_dict.get(hmdb_id.strip(), '') for hmdb_id in hmdb_ids.split(',')])\n",
    "\n",
    "def process_values(values):\n",
    "    if pd.isna(values) or values == '':\n",
    "        return []\n",
    "    split_values = values.split(', ')\n",
    "    processed_values = [value.split(' -')[0] for value in split_values]\n",
    "    return processed_values\n",
    "\n",
    "def map_to_species_name(candidates):\n",
    "    return np.unique([name_to_species.get(candidate, 'Unknown') for candidate in candidates])\n",
    "\n",
    "def find_closest_abbreviation(mz_list, lipidmaps):\n",
    "    closest_abbreviations = []\n",
    "    for mz in mz_list:\n",
    "        abs_diffs = np.abs(lipidmaps['EXACT_MASS'] - mz)\n",
    "        if np.min(abs_diffs) <= distance_ab5ppm:\n",
    "            closest_idx = abs_diffs.idxmin()\n",
    "            closest_abbreviation = lipidmaps.at[closest_idx, 'ABBREVIATION']\n",
    "        else:\n",
    "            closest_abbreviation = None\n",
    "        closest_abbreviations.append(closest_abbreviation)\n",
    "    return closest_abbreviations\n",
    "\n",
    "def update_score(row):\n",
    "    if len(row['ShortNamesTANDEMMS']) > 0:\n",
    "        return row['Score'] + 8\n",
    "    else:\n",
    "        return row['Score']\n",
    "\n",
    "def process_ILICColumn_column(cell):\n",
    "    items = cell.split(',')\n",
    "    processed_items = [item.split(' -')[0].strip() for item in items]\n",
    "    return processed_items\n",
    "\n",
    "def process_shortnames(shortnames_list):\n",
    "    if shortnames_list is None:\n",
    "        return None\n",
    "    processed_list = []\n",
    "    for entry in shortnames_list:\n",
    "        processed_entry = entry.replace('(', ' ').replace(')', ' ')\n",
    "        processed_entry = processed_entry.rstrip()\n",
    "        processed_list.append(processed_entry)\n",
    "    return processed_list\n",
    "\n",
    "def has_nonempty_intersection(list1, list2):\n",
    "    if list1 is None or list2 is None:\n",
    "        return False\n",
    "    if list2 == [] or list2 == ['']:\n",
    "        return False\n",
    "    try:\n",
    "        if len(list1[0]) == 0:\n",
    "            return False\n",
    "    except:\n",
    "        return False\n",
    "    return bool(set(list1) & set(list2))\n",
    "\n",
    "def update_annotation_with_shortnames(row):\n",
    "    if (row['Annotation'] is None) or (len(row['Annotation']) == 0) or (row['Annotation'][0] == ''):\n",
    "        if (len(row['ShortNamesILICColumn']) > 0) & (row['ShortNamesILICColumn'] != ['']):\n",
    "            print(row['ShortNamesILICColumn'])\n",
    "            row['Annotation'] = row['ShortNamesILICColumn']\n",
    "            row['Score'] += 2\n",
    "    return row\n",
    "\n",
    "def update_annotation_with_shortnames_reversecolumn(row):\n",
    "    if ((row['Annotation'] is None) or (len(row['Annotation']) == 0) or (row['Annotation'][0] == '')) & (row['NameReversePhaseColumn'] is not None):\n",
    "        if (len(row['NameReversePhaseColumn']) > 0) & (row['NameReversePhaseColumn'] != ['']):\n",
    "            print(row['NameReversePhaseColumn'])\n",
    "            row['Annotation'] = row['NameReversePhaseColumn']\n",
    "            row['Score'] += 2\n",
    "    return row\n",
    "\n",
    "def update_annotation_with_shortnames2(row):\n",
    "    if row['AnalyticalChemistryStudy'] is not None:\n",
    "        if (row['Annotation'] is None) or (len(row['Annotation']) == 0) or (row['Annotation'][0] == ''):\n",
    "            if (len(row['AnalyticalChemistryStudy']) > 0) & (row['AnalyticalChemistryStudy'] != ['']):\n",
    "                print(row['AnalyticalChemistryStudy'])\n",
    "                row['Annotation'] = row['AnalyticalChemistryStudy']\n",
    "                row['Score'] += 1\n",
    "    return row\n",
    "\n",
    "def update_annotation_with_shortnames2b(row):\n",
    "    if row['Fitzner within +-distance_ab5ppm'] is not None:\n",
    "        if (row['Annotation'] is None) or (len(row['Annotation']) == 0) or (row['Annotation'][0] == ''):\n",
    "            if (len(row['Fitzner within +-distance_ab5ppm']) > 0) & (row['Fitzner within +-distance_ab5ppm'] != ['']):\n",
    "                print(row['Fitzner within +-distance_ab5ppm'])\n",
    "                row['Annotation'] = row['Fitzner within +-distance_ab5ppm']\n",
    "                row['Score'] += 1\n",
    "    return row\n",
    "\n",
    "def update_annotation_with_metaspace(row):\n",
    "    metaspace_name = row['METASPACEname']\n",
    "    current_annotation = row['Annotation']\n",
    "    if isinstance(metaspace_name, np.ndarray):\n",
    "        metaspace_name = metaspace_name.tolist()\n",
    "    if isinstance(current_annotation, np.ndarray):\n",
    "        current_annotation = current_annotation.tolist()\n",
    "    def is_empty_value(val):\n",
    "        if val is None:\n",
    "            return True\n",
    "        if isinstance(val, (list, tuple)):\n",
    "            return len(val) == 0 or all(x == '' or pd.isna(x) for x in val)\n",
    "        if isinstance(val, str):\n",
    "            return len(val) == 0\n",
    "        return pd.isna(val)\n",
    "    if isinstance(metaspace_name, (list, tuple)):\n",
    "        valid_names = [x for x in metaspace_name if not is_empty_value(x)]\n",
    "        metaspace_name = valid_names[0] if valid_names else None   \n",
    "    if not is_empty_value(metaspace_name):\n",
    "        if is_empty_value(current_annotation):\n",
    "            print(metaspace_name)\n",
    "            row['Annotation'] = metaspace_name\n",
    "            if row['METASPACEfdr'] <= 0.20: # 0.20 is considered the threshold in the community\n",
    "                row['Score'] += 1\n",
    "            else:\n",
    "                row['Score'] += 0.5  \n",
    "    return row\n",
    "\n",
    "def find_closest_name(mz, mz_list, name_list):\n",
    "    closest_mz = min(mz_list, key=lambda x: abs(x - mz))\n",
    "    if abs(closest_mz - mz) <= ppm / 1e6 * closest_mz:\n",
    "        return name_list[mz_list.index(closest_mz)]\n",
    "    return None\n",
    "\n",
    "def ensure_numpy_array(x):\n",
    "    return x if isinstance(x, np.ndarray) else np.array(x)\n",
    "def safe_tuple(x):\n",
    "    if isinstance(x, np.ndarray):\n",
    "        return tuple(x.flatten()) if x.size > 1 else (x.item(),)\n",
    "    elif hasattr(x, '__iter__') and not isinstance(x, str):\n",
    "        return tuple(x)\n",
    "    else:\n",
    "        return (x,)\n",
    "\n",
    "def nan_safe_key(t):\n",
    "    return tuple('NaN' if isinstance(x, float) and np.isnan(x) else x for x in t)\n",
    "\n",
    "\n",
    "def prioritize_annotations(row):\n",
    "    \n",
    "    annotations = row['Annotation']\n",
    "    frequencies = row['AnnotFreq']\n",
    "    \"\"\"  \n",
    "        try:\n",
    "             if np.isnan(annotations):\n",
    "                return ''\n",
    "\n",
    "        except:\n",
    "    \"\"\"\n",
    "    print(annotations)\n",
    "    try:\n",
    "        if len(annotations) == 0:\n",
    "            return ''\n",
    "    except:\n",
    "        return ''\n",
    "    try:\n",
    "        sorted_annotations = sorted(zip(frequencies, annotations), reverse=True, key=lambda x: x[0])\n",
    "\n",
    "        if len(sorted_annotations) == 0:\n",
    "            return ''\n",
    "\n",
    "        highest_freq = sorted_annotations[0][0]\n",
    "        second_highest_freq = sorted_annotations[1][0] if len(sorted_annotations) > 1 else 0\n",
    "\n",
    "        if highest_freq >= second_highest_freq + 3:\n",
    "            return sorted_annotations[0][1]\n",
    "        else:\n",
    "            return [sorted_annotations[0][1], sorted_annotations[1][1]] if len(sorted_annotations) > 1 else [sorted_annotations[0][1]]\n",
    "\n",
    "    except Exception as e:\n",
    "        print(f\"Error processing row: {e}\")\n",
    "        return annotations[0] if annotations else ''\n",
    "\n",
    "def process_annotations(annotation):\n",
    "    if isinstance(annotation, list):\n",
    "        annotation_str = ' '.join(annotation)\n",
    "        annotation_str = annotation_str.replace('[', '').replace(']', '').replace(\"'\", '')\n",
    "        return annotation_str\n",
    "    else:\n",
    "        annotation_str = annotation.replace('[', '').replace(']', '').replace(\"'\", '')\n",
    "        return annotation_str\n",
    "\n",
    "def split_at_second_space(s):\n",
    "    parts = s.split(' ')\n",
    "    if len(parts) > 3:\n",
    "        split_point = parts.index('', 2) if '' in parts[2:] else 1\n",
    "        return parts[:split_point + 1], parts[split_point + 1:]\n",
    "    else:\n",
    "        return [s], []\n",
    "        \n",
    "def map_frequency(annotation):\n",
    "    print(annotation)\n",
    "    if annotation.count(' ') == 3:\n",
    "        first_part, second_part = split_at_second_space(annotation)\n",
    "        part1, part2 = ' '.join(first_part), ' '.join(second_part)\n",
    "        print(part1)\n",
    "        freq1 = frequency_df.loc[frequency_df['Entry'] == part1, 'Frequency']\n",
    "        freq2 = frequency_df.loc[frequency_df['Entry'] == part2, 'Frequency']\n",
    "        return f\"{freq1.values[0] if not freq1.empty else 0}; {freq2.values[0] if not freq2.empty else 0}\"\n",
    "    else:\n",
    "        freq = frequency_df.loc[frequency_df['Entry'] == annotation, 'Frequency']\n",
    "        return freq.values[0]-1 if not freq.empty else 0\n",
    "\n",
    "def split_lipids(entry):\n",
    "    if isinstance(entry, str):\n",
    "        words = entry.split()\n",
    "        lipids = []\n",
    "        for i in range(0, len(words), 2):\n",
    "            if i + 1 < len(words): \n",
    "                lipid = f\"{words[i]} {words[i+1]}\"\n",
    "                lipids.append(lipid)\n",
    "        return lipids\n",
    "    return []\n",
    "\n",
    "def process_lipid_annotations(filtered_df, lipid_dict):\n",
    "    \"\"\"\n",
    "    Process a dataframe based on lipid annotations according to specific criteria:\n",
    "    1. For each unique lipid (key in lipid_dict):\n",
    "       - If annotations match the key exactly, keep only the key\n",
    "       - If annotations are all different from key, keep all annotations\n",
    "    2. Keep all rows where Annotation is NaN\n",
    "    \n",
    "    Parameters:\n",
    "    filtered_df (pd.DataFrame): DataFrame containing an 'Annotation' column\n",
    "    lipid_dict (dict): Dictionary where keys are unique lipids and values are lists of annotations\n",
    "    \n",
    "    Returns:\n",
    "    pd.DataFrame: Processed DataFrame with filtered annotations\n",
    "    \"\"\"\n",
    "    annotations_to_keep = []\n",
    "\n",
    "    for lipid, annotations in lipid_dict.items():\n",
    "        if lipid in annotations:\n",
    "            annotations_to_keep.append(lipid)\n",
    "        else:\n",
    "            annotations_to_keep.extend(annotations)\n",
    "    \n",
    "    annotations_to_keep = list(dict.fromkeys(annotations_to_keep))\n",
    "    \n",
    "    mask = (filtered_df['Annotation'].isin(annotations_to_keep) | \n",
    "            filtered_df['Annotation'].isna())\n",
    "    \n",
    "    result_df = filtered_df[mask].copy()\n",
    "    \n",
    "    return result_df\n",
    "\n",
    "def find_closest_entry(peaks_df, posionmode_analytical_df):\n",
    "    analytical_study = []\n",
    "    \n",
    "    for index, row in peaks_df.iterrows():\n",
    "        value = index\n",
    "        \n",
    "        posionmode_analytical_df['Difference'] = np.abs(posionmode_analytical_df['Measured'] - value)\n",
    "        closest_entry = posionmode_analytical_df[posionmode_analytical_df['Difference'] <= ppm / 1e6 * posionmode_analytical_df['Measured']]\n",
    "        \n",
    "        if not closest_entry.empty:\n",
    "            closest_entry = closest_entry.sort_values(by='Difference')\n",
    "            closest_row = closest_entry.iloc[-1] ###\n",
    "            analytical_study.append(\n",
    "                f\"{closest_row['Species Level ID']}\"\n",
    "            )\n",
    "        else:\n",
    "            analytical_study.append(None)\n",
    "    \n",
    "    peaks_df['AnalyticalChemistryStudy'] = analytical_study\n",
    "    return peaks_df\n",
    "\n",
    "def split_at_second_space2(s):\n",
    "    parts = s.split(' ')\n",
    "    if len(parts) > 3:\n",
    "        index_second_space = s.find(' ', s.find(' ') + 1)\n",
    "        return s[:index_second_space], s[index_second_space + 1:]\n",
    "    return s, None"
   ]
  },
  {
   "cell_type": "code",
   "execution_count": null,
   "id": "a2f3c173-eff4-4288-b675-9ca6f833b8c2",
   "metadata": {},
   "outputs": [],
   "source": []
  },
  {
   "cell_type": "markdown",
   "id": "b21ca4b8-1626-40a2-a0d5-cebc143d2731",
   "metadata": {},
   "source": [
    "## Preprocess MS datasets and databases and use each of them to annotate our peaks"
   ]
  },
  {
   "cell_type": "markdown",
   "id": "10b1d2e9-96fb-4a90-907e-0dfe6c5fe995",
   "metadata": {},
   "source": [
    "## In house LC-MS"
   ]
  },
  {
   "cell_type": "code",
   "execution_count": null,
   "id": "54c35235-4eab-4469-a6b3-1b403a003cd0",
   "metadata": {},
   "outputs": [],
   "source": [
    "# import the m/z peaks\n",
    "\n",
    "PATH_DATA = '/data/LBA_DATA/ALL_DATA_PROCESSED/181024_BrainTOTAL_ALL_MOLECULES'\n",
    "root = zarr.open(PATH_DATA, mode='rb')\n",
    "PATH_MZ = np.sort(list(root.group_keys()))\n",
    "\n",
    "# annotate lipids with the ESI LC-MS generated in house\n",
    "lipid_mz_df = pd.read_csv(\"lcms_mar2022_withcounterions (2).txt\", index_col=0) \n",
    "lipid_mz_df[\"m/z\"] = lipid_mz_df[\"m/z\"].astype(float)\n",
    "lipid_mz_df[\"Lipids\"] = lipid_mz_df[\"Lipid\"] + \" - \" + lipid_mz_df[\"Adduct\"] + \"_\" + lipid_mz_df[\"m/z\"].astype(str)\n",
    "\n",
    "ilic = lipid_mz_df['Lipid'].values.copy()"
   ]
  },
  {
   "cell_type": "code",
   "execution_count": null,
   "id": "d5baa761-d5e1-4040-97c2-0fb4f46cc870",
   "metadata": {},
   "outputs": [],
   "source": [
    "assignment_df = pd.DataFrame(PATH_MZ, columns=['PATH_MZ'])             \n",
    "assignment_df.index = assignment_df['PATH_MZ'].astype(float)\n",
    "assignment_df['PATH_MZ'] = assignment_df['PATH_MZ'].astype(float)\n",
    "assignment_df['ILICColumn within +-distance_ab5ppm'] = assignment_df['PATH_MZ'].apply(lambda mz: find_matching_lipids(mz, lipid_mz_df))\n",
    "assignment_df"
   ]
  },
  {
   "cell_type": "code",
   "execution_count": null,
   "id": "6e339f0e-104e-4f77-9c51-ef030a5d2edc",
   "metadata": {},
   "outputs": [],
   "source": [
    "# check how many were annotated\n",
    "len(assignment_df['ILICColumn within +-distance_ab5ppm'].unique())"
   ]
  },
  {
   "cell_type": "markdown",
   "id": "235a0232-3a43-415d-94e9-a2d52e6c85e8",
   "metadata": {},
   "source": [
    "## Tandem LC-MS2"
   ]
  },
  {
   "cell_type": "code",
   "execution_count": null,
   "id": "343d2a9f-af59-4244-9f52-64c817a008c3",
   "metadata": {},
   "outputs": [],
   "source": [
    "# annotate lipids with the TANDEM LC-MS, passed through the goslin database online portal (https://lifs-tools.org/goslin.html)\n",
    "\n",
    "lipid_mz_df = pd.read_csv(\"goslin_output.tsv\",sep='\\t')\n",
    "goslin = lipid_mz_df[['Normalized Name', 'Exact Mass']]\n",
    "\n",
    "# add to exact masses the ions\n",
    "adducts = {\n",
    "    'Na+': 22.989769,\n",
    "    'K+': 38.963707,\n",
    "    'H+': 1.007276,\n",
    "    'NH4+': 18.033823\n",
    "}\n",
    "tandem = lipid_mz_df[['Species Name']].iloc[:,0].values.copy()[1:]\n",
    "\n",
    "lipid_mz_df"
   ]
  },
  {
   "cell_type": "code",
   "execution_count": null,
   "id": "ebcae412-346e-4a11-9914-e7676de2cfa5",
   "metadata": {},
   "outputs": [],
   "source": [
    "filtered_goslin = goslin.dropna(subset=['Exact Mass'])\n",
    "new_entries = filtered_goslin.apply(create_adduct_entries, axis=1)\n",
    "goslin = pd.DataFrame([entry for sublist in new_entries for entry in sublist])\n",
    "lipid_mz_df = goslin\n",
    "lipid_mz_df[\"m/z\"] = lipid_mz_df[\"Exact Mass\"].astype(float)\n",
    "lipid_mz_df[\"Lipids\"] = lipid_mz_df[\"Normalized Name\"] + \" - \" + lipid_mz_df[\"Adduct\"] + \"_\" + lipid_mz_df[\"m/z\"].astype(str)\n",
    "\n",
    "assignment_df['TANDEMMS within +-distance_ab5ppm'] = assignment_df['PATH_MZ'].apply(lambda mz: find_matching_lipids(mz, lipid_mz_df))\n",
    "lipid_mz_df"
   ]
  },
  {
   "cell_type": "code",
   "execution_count": null,
   "id": "2af922ff-d27c-4a87-a23d-1c5c868572cf",
   "metadata": {},
   "outputs": [],
   "source": [
    "# little snippet to check fast what's around (and how far) a given peak of interest\n",
    "lipid_mz_df.loc[(lipid_mz_df['Exact Mass'] - 869.649307).abs().idxmin()]"
   ]
  },
  {
   "cell_type": "code",
   "execution_count": null,
   "id": "b4bbf8ee-4006-4c45-bedd-11b13cb5d35c",
   "metadata": {},
   "outputs": [],
   "source": [
    "len(assignment_df['TANDEMMS within +-distance_ab5ppm'].unique())"
   ]
  },
  {
   "cell_type": "markdown",
   "id": "5ca8c3ea-fe72-4b53-be3e-637ca1776cb0",
   "metadata": {},
   "source": [
    "## Literature key datasets"
   ]
  },
  {
   "cell_type": "code",
   "execution_count": null,
   "id": "88aa2795-3378-4a4f-a0d5-61fbe9235a99",
   "metadata": {},
   "outputs": [],
   "source": [
    "# annotate lipids with the Fitzner dataset, passed through the goslin database online portal (https://lifs-tools.org/goslin.html)\n",
    "\n",
    "fitzner = pd.read_csv(\"fitzner_normalized.tsv\",sep='\\t')\n",
    "goslinfitzner = fitzner[['Species Name', 'Exact Mass']]\n",
    "\n",
    "# add to exact masses the ions\n",
    "adducts = {\n",
    "    'Na+': 22.989769,\n",
    "    'K+': 38.963707,\n",
    "    'H+': 1.007276,\n",
    "    'NH4+': 18.033823\n",
    "}\n",
    "\n",
    "fitzner_ = fitzner[['Species Name']].iloc[:,0].values.copy()[1:]\n",
    "\n",
    "filtered_goslinfitzner = goslinfitzner.dropna(subset=['Exact Mass'])\n",
    "new_entries = filtered_goslinfitzner.apply(create_adduct_entries, axis=1)\n",
    "goslinfitzner = pd.DataFrame([entry for sublist in new_entries for entry in sublist])\n",
    "lipid_mz_dffitzner = goslinfitzner\n",
    "lipid_mz_dffitzner[\"m/z\"] = lipid_mz_dffitzner[\"Exact Mass\"].astype(float)\n",
    "lipid_mz_dffitzner[\"Lipids\"] = lipid_mz_dffitzner[\"Species Name\"] #+ \" - \" + lipid_mz_dffitzner[\"Adduct\"] + \"_\" + lipid_mz_dffitzner[\"m/z\"].astype(str)\n",
    "lipid_mz_dffitzner = lipid_mz_dffitzner.drop_duplicates()\n",
    "lipid_mz_dffitzner"
   ]
  },
  {
   "cell_type": "code",
   "execution_count": null,
   "id": "436b0527-2d17-4c4e-a1fe-b0d7618cd40c",
   "metadata": {},
   "outputs": [],
   "source": [
    "assignment_df['Fitzner within +-distance_ab5ppm'] = assignment_df['PATH_MZ'].apply(lambda mz: find_matching_lipids(mz, lipid_mz_dffitzner))\n",
    "\n",
    "len(assignment_df['Fitzner within +-distance_ab5ppm'].unique())"
   ]
  },
  {
   "cell_type": "code",
   "execution_count": null,
   "id": "26e84950-b12e-4415-9bd6-1cfec66aa14e",
   "metadata": {},
   "outputs": [],
   "source": [
    "# import the dataset from a nice MSI study of brain lipidomics (https://pubs.acs.org/doi/10.1021/acs.analchem.3c02724)\n",
    "\n",
    "posionmode_analytical = pd.read_csv(\"posionmode_acs.csv\")\n",
    "\n",
    "# augment that dataset to also keep into account all possible counterions we may get\n",
    "adduct_masses = {\n",
    "    '[M+H]+': 1.007276,\n",
    "    '[M+Na]+': 22.989769,\n",
    "    '[M+K]+': 38.963707,\n",
    "    '[M+NH4]+': 18.033823\n",
    "}\n",
    "\n",
    "posionmode_analytical['Original Mass'] = posionmode_analytical.apply(lambda row: row['Measured'] - adduct_masses[row['Adduct']], axis=1)\n",
    "new_rows = []\n",
    "for _, row in posionmode_analytical.iterrows():\n",
    "    for adduct, mass in adduct_masses.items():\n",
    "        new_row = row.copy()\n",
    "        new_row['Adduct'] = adduct\n",
    "        new_row['Measured'] = row['Original Mass'] + mass\n",
    "        new_rows.append(new_row)\n",
    "\n",
    "posionmode_analytical = pd.DataFrame(new_rows)\n",
    "analchem=posionmode_analytical[\"Species Level ID\"].values\n",
    "posionmode_analytical"
   ]
  },
  {
   "cell_type": "code",
   "execution_count": null,
   "id": "8aa3c887-2c3c-4321-9656-878b0b9290a1",
   "metadata": {
    "tags": []
   },
   "outputs": [],
   "source": [
    "# closest entry for each peak within +-distance_ab5ppm\n",
    "peaks_df = find_closest_entry(assignment_df, posionmode_analytical)\n",
    "\n",
    "for i in range(peaks_df.shape[0]):\n",
    "    if peaks_df.iloc[i,:]['AnalyticalChemistryStudy'] is None:\n",
    "        continue\n",
    "    else:\n",
    "        peaks_df.iloc[i,:]['AnalyticalChemistryStudy'] = [peaks_df.iloc[i,:]['AnalyticalChemistryStudy']]\n",
    "\n",
    "peaks_df"
   ]
  },
  {
   "cell_type": "code",
   "execution_count": null,
   "id": "11df48f3-a635-44e0-9ad1-340dd4e7ce5d",
   "metadata": {},
   "outputs": [],
   "source": [
    "len(peaks_df['AnalyticalChemistryStudy'].unique())"
   ]
  },
  {
   "cell_type": "markdown",
   "id": "b8b27d1e-81d4-4e58-a599-d9189fd643bb",
   "metadata": {},
   "source": [
    "## LIPIDMAPS"
   ]
  },
  {
   "cell_type": "code",
   "execution_count": null,
   "id": "d96a4ad2-98a8-409b-b71f-b884f25acd01",
   "metadata": {},
   "outputs": [],
   "source": [
    "# preprocess LIPIDMAPS\n",
    "\n",
    "# load SDF file\n",
    "supplier = Chem.SDMolSupplier('structures.sdf')\n",
    "\n",
    "# load the first molecule from the supplier\n",
    "first_molecule = next(iter(supplier))\n",
    "\n",
    "if first_molecule is not None:\n",
    "    # get the names of all keys\n",
    "    keys = first_molecule.GetPropNames()\n",
    "    print(list(keys))\n",
    "\n",
    "# initialize empty lists to store data\n",
    "lm_id_list = []\n",
    "name_list = []\n",
    "systematic_name_list = []\n",
    "category_list = []\n",
    "main_class_list = []\n",
    "mass_list = []\n",
    "abbreviation_list = []\n",
    "ik_list = []\n",
    "\n",
    "# iterate over the molecules in the SDF file\n",
    "for molecule in tqdm(supplier):\n",
    "    if molecule is not None:\n",
    "        if molecule.HasProp('LM_ID'):\n",
    "            lm_id_list.append(molecule.GetProp('LM_ID'))\n",
    "        else:\n",
    "            lm_id_list.append(None)\n",
    "        \n",
    "        if molecule.HasProp('NAME'):\n",
    "            name_list.append(molecule.GetProp('NAME'))\n",
    "        else:\n",
    "            name_list.append(None)\n",
    "        \n",
    "        if molecule.HasProp('SYSTEMATIC_NAME'):\n",
    "            systematic_name_list.append(molecule.GetProp('SYSTEMATIC_NAME'))\n",
    "        else:\n",
    "            systematic_name_list.append(None)\n",
    "        \n",
    "        if molecule.HasProp('CATEGORY'):\n",
    "            category_list.append(molecule.GetProp('CATEGORY'))\n",
    "        else:\n",
    "            category_list.append(None)\n",
    "        \n",
    "        if molecule.HasProp('MAIN_CLASS'):\n",
    "            main_class_list.append(molecule.GetProp('MAIN_CLASS'))\n",
    "        else:\n",
    "            main_class_list.append(None)\n",
    "            \n",
    "        if molecule.HasProp('EXACT_MASS'):\n",
    "            mass_list.append(molecule.GetProp('EXACT_MASS'))\n",
    "        else:\n",
    "            mass_list.append(None)\n",
    "            \n",
    "        if molecule.HasProp('ABBREVIATION'):\n",
    "            abbreviation_list.append(molecule.GetProp('ABBREVIATION'))\n",
    "        else:\n",
    "            abbreviation_list.append(None)\n",
    "            \n",
    "        if molecule.HasProp('INCHI_KEY'):\n",
    "            ik_list.append(molecule.GetProp('INCHI_KEY'))\n",
    "        else:\n",
    "            ik_list.append(None)\n",
    "\n",
    "data = {\n",
    "    'LM_ID': lm_id_list,\n",
    "    'NAME': name_list,\n",
    "    'SYSTEMATIC_NAME': systematic_name_list,\n",
    "    'CATEGORY': category_list,\n",
    "    'MAIN_CLASS': main_class_list,\n",
    "    'EXACT_MASS': mass_list,\n",
    "    'ABBREVIATION': abbreviation_list,\n",
    "    'INCHY_KEY': ik_list\n",
    "}\n",
    "\n",
    "df = pd.DataFrame(data)\n",
    "\n",
    "lipidmaps = df\n",
    "lipidmaps_hmdb = lipidmaps.copy()\n",
    "\n",
    "# prepare using HMDB to match METASPACE and LIPIDMAPS naming conventions\n",
    "\n",
    "hmdb = pd.read_csv(\"HMDB_complete.csv\", index_col=0)\n",
    "merged_df = pd.merge(lipidmaps_hmdb, hmdb, left_on='INCHY_KEY', right_on='InchiKey', how='left')\n",
    "\n",
    "conversionhmdb = merged_df[['DBID', 'ABBREVIATION']].dropna()"
   ]
  },
  {
   "cell_type": "code",
   "execution_count": null,
   "id": "d4e6a833-4f2f-40e4-be4f-42cb5563b748",
   "metadata": {},
   "outputs": [],
   "source": []
  },
  {
   "cell_type": "markdown",
   "id": "b9887831-33fd-4104-90bd-c5dad2392f0d",
   "metadata": {},
   "source": [
    "## METASPACE"
   ]
  },
  {
   "cell_type": "code",
   "execution_count": null,
   "id": "1c3caf21-9e9e-4f58-a8ec-bdd6e6d75939",
   "metadata": {},
   "outputs": [],
   "source": [
    "# METASPACE annotations downloaded from the portal after uploading our raw data\n",
    "data_path = '/data/LBA_DATA/METASPACE_annotations/' ######\n",
    "file_paths = [os.path.join(data_path, f) for f in os.listdir(data_path)]\n",
    "df_list = [pd.read_csv(f, skiprows=2, index_col=0)[['datasetName', 'adduct', 'mz', 'msm', 'fdr', 'moleculeNames', 'moleculeIds']].reset_index(drop=True) for f in file_paths]\n",
    "\n",
    "metaspace = pd.concat(df_list)\n",
    "metaspace = metaspace[['mz',\t'msm',\t'fdr',\t'moleculeNames', 'adduct', 'moleculeIds']].drop_duplicates()\n",
    "\n",
    "metaspace = metaspace.reset_index()\n",
    "peaks_df['METASPACEfdr'] = np.nan\n",
    "peaks_df['METASPACEname'] = np.nan\n",
    "peaks_df['METASPACEmsm'] = np.nan\n",
    "\n",
    "conversion_dict = conversionhmdb.set_index('DBID')['ABBREVIATION'].to_dict()\n",
    "\n",
    "metaspace['MappedAbbreviations'] = metaspace['moleculeIds'].apply(map_hmdb_ids)\n",
    "\n",
    "metaspace"
   ]
  },
  {
   "cell_type": "code",
   "execution_count": null,
   "id": "dc1fa283-3257-4fef-9fcb-96d47246e390",
   "metadata": {},
   "outputs": [],
   "source": [
    "# add the metaspace annotations\n",
    "\n",
    "metaspace = metaspace[['mz', 'msm',\t'fdr',\t'MappedAbbreviations', 'adduct']]\n",
    "\n",
    "metaspace.columns = ['mz', 'METASPACEmsm', 'METASPACEfdr', 'METASPACEname', 'adduct']\n",
    "\n",
    "for idx, row in peaks_df.iterrows():\n",
    "    peaks_mz = float(idx) \n",
    "    closest_metaspace_values = find_closest_mz(peaks_mz, metaspace)\n",
    "    peaks_df.at[idx, 'METASPACEfdr'] = closest_metaspace_values['METASPACEfdr']\n",
    "    peaks_df.at[idx, 'METASPACEname'] = closest_metaspace_values['METASPACEname']\n",
    "    peaks_df.at[idx, 'METASPACEmsm'] = closest_metaspace_values['METASPACEmsm']\n",
    "\n",
    "peaks_df"
   ]
  },
  {
   "cell_type": "code",
   "execution_count": null,
   "id": "0abfcca5-6ea6-4309-918b-b2f267ebf1f9",
   "metadata": {},
   "outputs": [],
   "source": [
    "# some further preprocessing of different nomenclatures\n",
    "\n",
    "lipid_mz_df = pd.read_csv(\"goslin_output.tsv\",sep='\\t')\n",
    "shortnaming = lipid_mz_df[['Normalized Name', 'Species Name']]\n",
    "peaks_df['ListCandidatesTANDEMMS'] = peaks_df['TANDEMMS within +-distance_ab5ppm'].apply(process_values)\n",
    "name_to_species = dict(zip(shortnaming['Normalized Name'], shortnaming['Species Name']))\n",
    "peaks_df['ShortNamesTANDEMMS'] = peaks_df['ListCandidatesTANDEMMS'].apply(map_to_species_name)\n",
    "peaks_df"
   ]
  },
  {
   "cell_type": "code",
   "execution_count": null,
   "id": "1bc1b2ca-2fb8-4f55-8e3b-583a2bb56607",
   "metadata": {},
   "outputs": [],
   "source": [
    "len(peaks_df['ShortNamesTANDEMMS'].apply(tuple).unique())"
   ]
  },
  {
   "cell_type": "code",
   "execution_count": null,
   "id": "f81f233a-2840-4b0b-b4ec-7b9b1efbc69a",
   "metadata": {},
   "outputs": [],
   "source": [
    "# add LIPIDMAPS annotation\n",
    "\n",
    "lipidmaps.loc[lipidmaps['ABBREVIATION'].isna(), 'ABBREVIATION'] = lipidmaps['NAME']\n",
    "\n",
    "lipidmaps = lipidmaps[['EXACT_MASS',\t'ABBREVIATION']]\n",
    "\n",
    "# reconsider all possible adducts\n",
    "peaks_df['mz'] = peaks_df.index.astype(float)\n",
    "peaks_df['mz'] = [[peaks_df.iloc[i,:]['mz'] - 22.989769, peaks_df.iloc[i,:]['mz'] - 38.963707, peaks_df.iloc[i,:]['mz'] - 1.007825, peaks_df.iloc[i,:]['mz'] - 18.033823] for i in range(0, peaks_df.shape[0])]\n",
    "\n",
    "lipidmaps['EXACT_MASS'] = pd.to_numeric(lipidmaps['EXACT_MASS'], errors='coerce')\n",
    "\n",
    "peaks_df['LIPIDMAPS'] = peaks_df['mz'].apply(lambda x: find_closest_abbreviation(x, lipidmaps))\n",
    "\n",
    "len(peaks_df['LIPIDMAPS'].apply(tuple).unique())"
   ]
  },
  {
   "cell_type": "code",
   "execution_count": null,
   "id": "b861509b-30ae-458b-89cd-3cb31c7402fd",
   "metadata": {},
   "outputs": [],
   "source": []
  },
  {
   "cell_type": "markdown",
   "id": "330ce71c-47ac-4872-8769-86ef259a8acb",
   "metadata": {},
   "source": [
    "## Combine the studies to define an annotation and score it"
   ]
  },
  {
   "cell_type": "code",
   "execution_count": null,
   "id": "536692fd-e6d8-40cd-837b-c931e17fb6ca",
   "metadata": {
    "tags": []
   },
   "outputs": [],
   "source": [
    "# first, annotate with the tandem MS2\n",
    "peaks_df['Annotation'] = peaks_df['ShortNamesTANDEMMS']\n",
    "peaks_df['Score'] = 0\n",
    "peaks_df['Score'] = peaks_df.apply(update_score, axis=1)\n",
    "peaks_df"
   ]
  },
  {
   "cell_type": "code",
   "execution_count": null,
   "id": "8c45ac0b-a546-4e72-9cd0-799817eb39e6",
   "metadata": {},
   "outputs": [],
   "source": [
    "peaks_df['Score'].value_counts()"
   ]
  },
  {
   "cell_type": "code",
   "execution_count": null,
   "id": "f2fc2f6b-cb18-4676-a98e-9160a29dd7f8",
   "metadata": {
    "tags": []
   },
   "outputs": [],
   "source": [
    "peaks_df['ShortNamesILICColumn'] = peaks_df['ILICColumn within +-distance_ab5ppm'].apply(process_ILICColumn_column)\n",
    "peaks_df['ShortNamesILICColumn'] = peaks_df['ShortNamesILICColumn'].apply(process_shortnames)"
   ]
  },
  {
   "cell_type": "code",
   "execution_count": null,
   "id": "96e7221c-6b0b-4f7b-8499-3456734292f6",
   "metadata": {},
   "outputs": [],
   "source": [
    "peaks_df['Annotation'] = peaks_df['Annotation'].apply(lambda x: [''] if isinstance(x, float) and pd.isna(x) else x)\n",
    "peaks_df['Annotation'] = peaks_df['Annotation'].apply(lambda x: [''] if len(x) == 0 else x)\n",
    "\n",
    "len(peaks_df['Annotation'].apply(tuple).unique())"
   ]
  },
  {
   "cell_type": "code",
   "execution_count": null,
   "id": "7213ee45-0c99-44c0-83ca-0245ca719446",
   "metadata": {
    "tags": []
   },
   "outputs": [],
   "source": [
    "peaks_df['Score'] += peaks_df.apply(lambda row: 3 if has_nonempty_intersection(row['Annotation'], row['ShortNamesILICColumn']) else 0, axis=1)\n",
    "peaks_df['Score'].value_counts()"
   ]
  },
  {
   "cell_type": "code",
   "execution_count": null,
   "id": "067ca7d7-1bcc-4981-a328-d0e927a1d17b",
   "metadata": {
    "tags": []
   },
   "outputs": [],
   "source": [
    "# second, annotate with the in-house LCMS\n",
    "peaks_df = peaks_df.apply(update_annotation_with_shortnames, axis=1)\n",
    "len(peaks_df['Annotation'].apply(tuple).unique())"
   ]
  },
  {
   "cell_type": "code",
   "execution_count": null,
   "id": "a0473a44-53bf-47cb-802a-d43004239543",
   "metadata": {
    "tags": []
   },
   "outputs": [],
   "source": [
    "# use also another ESI LC-MS dataset of mouse brain generated for another project in the lab\n",
    "ReversePhaseColumn = pd.read_csv(\"Transitions_list_240527_CG.csv\")\n",
    "reverseph = ReversePhaseColumn[\"PrecursorName\"].values\n",
    "reverseph"
   ]
  },
  {
   "cell_type": "code",
   "execution_count": null,
   "id": "77a1c777-2f6c-4d12-aea4-1904209dc5da",
   "metadata": {
    "tags": []
   },
   "outputs": [],
   "source": [
    "ReversePhaseColumn = ReversePhaseColumn[[\"PrecursorName\", \"PrecursorMz\"]]\n",
    "ReversePhaseColumn.columns = [\"ReversePhaseColumnName\", \"ReversePhaseColumnMZ\"]\n",
    "\n",
    "peaks_df['NameReversePhaseColumn'] = peaks_df.index.astype(float).map(lambda mz: find_closest_name(mz, ReversePhaseColumn['ReversePhaseColumnMZ'].astype(float).tolist(), ReversePhaseColumn['ReversePhaseColumnName'].tolist()))\n",
    "\n",
    "peaks_df = peaks_df.apply(update_annotation_with_shortnames_reversecolumn, axis=1)\n",
    "\n",
    "for x in range(len(peaks_df)):\n",
    "    try:\n",
    "        row = peaks_df.iloc[x]\n",
    "        \n",
    "        if len(np.intersect1d(row['Annotation'], np.array(row['NameReversePhaseColumn']))) > 0:\n",
    "            peaks_df.loc[peaks_df.index[x], 'Score'] = row['Score'] + 3\n",
    "            \n",
    "    except Exception as e:\n",
    "        continue\n",
    "\n",
    "peaks_df['Score'].value_counts()"
   ]
  },
  {
   "cell_type": "code",
   "execution_count": null,
   "id": "f9cf0f5e-0180-49e5-9053-b466a6055efe",
   "metadata": {
    "tags": []
   },
   "outputs": [],
   "source": [
    "# third, annotate with the Analytical Chemistry paper and the Fitzner dataset\n",
    "peaks_df = peaks_df.apply(update_annotation_with_shortnames2, axis=1)\n",
    "len(peaks_df['Annotation'].apply(tuple).unique())"
   ]
  },
  {
   "cell_type": "code",
   "execution_count": null,
   "id": "80b8df3e-d18b-41a5-a705-d53d960829ee",
   "metadata": {
    "tags": []
   },
   "outputs": [],
   "source": [
    "peaks_df = peaks_df.apply(update_annotation_with_shortnames2b, axis=1)\n",
    "len(peaks_df['Annotation'].apply(tuple).unique())"
   ]
  },
  {
   "cell_type": "code",
   "execution_count": null,
   "id": "d17d9d31-395d-4a38-81d0-39f51152deb1",
   "metadata": {
    "tags": []
   },
   "outputs": [],
   "source": [
    "# fourth, annotate with METASPACE\n",
    "peaks_df = peaks_df.apply(update_annotation_with_metaspace, axis=1)\n",
    "len(peaks_df['Annotation'].apply(tuple).unique())"
   ]
  },
  {
   "cell_type": "code",
   "execution_count": null,
   "id": "58b95fd7-d85b-4156-8016-e15b1a9c3257",
   "metadata": {},
   "outputs": [],
   "source": [
    "peaks_df['Score'].value_counts()"
   ]
  },
  {
   "cell_type": "code",
   "execution_count": null,
   "id": "0975fd85-1c8f-4c78-9593-b27a0824e10e",
   "metadata": {},
   "outputs": [],
   "source": [
    "unique_annotations = peaks_df['Annotation'].apply(safe_tuple)\n",
    "\n",
    "unique_annotations_list = list(unique_annotations)\n",
    "unique_annotations_set = set(map(nan_safe_key, unique_annotations_list))\n",
    "\n",
    "len(unique_annotations_set)"
   ]
  },
  {
   "cell_type": "code",
   "execution_count": null,
   "id": "e32af16f-3511-45ba-a266-62b20f7d00ac",
   "metadata": {
    "tags": []
   },
   "outputs": [],
   "source": [
    "for i in range(peaks_df.shape[0]):\n",
    "    try:\n",
    "        if len(np.intersect1d(np.array(peaks_df.iloc[i,:].loc['AnalyticalChemistryStudy']), peaks_df.iloc[i,:].loc['Annotation'])) > 0:\n",
    "            peaks_df['Score'].iloc[i] = peaks_df['Score'].iloc[i] + 3\n",
    "    except:\n",
    "        continue\n",
    "peaks_df['Score'].value_counts()"
   ]
  },
  {
   "cell_type": "code",
   "execution_count": null,
   "id": "57df563f-6d4a-4c37-9b5a-ed70a1a29aa8",
   "metadata": {},
   "outputs": [],
   "source": [
    "peaks_df['Fitzner within +-distance_ab5ppm'].iloc[0]"
   ]
  },
  {
   "cell_type": "code",
   "execution_count": null,
   "id": "146285bc-5c3e-4f85-8a4a-f59a1aaa262e",
   "metadata": {
    "tags": []
   },
   "outputs": [],
   "source": [
    "for i in range(peaks_df.shape[0]):\n",
    "    try:\n",
    "        if (peaks_df.iloc[i,:].loc['Fitzner within +-distance_ab5ppm'] is not None) & (peaks_df.iloc[i,:].loc['Fitzner within +-distance_ab5ppm'] != ''):\n",
    "            if len(np.intersect1d(np.array(peaks_df.iloc[i,:].loc['Fitzner within +-distance_ab5ppm']), peaks_df.iloc[i,:].loc['Annotation'])) > 0:\n",
    "                peaks_df['Score'].iloc[i] = peaks_df['Score'].iloc[i] + 3\n",
    "    except:\n",
    "        continue\n",
    "peaks_df['Score'].value_counts()"
   ]
  },
  {
   "cell_type": "code",
   "execution_count": null,
   "id": "92bc1b4f-09ba-4555-b7cc-c2ed6cef3548",
   "metadata": {
    "tags": []
   },
   "outputs": [],
   "source": [
    "for i in range(peaks_df.shape[0]):\n",
    "\n",
    "    if len(np.intersect1d(np.array(peaks_df.iloc[i,:]['METASPACEname']), np.array(peaks_df.iloc[i,:]['Annotation']))) > 0:\n",
    "        peaks_df['Score'].iloc[i] = peaks_df.iloc[i,:]['Score'] + 0.5\n",
    "\n",
    "for i in range(peaks_df.shape[0]):\n",
    "    try:\n",
    "        if len(np.intersect1d(np.array(peaks_df['LIPIDMAPS'].iloc[i]), np.array(peaks_df['Annotation'].iloc[i]))) > 0:\n",
    "            peaks_df['Score'].iloc[i] = peaks_df['Score'].iloc[i] + 0.5\n",
    "    except:\n",
    "        continue\n",
    "peaks_df"
   ]
  },
  {
   "cell_type": "code",
   "execution_count": null,
   "id": "421afe9b-15c0-49f4-9cdb-1105fe9a2ecc",
   "metadata": {},
   "outputs": [],
   "source": [
    "peaks_df['Score'].value_counts()"
   ]
  },
  {
   "cell_type": "code",
   "execution_count": null,
   "id": "e9f639ab-6cba-4f98-b505-c218d3d497da",
   "metadata": {
    "tags": []
   },
   "outputs": [],
   "source": [
    "pdf = peaks_df.sort_values(by='Score', ascending=False)\n",
    "pdf"
   ]
  },
  {
   "cell_type": "code",
   "execution_count": null,
   "id": "f9c16e55-0f29-40dd-b7b5-295e5824303d",
   "metadata": {},
   "outputs": [],
   "source": []
  },
  {
   "cell_type": "markdown",
   "id": "35d9ae10-b250-44e6-88b9-7c73ece5425d",
   "metadata": {},
   "source": [
    "## Use quantitative LC-MS results to break some ties when one of the candidate lipids is much more abundant in the brain"
   ]
  },
  {
   "cell_type": "code",
   "execution_count": null,
   "id": "a8c44453-5793-457b-b565-d3f936364584",
   "metadata": {},
   "outputs": [],
   "source": [
    "quantlcms = pd.read_csv(\"QuantitativeLCMS.csv\", index_col=0)\n",
    "\n",
    "atlas = quantlcms[['Male',\t'Male.1',\t'Male.2',\t'Male.3']] # use the males as the \"reference atlas\" we are going to use mostly is a male\n",
    "ref = atlas.iloc[1:,:].astype(float).mean(axis=1)\n",
    "annots = pd.read_csv(\"goslin_output.tsv\",sep='\\t')\n",
    "convt = annots[['Original Name', 'Species Name']]\n",
    "convt.index = convt['Original Name'].astype(str)\n",
    "refvals = pd.DataFrame(ref.values, index = ref.index, columns=[\"nmol_fraction_LCMS\"])\n",
    "refvals.index = refvals.index.str.replace('Hex1Cer', 'HexCer')\n",
    "tmp = pd.read_csv(\"manuallyannotated_addlcms.csv\", index_col=0).dropna()\n",
    "refvalstmp = refvals.loc[refvals.index.isin(tmp.iloc[:,0]),:]\n",
    "rvl = np.array(refvals.index)\n",
    "convl = np.array(convt.index)\n",
    "annots.index = annots['Original Name']\n",
    "annots = annots.loc[np.intersect1d(rvl, convl),:]\n",
    "refvals = refvals.loc[np.intersect1d(rvl, convl),:]\n",
    "indivannots = annots[['Species Name']]\n",
    "indivannots = indivannots.groupby('Original Name').first()\n",
    "refvals['Species Name'] = refvals.index.map(indivannots['Species Name'])\n",
    "tmp.index = tmp.iloc[:,0]\n",
    "tmp = tmp.loc[refvalstmp.index,:]\n",
    "refvalstmp['Species Name'] = tmp['Unnamed: 2']\n",
    "quantlcms = pd.concat([refvals, refvalstmp], axis=0)\n",
    "quantlcms.index = quantlcms['Species Name']\n",
    "quantlcms = quantlcms[['nmol_fraction_LCMS']]\n",
    "quantlcms = pd.DataFrame(quantlcms['nmol_fraction_LCMS'].groupby(quantlcms.index).sum()) # merge lipids that are distinguished in LCMS but undistinguishable in IMS\n",
    "quantlcms"
   ]
  },
  {
   "cell_type": "code",
   "execution_count": null,
   "id": "0d26b34e-5732-4413-bc97-1a1e78d7aba8",
   "metadata": {},
   "outputs": [],
   "source": [
    "# example of non-disambiguated lipid that is known to be superabundant, indeed it takes a sizable fraction of the three possible matches, but with the (arbitrary) 80% threshold we chose, it indeed loses by a tiny bit\n",
    "quantlcms.loc['PC 34:1',:] / (quantlcms.loc['PC 34:1',:] + quantlcms.loc['PC 36:4',:] + quantlcms.loc['PE 39:4',:])"
   ]
  },
  {
   "cell_type": "code",
   "execution_count": null,
   "id": "7043a6bf-d469-46dc-bb36-bcad5a923b91",
   "metadata": {},
   "outputs": [],
   "source": []
  },
  {
   "cell_type": "code",
   "execution_count": null,
   "id": "778918c8-fe01-40ba-af03-682127152773",
   "metadata": {
    "tags": []
   },
   "outputs": [],
   "source": [
    "THRESHOLD = 0.8 # a lipid to be prioritized should be at least 80% molar fraction\n",
    "\n",
    "pdf['AnnotationLCMSPrioritized'] = pdf['Annotation']\n",
    "for i, annot in enumerate(pdf['Annotation']):\n",
    "    if isinstance(annot, str):\n",
    "        annot = [annot]\n",
    "        pdf['Annotation'].iloc[i] = annot\n",
    "    now = quantlcms.loc[quantlcms.index.isin(annot),:]\n",
    "    now = now/now.sum()\n",
    "    if now['nmol_fraction_LCMS'].max() > THRESHOLD:\n",
    "        pdf['AnnotationLCMSPrioritized'].iloc[i] = now.index[now['nmol_fraction_LCMS'] > THRESHOLD].values[0]\n",
    "pdf['AnnotationLCMSPrioritized']"
   ]
  },
  {
   "cell_type": "code",
   "execution_count": null,
   "id": "31bc8d38-f86f-4c06-981a-ddfd423710db",
   "metadata": {},
   "outputs": [],
   "source": []
  },
  {
   "cell_type": "code",
   "execution_count": null,
   "id": "a9d8f547-1aee-4bbc-ab20-34811d59e6a5",
   "metadata": {
    "tags": []
   },
   "outputs": [],
   "source": [
    "# report the weighted annotation frequencies across studies as well #####?????\n",
    "pdf['AnnotFreq'] = [[] for _ in range(pdf.shape[0])]\n",
    "\n",
    "col_index = pdf.columns.get_loc('AnnotFreq')\n",
    "\n",
    "## manually giving more weight to MS-based ones\n",
    "columns_to_check = ['AnalyticalChemistryStudy', 'AnalyticalChemistryStudy',  'ShortNamesTANDEMMS', 'ShortNamesTANDEMMS', 'ShortNamesTANDEMMS', 'LIPIDMAPS', 'ShortNamesILICColumn','ShortNamesILICColumn', 'NameReversePhaseColumn', 'NameReversePhaseColumn', 'METASPACEname']\n",
    "\n",
    "for xxx in tqdm(range(0, pdf.shape[0])):\n",
    "    listona = []\n",
    "\n",
    "    CURRENTANNOT = pdf.iloc[xxx]['Annotation']\n",
    "    \n",
    "    try:\n",
    "        if CURRENTANNOT == ['']:\n",
    "            continue\n",
    "    except:\n",
    "        for annotation in np.array(CURRENTANNOT):\n",
    "\n",
    "            count = 0\n",
    "\n",
    "            for col in columns_to_check:\n",
    "                col_values = pdf.iloc[xxx][col]\n",
    "\n",
    "                if np.isscalar(col_values):\n",
    "                    col_values = [col_values]\n",
    "                elif isinstance(col_values, np.ndarray):\n",
    "                    col_values = col_values.tolist()\n",
    "\n",
    "                if np.isscalar(annotation):\n",
    "                    annotation = [annotation]\n",
    "                try:\n",
    "                    annotation = [x for x in annotation if x is not None]\n",
    "                except:\n",
    "                    annotation = ''\n",
    "                try:\n",
    "                    col_values = [x for x in col_values if x is not None]\n",
    "                except:\n",
    "                    col_values = 0\n",
    "\n",
    "                count_now = len(np.intersect1d(annotation, np.array(col_values)))\n",
    "                count = count + count_now\n",
    "\n",
    "            listona.append(count)\n",
    "\n",
    "        pdf.iat[xxx, col_index] = listona\n",
    "\n",
    "pdf['Annotation'] = pdf['Annotation'].apply(ensure_numpy_array)\n",
    "pdf['AnnotationTiesPrioritized'] = pdf.apply(prioritize_annotations, axis=1)\n",
    "pdf['AnnotationTiesPrioritized'] = pdf['AnnotationTiesPrioritized'].apply(process_annotations)\n",
    "pdf"
   ]
  },
  {
   "cell_type": "code",
   "execution_count": null,
   "id": "29778095-f21e-410d-a677-4a9eab4761ea",
   "metadata": {},
   "outputs": [],
   "source": [
    "df = pdf.copy()\n",
    "pdf['AnnotationLCMSPrioritized'] = pdf['AnnotationLCMSPrioritized'].apply(\n",
    "    lambda x: ', '.join(x) if isinstance(x, list) else x\n",
    ").astype(str)\n",
    "allnames = pdf['AnnotationLCMSPrioritized']\n",
    "\n",
    "allnames = pdf.loc[pdf['AnnotationLCMSPrioritized'] != '', 'AnnotationLCMSPrioritized']\n",
    "allnames = allnames[~pd.isna(allnames)]\n",
    "allnames"
   ]
  },
  {
   "cell_type": "code",
   "execution_count": null,
   "id": "215bb389-0115-4660-aa93-9143d1a08f52",
   "metadata": {
    "tags": []
   },
   "outputs": [],
   "source": [
    "result = []\n",
    "\n",
    "for name in allnames:\n",
    "    if name.count(' ') == 3:\n",
    "        first_part, second_part = split_at_second_space(name)\n",
    "        result.extend([' '.join(first_part), ' '.join(second_part)])\n",
    "    else:\n",
    "        result.append(name)"
   ]
  },
  {
   "cell_type": "code",
   "execution_count": null,
   "id": "fb085942-4ddf-4545-a981-ae092eeeb316",
   "metadata": {
    "tags": []
   },
   "outputs": [],
   "source": [
    "allnames = np.array(result)\n",
    "\n",
    "frequency_counter = Counter(allnames)\n",
    "frequency_df = pd.DataFrame(list(frequency_counter.items()), columns=['Entry', 'Frequency'])"
   ]
  },
  {
   "cell_type": "code",
   "execution_count": null,
   "id": "13e4ee3c-4c7a-42ed-83ae-ade527fe69c4",
   "metadata": {
    "tags": []
   },
   "outputs": [],
   "source": [
    "pdf['FrequencyLipidOtherPeaks'] = pdf['AnnotationTiesPrioritized'].astype(str).apply(map_frequency)\n",
    "pdf['Annotation'] = pdf['Annotation'].astype(str).str.strip('[]').str.replace(\"'\", \"\")\n",
    "pdf['AnnotationTiesPrioritized'] = pdf['AnnotationTiesPrioritized'].str.replace(r'[,\\[\\]]', '', regex=True)\n",
    "#pdf.loc[pdf['AnnotationTiesPrioritized'] != '', 'Annotation'] = pdf.loc[pdf['AnnotationTiesPrioritized'] != '', 'AnnotationTiesPrioritized']\n",
    "pdf['Annotation']"
   ]
  },
  {
   "cell_type": "code",
   "execution_count": null,
   "id": "fed34898-6ae6-4182-bddd-853ef5eb2f13",
   "metadata": {},
   "outputs": [],
   "source": [
    "pdf.loc[pdf['Annotation'] == \"SM 34:1;O2\",:] # a fast sanity check..."
   ]
  },
  {
   "cell_type": "code",
   "execution_count": null,
   "id": "add32898-1e71-4caf-9e1a-1b69b1d84d44",
   "metadata": {},
   "outputs": [],
   "source": [
    "pdf.loc[pdf['AnnotationLCMSPrioritized'] != '', 'Annotation'] = pdf.loc[pdf['AnnotationLCMSPrioritized'] != '', 'AnnotationLCMSPrioritized']\n",
    "pdf['Annotation'] = pdf['Annotation'].str.replace(r'[,\\[\\]]', '', regex=True)\n",
    "pdf['Annotation'] = pdf['Annotation'].str.replace(\"'\", \"\")"
   ]
  },
  {
   "cell_type": "code",
   "execution_count": null,
   "id": "ce4e63a8-b95a-4c94-9608-6d03a9c96fa2",
   "metadata": {},
   "outputs": [],
   "source": []
  },
  {
   "cell_type": "markdown",
   "id": "ab5817d5-62b4-440b-8d97-ef25d78773c3",
   "metadata": {},
   "source": [
    "## Archive the annotations for the raw dataset"
   ]
  },
  {
   "cell_type": "code",
   "execution_count": null,
   "id": "817fef99-d119-44c3-9cd2-64b71ebe006c",
   "metadata": {},
   "outputs": [],
   "source": [
    "np.sum(pdf['Score'] > 8)"
   ]
  },
  {
   "cell_type": "code",
   "execution_count": null,
   "id": "dd3c5e23-d062-4a24-bab8-5cac0bb04801",
   "metadata": {},
   "outputs": [],
   "source": [
    "pdf['Score'].value_counts()"
   ]
  },
  {
   "cell_type": "code",
   "execution_count": null,
   "id": "2d4ac5f3-3594-4d30-9adf-2a2d749b97bd",
   "metadata": {},
   "outputs": [],
   "source": [
    "pdf['LIPIDMAPS'] = pdf['LIPIDMAPS'].apply(lambda x: pd.NA if x == '[None, None, None, None]' else x)\n",
    "\n",
    "pdf['LIPIDMAPS'] = pdf['LIPIDMAPS'].astype(str).str.strip('[]').str.replace(\"'\", \"\")\n",
    "\n",
    "pdf['LIPIDMAPS'] = pdf['LIPIDMAPS'].apply(\n",
    "    lambda x: ', '.join([i.strip() for i in x.split(',') if i.strip() != 'None']) if pd.notnull(x) else x\n",
    ")\n",
    "pdf.loc[pdf['Annotation'].isna(), 'Annotation'] = pdf['LIPIDMAPS'] + \"_db\"\n",
    "pdf.loc[pdf['Score'] < 3., 'Annotation'] = pdf.loc[pdf['Score'] < 3., 'Annotation'] + \"_db\"\n",
    "\n",
    "mask_pi_cer = pdf['Annotation'].str.contains('PI-Cer')\n",
    "pdf.loc[mask_pi_cer, 'Annotation'] = pdf.loc[mask_pi_cer, 'Annotation'] + '_db'\n",
    "pdf.loc[mask_pi_cer, 'Score'] = 0.0\n",
    "\n",
    "mask_shex_cer = pdf['Annotation'].str.contains('SHexCer')\n",
    "pdf.loc[mask_shex_cer, 'Annotation'] = pdf.loc[mask_shex_cer, 'Annotation'] + '_db'\n",
    "pdf.loc[mask_shex_cer, 'Score'] = 0.0\n",
    "\n",
    "o3_mask = pdf['Annotation'].str.contains('O3')\n",
    "for idx in pdf[o3_mask].index:\n",
    "    o2_exists = pdf['Annotation'].str.contains(pdf.loc[idx, 'Annotation'].replace('O3', 'O2')).any()\n",
    "    if o2_exists:\n",
    "        pdf.loc[idx, 'Annotation'] = pdf.loc[idx, 'Annotation'] + '_db'\n",
    "    else:\n",
    "        pdf.loc[idx, 'Annotation'] = pdf.loc[idx, 'Annotation'].replace('O3', 'O2')"
   ]
  },
  {
   "cell_type": "code",
   "execution_count": null,
   "id": "677b48f0-324a-4498-aa99-1df55909f12b",
   "metadata": {},
   "outputs": [],
   "source": [
    "survived = pd.read_csv(\"survivedpeaks.csv\", index_col=0).values[23:][:,0]\n",
    "original_columns = pd.read_csv(\"originals.csv\", index_col=0).values[:,0]\n",
    "len(original_columns)"
   ]
  },
  {
   "cell_type": "code",
   "execution_count": null,
   "id": "18b65253-6db2-44b1-acbd-ad070dfcd827",
   "metadata": {},
   "outputs": [],
   "source": [
    "pdf['Status'] = \"unusable\"\n",
    "pdf.loc[pdf.index.isin(survived.astype(float)), 'Status'] = \"restored\"\n",
    "pdf.loc[pdf.index.isin(original_columns), 'Status'] =  \"measured\"\n",
    "pdf['Status'].value_counts()"
   ]
  },
  {
   "cell_type": "code",
   "execution_count": null,
   "id": "a3aeaf50-92d7-430a-907a-9d2e055bd6d1",
   "metadata": {},
   "outputs": [],
   "source": [
    "pdf2 = pdf.loc[pdf.index.astype(str).isin(survived.astype(str)),:]\n",
    "duplicated_mask = pdf2['Annotation'].duplicated(keep=False)\n",
    "max_score_indices = pdf2[duplicated_mask].groupby('Annotation')['Score'].idxmax()\n",
    "duplicate_label_mask = duplicated_mask & ~pdf2.index.isin(max_score_indices)\n",
    "duplicate_label_mask"
   ]
  },
  {
   "cell_type": "code",
   "execution_count": null,
   "id": "597e0c6f-74b0-4bff-a643-4b35b39a16a1",
   "metadata": {},
   "outputs": [],
   "source": [
    "pdf.loc[pdf.index.isin(duplicate_label_mask.index[duplicate_label_mask]), 'Status'] = pdf.loc[pdf.index.isin(duplicate_label_mask.index[duplicate_label_mask]), 'Status'] + \"_duplicated\""
   ]
  },
  {
   "cell_type": "code",
   "execution_count": null,
   "id": "dee4f62a-ecc3-4619-b491-2dffc6a52884",
   "metadata": {},
   "outputs": [],
   "source": [
    "pdf = pdf.drop(\"PATH_MZ\", axis=1)\n",
    "pdf"
   ]
  },
  {
   "cell_type": "code",
   "execution_count": null,
   "id": "a09cc989-afc0-470a-8894-86bf59d3b8fb",
   "metadata": {},
   "outputs": [],
   "source": [
    "# save the complete dataset to file\n",
    "pdf.to_csv(\"ALLANNOTATIONSCORES_20250215.csv\")\n",
    "#pdf[['Annotation', 'Score', 'AnnotationLCMSPrioritized', 'TANDEMMS within +-distance_ab5ppm', 'ILICColumn within +-distance_ab5ppm', 'NameReversePhaseColumn','AnalyticalChemistryStudy', 'METASPACEname', 'METASPACEfdr', 'LIPIDMAPS', 'FrequencyLipidOtherPeaks']].to_csv(\"ALLANNOTATIONS_20241213.csv\")"
   ]
  },
  {
   "cell_type": "code",
   "execution_count": null,
   "id": "10ef941a-7db6-40a7-b7ad-e7a7f496b77b",
   "metadata": {},
   "outputs": [],
   "source": [
    "morans = pd.read_csv(\"morans_by_sec.csv\", index_col=0)\n",
    "morans.columns = \"moran_acquisition\"+morans.columns.astype(str)\n",
    "morans"
   ]
  },
  {
   "cell_type": "code",
   "execution_count": null,
   "id": "7906f9b0-c996-4dc0-b9e3-0188e821d33c",
   "metadata": {},
   "outputs": [],
   "source": [
    "pdf = pd.concat([pdf, morans], axis=1)\n",
    "pdf"
   ]
  },
  {
   "cell_type": "code",
   "execution_count": null,
   "id": "fb9bf83b-0695-4d8e-b2c8-8b29612e56e5",
   "metadata": {},
   "outputs": [],
   "source": [
    "pdf = pdf.drop(['mz','AnnotationTiesPrioritized', 'FrequencyLipidOtherPeaks'], axis=1)"
   ]
  },
  {
   "cell_type": "code",
   "execution_count": null,
   "id": "57ffbf42-5d3d-417a-9f01-085af0db770e",
   "metadata": {},
   "outputs": [],
   "source": [
    "cols_to_move = ['Annotation', 'Score', 'Status']\n",
    "remaining_cols = [col for col in pdf.columns if col not in cols_to_move]\n",
    "pdf = pdf[cols_to_move + remaining_cols]\n",
    "pdf"
   ]
  },
  {
   "cell_type": "code",
   "execution_count": null,
   "id": "ea417ac0-6a98-4062-8dfc-5d75253b7369",
   "metadata": {},
   "outputs": [],
   "source": [
    "status_order = ['measured', 'restored', 'unusable']\n",
    "pdf['Status'] = pd.Categorical(pdf['Status'], categories=status_order, ordered=True)\n",
    "pdf = pdf.sort_values(by=['Status', 'Score'], ascending=[True, False])\n",
    "pdf"
   ]
  },
  {
   "cell_type": "code",
   "execution_count": null,
   "id": "4326d2bb-1e08-41fe-ba68-9c0308e944ac",
   "metadata": {},
   "outputs": [],
   "source": [
    "pdf.to_csv(\"cleanedANNOTATIONS_20250215.csv\")"
   ]
  },
  {
   "cell_type": "code",
   "execution_count": null,
   "id": "ad11de6a-0681-4fc7-81e8-42dfd21ae1e0",
   "metadata": {},
   "outputs": [],
   "source": []
  },
  {
   "cell_type": "markdown",
   "id": "e2f89c9b-89f2-4698-8858-6e86da37e08e",
   "metadata": {},
   "source": [
    "## Prepare a list of all lipids found generically in the brain by combining different studies"
   ]
  },
  {
   "cell_type": "code",
   "execution_count": null,
   "id": "5c50c9ad-f8c8-4b9d-bc4d-81afc824b6d4",
   "metadata": {},
   "outputs": [],
   "source": [
    "brainlipids = np.unique(np.concatenate((ilic.astype(str),\n",
    "tandem.astype(str),\n",
    "fitzner_.astype(str),\n",
    "analchem.astype(str),\n",
    "reverseph.astype(str))))\n",
    "\n",
    "brainlipids"
   ]
  },
  {
   "cell_type": "code",
   "execution_count": null,
   "id": "4403d368-80a4-45c9-877c-79e4883a9687",
   "metadata": {},
   "outputs": [],
   "source": [
    "len(brainlipids)"
   ]
  },
  {
   "cell_type": "code",
   "execution_count": null,
   "id": "6414ce98-2d93-437a-897e-3c4fa2697e0c",
   "metadata": {},
   "outputs": [],
   "source": [
    "pd.DataFrame(brainlipids).to_csv(\"brainlipids_unique.csv\")"
   ]
  },
  {
   "cell_type": "code",
   "execution_count": null,
   "id": "7614869f-6940-4608-9cf1-3cff896cc11f",
   "metadata": {},
   "outputs": [],
   "source": []
  },
  {
   "cell_type": "markdown",
   "id": "740374ca-8200-44a8-bf9c-85431a7c2c15",
   "metadata": {},
   "source": [
    "## Use the annotations and signals to prepare a subset of peaks to be normalized with uMAIA and used for lipidomic analysis"
   ]
  },
  {
   "cell_type": "code",
   "execution_count": null,
   "id": "e26656ff-869f-4869-937d-5bfc4191253d",
   "metadata": {},
   "outputs": [],
   "source": [
    "anns = pd.read_csv(\"ALLANNOTATIONS.csv\") # computed at a previous iteration, similar to this but with less stringent thresholds - yielded more peaks, \n",
    "# but naming for the dataset used throughout the study follows uMAIA and uses the above procedure for stringent naming"
   ]
  },
  {
   "cell_type": "code",
   "execution_count": null,
   "id": "a3b1a156-1a7d-474c-b22e-b08bf5f572ef",
   "metadata": {},
   "outputs": [],
   "source": [
    "anns['LIPIDMAPS'] = anns['LIPIDMAPS'].apply(lambda x: pd.NA if x == '[None, None, None, None]' else x)\n",
    "\n",
    "columns_to_check = ['Juljiana within +-0.01', 'Jonathan within +-0.01', 'NameCharlotte', \"AnalyticalChemistryStudy\", \"LIPIDMAPS\"]\n",
    "\n",
    "filtered_df = anns.dropna(subset=columns_to_check, how='all')\n",
    "filtered_df"
   ]
  },
  {
   "cell_type": "code",
   "execution_count": null,
   "id": "0043e015-9200-4091-ac32-ad9c67917ea6",
   "metadata": {},
   "outputs": [],
   "source": [
    "## prepare to prioritize the best adduct for each molecule to reduce the computational burden for uMAIA\n",
    "\n",
    "lipidomic_peaks = filtered_df['PATH_MZ']\n",
    "lipidomic_peaks_str = pd.DataFrame(lipidomic_peaks).applymap(lambda x: f\"{x:.6f}\" if pd.notna(x) else \"\")\n",
    "np.save(\"lipidomic_peaks_alldata_5annotsources.npy\", lipidomic_peaks_str.values[:,0])\n",
    "vcs = filtered_df['Annotation'].value_counts()\n",
    "to_dc = filtered_df.loc[filtered_df['Annotation'].isin(vcs.index[vcs>1]),:]\n",
    "grouped = to_dc.groupby('Annotation')['PATH_MZ'].agg(list)\n",
    "grouped"
   ]
  },
  {
   "cell_type": "code",
   "execution_count": null,
   "id": "d4eb96cd-f78a-4e2e-b20b-dd199d0c4e7f",
   "metadata": {},
   "outputs": [],
   "source": [
    "filtered_df#['AnnotationTiesPrioritized'] ### note the lipidmaps one do not have a name... we can add it with low confidence in case."
   ]
  },
  {
   "cell_type": "code",
   "execution_count": null,
   "id": "f7a175f8-d5a0-4edf-bcfa-5fca7605af06",
   "metadata": {},
   "outputs": [],
   "source": [
    "lipidnames = np.array(filtered_df['Annotation'])\n",
    "\n",
    "unique_lipids = set()\n",
    "for entry in lipidnames:\n",
    "    unique_lipids.update(split_lipids(entry))\n",
    "\n",
    "lipid_dict = {lipid: [] for lipid in unique_lipids}\n",
    "for entry in lipidnames:\n",
    "    if isinstance(entry, str):\n",
    "        lipids = split_lipids(entry)\n",
    "        for lipid in lipids:\n",
    "            lipid_dict[lipid].append(entry)\n",
    "\n",
    "# how many unique lipid names do we get?\n",
    "len(list(lipid_dict.keys()))"
   ]
  },
  {
   "cell_type": "code",
   "execution_count": null,
   "id": "14040748-ef06-4b7d-817b-6e0013afcefb",
   "metadata": {},
   "outputs": [],
   "source": [
    "processed_df = process_lipid_annotations(filtered_df, lipid_dict)\n",
    "processed_df"
   ]
  },
  {
   "cell_type": "code",
   "execution_count": null,
   "id": "49a61f23-910c-4d49-9955-16c09d79b168",
   "metadata": {},
   "outputs": [],
   "source": [
    "### add LIPIDMAPS names\n",
    "processed_df['LIPIDMAPS'] = processed_df['LIPIDMAPS'].astype(str).str.strip('[]').str.replace(\"'\", \"\")\n",
    "processed_df['LIPIDMAPS']"
   ]
  },
  {
   "cell_type": "code",
   "execution_count": null,
   "id": "2f0f9706-d5ce-4bd4-bdf6-ecc991b69cd1",
   "metadata": {},
   "outputs": [],
   "source": [
    "processed_df['LIPIDMAPS'] = processed_df['LIPIDMAPS'].apply(\n",
    "    lambda x: ', '.join([i.strip() for i in x.split(',') if i.strip() != 'None']) if pd.notnull(x) else x\n",
    ")\n",
    "processed_df.loc[processed_df['Annotation'].isna(), 'Annotation'] = processed_df['LIPIDMAPS']\n",
    "processed_df"
   ]
  },
  {
   "cell_type": "code",
   "execution_count": null,
   "id": "52d39cc1-70f3-49cd-85d3-abed4840c16b",
   "metadata": {},
   "outputs": [],
   "source": []
  },
  {
   "cell_type": "markdown",
   "id": "649ef802-692a-40ec-aa70-dd267175b708",
   "metadata": {},
   "source": [
    "## Prioritize isobars and remove untrustworthy lipids for uMAIA normalization"
   ]
  },
  {
   "cell_type": "code",
   "execution_count": null,
   "id": "5d859498-216f-4117-8f6f-c54ab424b0a3",
   "metadata": {},
   "outputs": [],
   "source": [
    "lipidnames = np.array(processed_df['Annotation'])\n",
    "\n",
    "unique_lipids = set()\n",
    "for entry in lipidnames:\n",
    "    unique_lipids.update(split_lipids(entry))\n",
    "\n",
    "lipid_dict = {lipid: [] for lipid in unique_lipids}\n",
    "\n",
    "for entry in lipidnames:\n",
    "    if isinstance(entry, str):\n",
    "        lipids = split_lipids(entry)\n",
    "        for lipid in lipids:\n",
    "            lipid_dict[lipid].append(entry)\n",
    "            \n",
    "len(lipid_dict) ### several are lipidmaps... 624 -> 2541\n",
    "\n",
    "# map to isobars to prioritize one based on total signal\n",
    "annotation_to_mz = processed_df.groupby('Annotation')['PATH_MZ'].agg(list).to_dict()"
   ]
  },
  {
   "cell_type": "code",
   "execution_count": null,
   "id": "1ec7d0b4-10dd-4a12-846e-60792d7634c5",
   "metadata": {
    "tags": []
   },
   "outputs": [],
   "source": [
    "## calculate the total signal inside the mask for each peak for each section\n",
    "\n",
    "path_save = '/data/LBA_DATA/'\n",
    "\n",
    "acquisitions=[ \n",
    "    #### BRAIN 2\n",
    "    'BrainAtlas/BRAIN2/20211201_MouseBrain2_S11_306x248_Att30_25um',\n",
    " 'BrainAtlas/BRAIN2/20211202_MouseBrain2_S12_332x246_Att30_25um',\n",
    " 'BrainAtlas/BRAIN2/20211203_MouseBrain2_S13_319x262_Att30_25um',\n",
    " 'BrainAtlas/BRAIN2/20211206_MouseBrain2_S14_354x299_Att30_25um',\n",
    " 'BrainAtlas/BRAIN2/20211209_MouseBrain2_S15_359x281_Att30_25um',\n",
    " 'BrainAtlas/BRAIN2/20220127_MouseBrain2_S16_398x303_Att30_25um',\n",
    " 'BrainAtlas/BRAIN2/20220105_MouseBrain2_S17_395x294_Att32_25um',\n",
    " 'BrainAtlas/BRAIN2/20220106_MouseBrain2_S18_393x309_Att32_25um',\n",
    " 'BrainAtlas/BRAIN2/20211210_MouseBrain2_S19_423x320_Att32_25um',\n",
    " 'BrainAtlas/BRAIN2/20220321_MouseBrain2_S20_Duplicate_443x313_Att30_25um',\n",
    " 'BrainAtlas/BRAIN2/20211213_MouseBrain2_S21_412x360_Att30_25um',\n",
    " 'BrainAtlas/BRAIN2/20220107_MouseBrain2_S22_417x310_Att32_25um',\n",
    " 'BrainAtlas/BRAIN2/20220224_MouseBrain2_S23_427x319_Att30_25um',\n",
    " 'BrainAtlas/BRAIN2/20220115_MouseBrain2_S24_427x322_Att30_25um',\n",
    " 'BrainAtlas/BRAIN2/20220311_MouseBrain2_S25_duplicate_476x336_Att30_25um',\n",
    " 'BrainAtlas/BRAIN2/20220120_MouseBrain2_S26_415x315_Att30_25um',\n",
    " 'BrainAtlas/BRAIN2/20220122_MouseBrain2_S27_443x301_Att30_25um',\n",
    " 'BrainAtlas/BRAIN2/20220125_MouseBrain2_S28_312x431_Att30_25um',\n",
    " 'BrainAtlas/BRAIN2/20220126_MouseBrain2_S29_410x290_Att30_25um',\n",
    " 'BrainAtlas/BRAIN2/20220111_MouseBrain2_S30_400x248_Att32_25um',\n",
    " 'BrainAtlas/BRAIN2/20220124_MouseBrain2_S31_394x261_Att30_25um',\n",
    " 'BrainAtlas/BRAIN2/20220130_MouseBrain2_S32_370x325_Att30_25um',\n",
    " 'BrainAtlas/BRAIN2/20220201_MouseBrain2_S33_359x314_Att30_25um',\n",
    " 'BrainAtlas/BRAIN2/20220203_MouseBrain2_S34_377x322_Att30_25um',\n",
    " 'BrainAtlas/BRAIN2/20220207_MouseBrain2_S35_375x344_Att30_25um',\n",
    " 'BrainAtlas/BRAIN2/20220210_MouseBrain2_S36_363x307_Att30_25um',\n",
    " 'BrainAtlas/BRAIN2/20220213_MouseBrain2_S37_354x308_Att30_25um',\n",
    " 'BrainAtlas/BRAIN2/20220216_MouseBrain2_S38_363x304_Att30_25um',\n",
    " 'BrainAtlas/BRAIN2/20220225_MouseBrain2_S39_354x296_Att30_25um',\n",
    " 'BrainAtlas/BRAIN2/20220308_MouseBrain2_S40_322x290_Att30_25um',\n",
    " 'BrainAtlas/BRAIN2/20220303_MouseBrain2_S41_333x262_Att30_25um',\n",
    " 'BrainAtlas/BRAIN2/20220222_MouseBrain2_S42_278x251_Att30_25um',\n",
    "\n",
    "#### BRAIN 3\n",
    "'BrainAtlas/BRAIN3/20221103_MouseBrain_LipidAtlas_Brain2_1A_231x231_Att30_25um',\n",
    "'BrainAtlas/BRAIN3/20221104_MouseBrain_LipidAtlas_Brain2_2B_257x209_Att30_25um',\n",
    "'BrainAtlas/BRAIN3/20221105_MouseBrain_LipidAtlas_Brain2_1C_249x247_Att30_25um',\n",
    "'BrainAtlas/BRAIN3/20221107_MouseBrain_LipidAtlas_Brain2_1D_274x247_Att30_25um',\n",
    "'BrainAtlas/BRAIN3/20221107_MouseBrain_LipidAtlas_Brain2_1E_286x251_Att30_25um',\n",
    "'BrainAtlas/BRAIN3/20221109_MouseBrain_LipidAtlas_Brain2_1F_308x267_Att30_25um',\n",
    "'BrainAtlas/BRAIN3/20221110_MouseBrain_LipidAtlas_Brain2_1G_338x266_Att30_25um',\n",
    "'BrainAtlas/BRAIN3/20221111_MouseBrain_LipidAtlas_Brain2_1H_345x239_Att30_25um',\n",
    "'BrainAtlas/BRAIN3/20221112_MouseBrain_LipidAtlas_Brain2_1I_368x259_Att30_25um',\n",
    "'BrainAtlas/BRAIN3/20221113_MouseBrain_LipidAtlas_Brain2_1J_374x262_Att30_25um',\n",
    "'BrainAtlas/BRAIN3/20221118_MouseBrain_LipidAtlas__Brain2_1K_390x291_Att30_25um',\n",
    "'BrainAtlas/BRAIN3/20221119_MouseBrain_LipidAtlas__Brain2_1L_394x310_Att30_25um',\n",
    "'BrainAtlas/BRAIN3/20221120_MouseBrain_LipidAtlas__Brain2_1M_400x303_Att30_25um',\n",
    "'BrainAtlas/BRAIN3/20221121_MouseBrain_LipidAtlas__Brain2_1N_390x309_Att30_25um',\n",
    "# '20221122_MouseBrain_LipidAtlas__Brain2_1O_422x284_Att30_25um',\n",
    "'BrainAtlas/BRAIN3/20221123_MouseBrain_LipidAtlas__Brain2_1P_434x327_Att30_25um',\n",
    "#### '20221209_MouseBrainLipidAlas_Brain2_Q1_429x315_Att30_25um',\n",
    "#### '20221210_MouseBrain_LipidAlas_Brain2_R1_431x328_Att30_25um',\n",
    "#### '20221211_MouseBrain_LipidAlas_Brain2_S2_430x335_Att30_25um',\n",
    "'BrainAtlas/BRAIN3/20221227_MouseBrain_LipdAtlas_R2_430x346_Att30_25um',\n",
    "'BrainAtlas/BRAIN3/20221229_MouseBrain_LipdAtlas_T1_448x317_Att30_25um',\n",
    "'BrainAtlas/BRAIN3/20221230_MouseBrain_LipdAtlas_Brain2_U1_441x330_Att30_25um',\n",
    "'BrainAtlas/BRAIN3/20230612_MouseBrain_LipidAtlas_Brain2_box1_V2_458x346_Att30_25um_Tx',\n",
    "'BrainAtlas/BRAIN3/20230103_MouseBrain_LipdAtlas_Brain2_W1_444x354_Att30_25um',\n",
    "'BrainAtlas/BRAIN3/20230310_MouseBrain_LipidAtlas_Brain2_X2_450x338_Att30_25um',\n",
    "'BrainAtlas/BRAIN3/20230316_MouseBrain_LipidAtlas_Brain2_Y2_452x337_Att30_25um',\n",
    "'BrainAtlas/BRAIN3/20230318_MouseBrain_LipidAtlas_Brain2_2_A1_453x358_Att30_25um',\n",
    "'BrainAtlas/BRAIN3/20230319_MouseBrain_LipidAtlas_Brain2_2_B1_457x349_Att30_25um',\n",
    "'BrainAtlas/BRAIN3/20230325_MouseBrain_LipidAtlas_Brain2_2_C2_451x352_Att30_25um',\n",
    "'BrainAtlas/BRAIN3/20230328_MouseBrain_LipidAtlas_Brain2_2_D1_456x339_Att30_25um',\n",
    "'BrainAtlas/BRAIN3/20230331_MouseBrain_LipidAtlas_Brain2_2_E1_449x315_Att30_25um',\n",
    "'BrainAtlas/BRAIN3/20230402_MouseBrain_LipidAtlas_Brain2_2_F1_447x324_Att30_25um',\n",
    "'BrainAtlas/BRAIN3/20230415_MouseBrain_LipidAtlas_Brain2_2_G2_434x282_Att30_25um',\n",
    "'BrainAtlas/BRAIN3/20230416_MouseBrain_LipidAtlas_Brain2_2_H1_418x283_Att30_25um',\n",
    "'BrainAtlas/BRAIN3/20230417_MouseBrain_LipidAtlas_Brain2_2_I1_413x291_Att30_25um',\n",
    "'BrainAtlas/BRAIN3/20230421_MouseBrain_LipidAtlas_Brain2_2_J3_417x323_Att30_25um',\n",
    "'BrainAtlas/BRAIN3/20230422_MouseBrain_LipidAtlas_Brain2_2_K1_404x305_Att30_25um',\n",
    "'BrainAtlas/BRAIN3/20230424_MouseBrain_LipidAtlas_Brain2_2_L2_409x296_Att30_25um',\n",
    "'BrainAtlas/BRAIN3/20230425_MouseBrain_LipidAtlas_Brain2_2_M1_403x303_Att30_25um',\n",
    "'BrainAtlas/BRAIN3/20230429_MouseBrain_LipidAtlas_Brain2_2_N1_394x304_Att30_25um',\n",
    "'BrainAtlas/BRAIN3/20230430_MouseBrain_LipidAtlas_Brain2_2_O4_391x294_Att30_25um',\n",
    "'BrainAtlas/BRAIN3/20230508_MouseBrain_LipidAtlas_Brain2_2_P2_379x312_Att30_25um',\n",
    "    'BrainAtlas/BRAIN3/20230515_MouseBrain_LipidAtlas_2_Q1_350x301_Att30_25um',\n",
    "    'BrainAtlas/BRAIN3/20230516_MouseBrain_LipidAtlas_2_R1_351x301_Att30_25um',\n",
    "    'BrainAtlas/BRAIN3/20230522_MouseBrain_LipidAtlas_Brain2_S1_344x279_Att30_25um',\n",
    "\n",
    "#### CONTROL BRAINS\n",
    "\n",
    "    \n",
    "    'BrainAtlas/Control_Brains/female/20220411_MouseBrain_female_217G_349x316_Att30_25um',\n",
    "    'BrainAtlas/Control_Brains/female/20220412_MouseBrain_female_217B_374x286_Att30_25um',\n",
    "    'BrainAtlas/Control_Brains/female/20220416_MouseBrain_female_217D_447x332_Att30_25um',\n",
    "    'BrainAtlas/Control_Brains/female/20220419_MouseBrain_female_217E_433x309_Att30_25um',\n",
    "    'BrainAtlas/Control_Brains/female/20220420_MouseBrain_female_217F_383x296_Att30_25um',\n",
    "    \n",
    "    'BrainAtlas/Control_Brains/female/20220617_MouseBrain_214_A_386x291_Att30_25um',\n",
    "    'BrainAtlas/Control_Brains/female/20220627_MouseBrain_214_F_383x313_Att30_25um',\n",
    "    'BrainAtlas/Control_Brains/female/20220709_MouseBrain_214_C_421x328_Att30_25um',\n",
    "    'BrainAtlas/Control_Brains/female/20220710_MouseBrain_214_E_415x292_Att30_25um',\n",
    "    'BrainAtlas/Control_Brains/female/20220711_MouseBrain_214_D_447x327_Att30_25um',\n",
    "    \n",
    "    'BrainAtlas/Control_Brains/female/20220712_MouseBrain_308_A_371x297_Att30_25um',\n",
    "    'BrainAtlas/Control_Brains/female/20220713_MouseBrain_308_B_399x315_Att30_25um',\n",
    "    'BrainAtlas/Control_Brains/female/20220725_MouseBrain_308_F_368x284_Att30_25um',\n",
    "    'BrainAtlas/Control_Brains/female/20220731_MouseBrain_308_C_401x326_Att30_25um',\n",
    "    'BrainAtlas/Control_Brains/female/20220810_MouseBrain_308_D_405x296_Att30_25um',\n",
    "    'BrainAtlas/Control_Brains/female/20220811_MouseBrain_308_E_410x292_Att30_25um',\n",
    "    \n",
    "    'BrainAtlas/Control_Brains/male/20220531_MouseBrain_203_B_409x281_Att30_25um',\n",
    "    'BrainAtlas/Control_Brains/male/20220605_MouseBrain_203_C_419x330_Att30_25um',\n",
    "    'BrainAtlas/Control_Brains/male/20220607_MouseBrain_203_A_362x283_Att30_25um',\n",
    "    'BrainAtlas/Control_Brains/male/20220609_MouseBrain_203_D_451x343_Att30_25um',\n",
    "    'BrainAtlas/Control_Brains/male/20220616_MouseBrain_203_E_430x282_Att30_25um',\n",
    "    'BrainAtlas/Control_Brains/male/20220608_MouseBrain_203_F_351x281_Att30_25um',\n",
    "    \n",
    "    'BrainAtlas/Control_Brains/male/20220421_MouseBrain_male_212B_387x285_Att30_25um',\n",
    "    'BrainAtlas/Control_Brains/male/20220423_MouseBrain_male_212C_412x334_Att30_25um',\n",
    "    'BrainAtlas/Control_Brains/male/20220425_MouseBrain_male_212G_382x305_Att30_25um',\n",
    "    'BrainAtlas/Control_Brains/male/20220426_MouseBrain_male_212D_dupl_422x338_Att30_25um',\n",
    "    'BrainAtlas/Control_Brains/male/20220427_MouseBrain_male_212E_443x322_Att30_25um',\n",
    "    'BrainAtlas/Control_Brains/male/20220502_MouseBrain_male_212F_330x243_Att30_25um',\n",
    "\n",
    "    'BrainAtlas/Control_Brains/male/20220920_MouseBrain_LipidAtlas_M_305_1A_406x268_Att30_25um',\n",
    "    'BrainAtlas/Control_Brains/male/20220920_MouseBrain_LipidAtlas_M_305_1B_434x308_Att30_25um',\n",
    "    'BrainAtlas/Control_Brains/male/20220920_MouseBrain_LipidAtlas_M_305_1C_430x325_Att30_25um',\n",
    "    'BrainAtlas/Control_Brains/male/20220923_MouseBrain_LipidAtlas_M_305_3D_448x322_Att30_25um',\n",
    "    'BrainAtlas/Control_Brains/male/20221030_MouseBrain_LipidAtlas_M_305_1E_393x340_Att30_25um',\n",
    "    'BrainAtlas/Control_Brains/male/20221031_MouseBrain_LipidAtlas_M_305_1F_365x313_Att30_25um',\n",
    "\n",
    "\n",
    "    ## PREGNANCY BRAINS\n",
    "    'PREGNANT/20240708_MouseBrain_LipidAtlas_Pregnant_Brain1_A1_395x280_25um_Att30',\n",
    "    'PREGNANT/20240709_MouseBrain_LipidAtlas_Pregnant_Brain1_B1_458x337_25um_Att30',\n",
    "    'PREGNANT/20240712_MouseBrain_LipidAtlas_Pregnant_Brain1_C2_459x352_25um_Att30',\n",
    "    'PREGNANT/20240714_MouseBrain_LipidAtlas_Pregnant_Brain1_D1_477x346_25um_Att30',\n",
    "    'PREGNANT/20240715_MouseBrain_LipidAtlas_Pregnant_Brain1_E1_454x310_25um_Att30',\n",
    "    'PREGNANT/20240711_MouseBrain_LipidAtlas_Pregnant_Brain1_F1_424x338_25um_Att30',\n",
    "\n",
    "    'PREGNANT/20240710_MouseBrain_LipidAtlas_Pregnant_Brain2_A1_380x297_25um_Att30',\n",
    "    'PREGNANT/20240721_MouseBrain_LipidAtlas_Pregnant_Brain2_B1_434x310_25um_Att30',\n",
    "    'PREGNANT/20240716_MouseBrain_LipidAtlas_Pregnant_Brain2_C1_445x318_25um_Att30',\n",
    "    'PREGNANT/20240717_MouseBrain_LipidAtlas_Pregnant_Brain2_D1_452x333_25um_Att30',\n",
    "    'PREGNANT/20240720_MouseBrain_LipidAtlas_Pregnant_Brain2_E1_436x299_25um_Att30',\n",
    "    'PREGNANT/20240719_MouseBrain_LipidAtlas_Pregnant_Brain2_F1_383x288_25um_Att30',\n",
    "\n",
    "    'PREGNANT/20240722_MouseBrain_LipidAtlas_Pregnant_Brain4_A1_383x301_25um_Att30',\n",
    "    'PREGNANT/20240723_MouseBrain_LipidAtlas_Pregnant_Brain4_B1_432x321_25um_Att30',\n",
    "    'PREGNANT/20240724_MouseBrain_LipidAtlas_Pregnant_Brain4_C1_467x353_25um_Att30',\n",
    "    'PREGNANT/20240727_MouseBrain_LipidAtlas_Pregnant_Brain4_D1_452x307_25um_Att30',\n",
    "    'PREGNANT/20240726_MouseBrain_LipidAtlas_Pregnant_Brain4_E1_436x307_25um_Att30',\n",
    "    'PREGNANT/20240725_MouseBrain_LipidAtlas_Pregnant_Brain4_F1_336x273_25um_Att30',\n",
    "    \n",
    "\n",
    "    ## GBA\n",
    "\n",
    "    'GBA1/20220505_MouseBrain_GBA1__7580_2A_395x287_Att30_25um',\n",
    "    'GBA1/20220506_MouseBrain_GBA1__7580_B2_421x333_Att30_25um',\n",
    "    'GBA1/20220519_MouseBrain_GBA1_7583_C1_430x310_Att30_25um',\n",
    "    'GBA1/20220507_MouseBrain_GBA1__7580_C2_427x324_Att30_25um',\n",
    "    'GBA1/20220510_MouseBrain_GBA1_7580_D2_444x312_Att30_25um',\n",
    "    'GBA1/20220511_MouseBrain_GBA1_7580_E2_406x314_Att30_25um',\n",
    "    'GBA1/20220513_MouseBrain_GBA1__7580_F2_352x295_Att30_25um',\n",
    "\n",
    "\n",
    "    # CERT\n",
    "    'CERT1/20240803_GDA990_Brain_Slide5_A_195x175_25um_Att30',\n",
    "    'CERT1/20240730_GDA990_Brain_Slide5_B_393x342_25um_Att30',\n",
    "    # 'CERT1/20240624_GDA990_BRAINc05_419X340_25UM_Att30',\n",
    "    'CERT1/20240620_GDA990_Brain_Slide5_D_413x331_25um_Att30',\n",
    "    'CERT1/20240729_GDA990_Brain_Slide6_E_395x309_25um_Att30',\n",
    "    'CERT1/20240731_GDA990_Brain_Slide5_F_414x324_25um_Att30',\n",
    "    'CERT1/20240802_GDA990_Brain_Slide5_G_366x304_25um_Att30'\n",
    "\n",
    "    \n",
    "]\n",
    "print(len(acquisitions))\n",
    "masks = [np.load(f'/data/LBA_DATA/{section}/mask.npy') for section in acquisitions]\n",
    "features = processed_df['PATH_MZ'].values\n",
    "totsig_df = pd.DataFrame(np.zeros((len(features), len(acquisitions))), index=features, columns = np.arange(0, len(acquisitions)).astype(str))\n",
    "totsig_df"
   ]
  },
  {
   "cell_type": "code",
   "execution_count": null,
   "id": "3407f9b8-bb8b-44ac-9c65-b224bef6ee16",
   "metadata": {},
   "outputs": [],
   "source": [
    "TBC = 5 # check 4 sections for now assuming they are representative to prioritize at least the good lipids, then compute the full dataframe\n",
    "\n",
    "for xxx, feat in tqdm(enumerate(features)): \n",
    "    feat_dec = f\"{float(feat):.6f}\"\n",
    "    ns = np.array(list(root[feat_dec].keys())).astype(int).astype(str) [:TBC]\n",
    "    \n",
    "    for nnn in ns:\n",
    "\n",
    "        MASK = masks[int(nnn)]\n",
    "        image = root[feat_dec][nnn][:]\n",
    "\n",
    "        image[MASK == 0] = 0\n",
    "        sig = np.mean(image*1e6)\n",
    "        \n",
    "        totsig_df.loc[feat, nnn] = sig\n",
    "        \n",
    "totsig_df = totsig_df.fillna(0)\n",
    "\n",
    "totsig_df"
   ]
  },
  {
   "cell_type": "code",
   "execution_count": null,
   "id": "8a777acb-b567-4116-8580-a39033ef8fa6",
   "metadata": {},
   "outputs": [],
   "source": [
    "totsig_df.to_hdf(\"totsig_df.h5ad\", key=\"table\")"
   ]
  },
  {
   "cell_type": "code",
   "execution_count": null,
   "id": "bf8a9b9e-bdfa-46b2-a117-aaa7b83135fa",
   "metadata": {},
   "outputs": [],
   "source": [
    "featuresum = totsig_df.sum(axis=1)\n",
    "featuresum.sort_values()"
   ]
  },
  {
   "cell_type": "code",
   "execution_count": null,
   "id": "a0c7ea7d-0bb0-4204-a8cc-4cebc91daa72",
   "metadata": {},
   "outputs": [],
   "source": [
    "import pickle\n",
    "\n",
    "output_file = 'annotation_to_mz.pkl'\n",
    "with open(output_file, 'wb') as f:\n",
    "    pickle.dump(annotation_to_mz, f)"
   ]
  },
  {
   "cell_type": "code",
   "execution_count": null,
   "id": "bd47e8bf-f638-4dc8-ac76-0118dacbe352",
   "metadata": {
    "tags": []
   },
   "outputs": [],
   "source": [
    "annotation_to_mz_bestisobar = {}\n",
    "\n",
    "for annotation, mz_values in annotation_to_mz.items():\n",
    "    max_featuresum = -float('inf') \n",
    "    best_mz = None  \n",
    "    \n",
    "    for mz_value in mz_values:\n",
    "        if mz_value in featuresum.index:\n",
    "            featuresum_value = featuresum.loc[mz_value]\n",
    "            if featuresum_value > max_featuresum:\n",
    "                max_featuresum = featuresum_value\n",
    "                best_mz = mz_value\n",
    "        else:\n",
    "            print(f\"m/z value {mz_value} not found in featuresum index.\")\n",
    "            \n",
    "    if best_mz is not None:\n",
    "        annotation_to_mz_bestisobar[annotation] = best_mz\n",
    "    else:\n",
    "        print(f\"No valid m/z values found for annotation {annotation}.\")\n",
    "        \n",
    "len(annotation_to_mz_bestisobar) # ok decent cut of 800+ features"
   ]
  },
  {
   "cell_type": "code",
   "execution_count": null,
   "id": "e500a99a-cc7c-43bc-8a45-ad51efa3ecbe",
   "metadata": {},
   "outputs": [],
   "source": [
    "adducts_cleaned = processed_df.loc[processed_df['PATH_MZ'].isin(list(annotation_to_mz_bestisobar.values())),:]\n",
    "adducts_cleaned"
   ]
  },
  {
   "cell_type": "code",
   "execution_count": null,
   "id": "450a5b6b-600e-4f14-a950-7a3e6185d2aa",
   "metadata": {},
   "outputs": [],
   "source": [
    "annotation_to_mz['SM 34:1;O2']"
   ]
  },
  {
   "cell_type": "code",
   "execution_count": null,
   "id": "475400da-72b7-4170-8511-2f29bcd2f743",
   "metadata": {},
   "outputs": [],
   "source": [
    "annotation_to_mz_bestisobar['SM 34:1;O2'] # this was chosen, does it make sense? check below"
   ]
  },
  {
   "cell_type": "code",
   "execution_count": null,
   "id": "c8d44940-3da1-4fce-9d93-356e7a921062",
   "metadata": {},
   "outputs": [],
   "source": [
    "annotation_to_mz['PC 36:3']"
   ]
  },
  {
   "cell_type": "code",
   "execution_count": null,
   "id": "f4337acd-37da-49a7-a9cf-0d0fdea3010c",
   "metadata": {},
   "outputs": [],
   "source": [
    "annotation_to_mz_bestisobar['PC 36:3'] # this was chosen, does it make sense? check below"
   ]
  },
  {
   "cell_type": "code",
   "execution_count": null,
   "id": "47eaaea5-6119-41f4-a90d-5861c767df48",
   "metadata": {
    "tags": []
   },
   "outputs": [],
   "source": [
    "#### do some checks that the choice makes sense \n",
    "PATH_DATA = '/data/LBA_DATA/ALL_DATA_PROCESSED/181024_BrainTOTAL_ALL_MOLECULES'\n",
    "root = zarr.open(PATH_DATA, mode='rb')\n",
    "PATH_MZ = np.sort(list(root.group_keys()))\n",
    "\n",
    "for esca in annotation_to_mz['PC 36:3']:#annotation_to_mz['SM 34:1;O2']:\n",
    "    esca = f\"{float(esca):.6f}\"\n",
    "    print(esca)\n",
    "    ns = np.sort(np.array(list(root[esca].keys())).astype(int)).astype(str)\n",
    "\n",
    "    print(len(PATH_MZ))\n",
    "    imgs = root[esca]\n",
    "\n",
    "    for k in ns:\n",
    "        plt.imshow(imgs[k][:])\n",
    "        plt.show()"
   ]
  },
  {
   "cell_type": "code",
   "execution_count": null,
   "id": "3decf2a5-054d-42fd-a016-215576208c89",
   "metadata": {},
   "outputs": [],
   "source": [
    "ndetsecs = []\n",
    "for xxx, feat in tqdm(enumerate(features)): \n",
    "    feat = f\"{float(feat):.6f}\"\n",
    "    ns = np.sort(np.array(list(root[feat].keys())).astype(int)).astype(str)\n",
    "    ndetsecs.append(len(ns))\n",
    "    \n",
    "ndet = pd.Series(ndetsecs, index=features)\n",
    "ndet"
   ]
  },
  {
   "cell_type": "code",
   "execution_count": null,
   "id": "d864ac65-be1a-4f64-b64e-6bff43429735",
   "metadata": {
    "tags": []
   },
   "outputs": [],
   "source": [
    "annotation_to_mz_bestisobar_basedonNsec = {}\n",
    "\n",
    "for annotation, mz_values in annotation_to_mz.items():\n",
    "    max_ndet = -float('inf') \n",
    "    best_mz = None  \n",
    "    \n",
    "    for mz_value in mz_values:\n",
    "        if mz_value in ndet.index:\n",
    "            ndet_value = ndet.loc[mz_value]\n",
    "            if ndet_value > max_ndet:\n",
    "                max_ndet = ndet_value\n",
    "                best_mz = mz_value\n",
    "        else:\n",
    "            print(f\"m/z value {mz_value} not found in ndet index.\")\n",
    "            \n",
    "    if best_mz is not None:\n",
    "        annotation_to_mz_bestisobar_basedonNsec[annotation] = best_mz\n",
    "    else:\n",
    "        print(f\"No valid m/z values found for annotation {annotation}.\")\n",
    "        \n",
    "sel1 = list(annotation_to_mz_bestisobar.values())\n",
    "sel2 = list(annotation_to_mz_bestisobar_basedonNsec.values())\n",
    "len(np.intersect1d(sel1, sel2)) / len(sel1) # 92% choosing most sections is equivalent to mean signal choice based on 4 sampled sections"
   ]
  },
  {
   "cell_type": "code",
   "execution_count": null,
   "id": "138daec8-767a-4bf9-9e69-ff7d31e09996",
   "metadata": {},
   "outputs": [],
   "source": [
    "peaks = adducts_cleaned['PATH_MZ'].values\n",
    "alldet = '/data/LBA_DATA/ALL_DATA_PROCESSED/181024_BrainTOTAL_ALL_MOLECULES'\n",
    "root = zarr.open(alldet, mode='rb')\n",
    "alldet = np.sort(list(root.group_keys()))"
   ]
  },
  {
   "cell_type": "code",
   "execution_count": null,
   "id": "87f9a36b-2522-4842-9aec-be20ca244925",
   "metadata": {},
   "outputs": [],
   "source": [
    "# also keep the heme along with lipids\n",
    "\n",
    "heme0 = 639.1666068\n",
    "heme0peak = alldet[np.argmin(np.abs(alldet.astype(float) - heme0))]\n",
    "\n",
    "heme1 = 653.14\n",
    "heme1peak = alldet[np.argmin(np.abs(alldet.astype(float) - heme1))]\n",
    "heme1peak"
   ]
  },
  {
   "cell_type": "code",
   "execution_count": null,
   "id": "60f52367-afa0-4566-a5e9-4748c380e970",
   "metadata": {
    "tags": []
   },
   "outputs": [],
   "source": [
    "kept_sorted_signal = featuresum.loc[adducts_cleaned['PATH_MZ']].sort_values()\n",
    "\n",
    "for esca in kept_sorted_signal.index[:3]:#these were considered undetected, shall we discard?\n",
    "    esca = f\"{float(esca):.6f}\"\n",
    "    print(esca)\n",
    "    ns = np.sort(np.array(list(root[esca].keys())).astype(int)).astype(str)\n",
    "    imgs = root[esca]\n",
    "\n",
    "    for k in ns:\n",
    "        plt.imshow(imgs[k][:])\n",
    "        plt.show()"
   ]
  },
  {
   "cell_type": "code",
   "execution_count": null,
   "id": "84fe94a7-9da4-474b-af38-b4bb67a64831",
   "metadata": {},
   "outputs": [],
   "source": [
    "plt.plot(kept_sorted_signal.values)"
   ]
  },
  {
   "cell_type": "code",
   "execution_count": null,
   "id": "ed3f8bec-9803-4f25-972e-a39f6db85113",
   "metadata": {
    "tags": []
   },
   "outputs": [],
   "source": [
    "for esca in kept_sorted_signal.index[-3:]:\n",
    "    esca = f\"{float(esca):.6f}\"\n",
    "    print(esca)\n",
    "    ns = np.sort(np.array(list(root[esca].keys())).astype(int)).astype(str)\n",
    "    imgs = root[esca]\n",
    "\n",
    "    for k in ns:\n",
    "        plt.imshow(imgs[k][:])\n",
    "        plt.show()"
   ]
  },
  {
   "cell_type": "code",
   "execution_count": null,
   "id": "6bf3e99c-41df-4b29-95f6-6e41d792f373",
   "metadata": {
    "tags": []
   },
   "outputs": [],
   "source": [
    "for esca in kept_sorted_signal.index[650:653]: # manually selected as threshold\n",
    "    esca = f\"{float(esca):.6f}\"\n",
    "    print(esca)\n",
    "    ns = np.sort(np.array(list(root[esca].keys())).astype(int)).astype(str)\n",
    "    imgs = root[esca]\n",
    "\n",
    "    for k in ns:\n",
    "        plt.imshow(imgs[k][:])\n",
    "        plt.show()"
   ]
  },
  {
   "cell_type": "code",
   "execution_count": null,
   "id": "a0283efa-99e0-4562-a627-4c0e9b9ab18a",
   "metadata": {},
   "outputs": [],
   "source": [
    "## i'll discard those in the 600 bottom mean signal that survived only thanks to lipidmaps so multiple reasons to be untrusted\n",
    "\n",
    "adducts_cleaned['totsig'] = np.array(kept_sorted_signal.loc[adducts_cleaned['PATH_MZ']])\n",
    "thr = kept_sorted_signal.iloc[600]\n",
    "adducts_cleaned = adducts_cleaned.loc[~((adducts_cleaned['Annotation'] == adducts_cleaned['LIPIDMAPS']) & (adducts_cleaned['totsig'] <thr)),:]\n",
    "adducts_cleaned"
   ]
  },
  {
   "cell_type": "code",
   "execution_count": null,
   "id": "e6f6f4ac-1d95-4552-8964-23ac4273f4ca",
   "metadata": {
    "tags": []
   },
   "outputs": [],
   "source": [
    "### remove features that were discarded by a preliminary permissive threshold on Moran's I\n",
    "\n",
    "toremove = np.load(\"tmpbadfeatures.npy\")\n",
    "adducts_cleaned = adducts_cleaned.loc[~adducts_cleaned['PATH_MZ'].astype(str).isin(toremove),:]\n",
    "bestfeatures = np.concatenate([np.array(adducts_cleaned['PATH_MZ']), np.array([heme1peak, heme0peak])])\n",
    "\n",
    "bestfeatures = np.unique(bestfeatures)\n",
    "print(len(bestfeatures))\n",
    "np.save(\"best1402features.npy\", bestfeatures)\n",
    "adducts_cleaned.to_csv(\"ALLANNOTATIONS_CLEAN.csv\")"
   ]
  },
  {
   "cell_type": "code",
   "execution_count": null,
   "id": "e0087cf4-d048-4616-a382-06d570d0c26d",
   "metadata": {},
   "outputs": [],
   "source": []
  },
  {
   "cell_type": "markdown",
   "id": "9af978eb-d54f-4d30-93cf-8869e45e5abf",
   "metadata": {},
   "source": [
    "## Justify quantitatively total signal as a good metric for adduct prioritarization"
   ]
  },
  {
   "cell_type": "code",
   "execution_count": null,
   "id": "a9913d62-a3a0-4403-93d5-749c09950676",
   "metadata": {},
   "outputs": [],
   "source": [
    "# calculate the correlation between peaks mapping to the same lipid, one section at a time, for all sections where they both appear, in the raw data\n",
    "\n",
    "annots = pd.read_csv(\"ALLANNOTATIONS_20241208.csv\")\n",
    "lipidomic_peaks = annots['PATH_MZ']\n",
    "lipidomic_peaks_str = pd.DataFrame(lipidomic_peaks).applymap(lambda x: f\"{x:.6f}\" if pd.notna(x) else \"\")\n",
    "vcs = annots['Annotation'].value_counts()\n",
    "to_dc = annots.loc[annots['Annotation'].isin(vcs.index[vcs>1]),:]\n",
    "grouped = to_dc.groupby('Annotation')['PATH_MZ'].agg(list)\n",
    "\n",
    "corrs = []\n",
    "pairs0 = []\n",
    "pairs1 = []\n",
    "secs = []\n",
    "\n",
    "import itertools\n",
    "from tqdm import tqdm\n",
    "for test in tqdm(grouped):\n",
    "    for test0, test1 in itertools.combinations(test, 2):\n",
    "        for NNN in range(32):\n",
    "            try:\n",
    "                mask = masks[NNN]\n",
    "                root = zarr.open(PATH_DATA, mode='rb')\n",
    "                a = np.exp(root[test0][NNN][:]) \n",
    "                b = np.exp(root[test1][NNN][:])\n",
    "                a = a.flatten()[mask.flatten()]\n",
    "                b = b.flatten()[mask.flatten()]\n",
    "\n",
    "                corrs.append(np.corrcoef(a, b)[0,1])\n",
    "                pairs0.append(test0)\n",
    "                pairs1.append(test1)\n",
    "                secs.append(NNN)\n",
    "            except:\n",
    "                continue\n",
    "                \n",
    "\n",
    "paircorr = pd.DataFrame([pairs0, pairs1, corrs, secs]).T\n",
    "paircorr.columns = ['peak1', 'peak2', 'corr', 'section']\n",
    "paircorr"
   ]
  },
  {
   "cell_type": "code",
   "execution_count": null,
   "id": "d6353605-b305-42a9-9846-cbb5b5127578",
   "metadata": {},
   "outputs": [],
   "source": [
    "# remove the peaks that were tagged by a gentle threshold on Moran's I as spatial noise\n",
    "\n",
    "toremove = np.load(\"tmpbadfeatures.npy\")\n",
    "paircorr['flagged'] = 0\n",
    "paircorr.loc[paircorr['peak1'].astype(str).isin(toremove), 'flagged'] = 1\n",
    "paircorr.loc[paircorr['peak2'].astype(str).isin(toremove), 'flagged'] = 1\n",
    "paircorr = paircorr.loc[paircorr['flagged'] == 0,:]\n",
    "paircorr"
   ]
  },
  {
   "cell_type": "code",
   "execution_count": null,
   "id": "76b3c2ad-85c4-445a-98e5-8033fbf86240",
   "metadata": {},
   "outputs": [],
   "source": [
    "# extract the adduct that was chosen as \"winner\" vs all other putative adducts of the same molecule\n",
    "\n",
    "featuresum = totsig_df.sum(axis=1)\n",
    "featuresum.sort_values()\n",
    "\n",
    "annotation_to_mz_bestisobar = {}\n",
    "\n",
    "for annotation, mz_values in annotation_to_mz.items():\n",
    "    max_featuresum = -float('inf') \n",
    "    best_mz = None  \n",
    "    \n",
    "    for mz_value in mz_values:\n",
    "        if mz_value in featuresum.index:\n",
    "            featuresum_value = featuresum.loc[mz_value]\n",
    "            if featuresum_value > max_featuresum:\n",
    "                max_featuresum = featuresum_value\n",
    "                best_mz = mz_value\n",
    "        else:\n",
    "            print(f\"m/z value {mz_value} not found in featuresum index.\")\n",
    "            \n",
    "    if best_mz is not None:\n",
    "        annotation_to_mz_bestisobar[annotation] = best_mz\n",
    "    else:\n",
    "        print(f\"No valid m/z values found for annotation {annotation}.\")\n",
    "        \n",
    "len(annotation_to_mz_bestisobar)\n",
    "\n",
    "pairs_involved = []\n",
    "winners = []\n",
    "anns = []\n",
    "\n",
    "for ann in list(annotation_to_mz.keys()):\n",
    "    if len(list(annotation_to_mz[ann])) > 1:\n",
    "        pairs_involved.append(list(annotation_to_mz[ann]))\n",
    "        winners.append(annotation_to_mz_bestisobar[ann])\n",
    "        anns.append(ann)\n",
    "        \n",
    "checking_vs_winner = pd.DataFrame([anns, winners, pairs_involved]).T\n",
    "checking_vs_winner.columns = [\"ann\", \"winner\", \"contenders\"]\n",
    "\n",
    "# i want to remove the metaspace/lipidmaps ones, i don't care much for them as they are already low confidence hits\n",
    "checking_vs_winner = checking_vs_winner.loc[checking_vs_winner['ann'].isin(annots.loc[annots['Score'] > 2, 'Annotation'].values),:]\n",
    "checking_vs_winner # so there are 195 important cases where we did make a choice"
   ]
  },
  {
   "cell_type": "code",
   "execution_count": null,
   "id": "9d532507-15d0-43de-999b-1d04a544a584",
   "metadata": {},
   "outputs": [],
   "source": [
    "# extract the correlation of these adduct peak pairs \n",
    "\n",
    "filtered_df = paircorr.merge(\n",
    "    checking_vs_winner.explode('contenders'),\n",
    "    left_on=['peak1', 'peak2'],\n",
    "    right_on=['winner', 'contenders']\n",
    ")\n",
    "\n",
    "len(filtered_df['ann'].unique()) # it comes down to 36 lipids being adduct-prioritized\n",
    "# the others do not appear consistently in the same sections, so they do not have any correlation pairs - empirically, often because one of them is so broken/low level to drop out often"
   ]
  },
  {
   "cell_type": "code",
   "execution_count": null,
   "id": "13e0ee51-1149-4f6a-8c7b-d09728baaa01",
   "metadata": {},
   "outputs": [],
   "source": [
    "inuseadducts = filtered_df[['ann', 'peak1', 'peak2', 'corr']].groupby(['ann', 'peak1', 'peak2']).mean()\n",
    "inuseadducts"
   ]
  },
  {
   "cell_type": "code",
   "execution_count": null,
   "id": "914b32dc-fdca-481e-b9f5-49ec2f41feda",
   "metadata": {},
   "outputs": [],
   "source": [
    "problematic = inuseadducts.loc[inuseadducts['corr'] < 0.5,:]\n",
    "problematic.shape # 32 debatable cases, for the others there is robust correlation (as this is the mean across sections, and in some sections we see clear reassuring co-distribution)"
   ]
  },
  {
   "cell_type": "code",
   "execution_count": null,
   "id": "84f85583-12aa-45ce-bd1a-65761f4d63e4",
   "metadata": {
    "tags": []
   },
   "outputs": [],
   "source": [
    "# inspect the debatable cases one by one manually for a couple of sections, what do we see? in most-most of cases we are taking the good one whereas the other is just noise, explaining the uncorrelation. \n",
    "# it's never two beautiful but discordant spatial patterns\n",
    "\n",
    "for xxx in problematic.index:\n",
    "    \n",
    "    print(xxx[0])\n",
    "    peak1 = xxx[1]\n",
    "    peak2 = xxx[2]\n",
    "    \n",
    "    flag = 0\n",
    "    \n",
    "    for NNN in range(32):\n",
    "        try:\n",
    "            if flag < 2:\n",
    "                root = zarr.open(PATH_DATA, mode='rb')\n",
    "                a = np.exp(root[peak1][NNN][:]) \n",
    "                b = np.exp(root[peak2][NNN][:])\n",
    "                plt.imshow(a)\n",
    "                plt.title(\"winner \"+xxx[0])\n",
    "                plt.show()\n",
    "                plt.imshow(b)\n",
    "                plt.title(\"contender \"+xxx[0])\n",
    "                plt.show()\n",
    "                flag = flag +1\n",
    "            else:\n",
    "                continue\n",
    "            \n",
    "        except:\n",
    "            continue"
   ]
  },
  {
   "cell_type": "code",
   "execution_count": null,
   "id": "b9ad72f8-782f-441a-8036-04f703174363",
   "metadata": {},
   "outputs": [],
   "source": []
  },
  {
   "cell_type": "code",
   "execution_count": null,
   "id": "7acd24a7-c91d-4713-9fef-c33a6b537f4d",
   "metadata": {},
   "outputs": [],
   "source": []
  },
  {
   "cell_type": "code",
   "execution_count": null,
   "id": "b50be60f-c1b8-4f1f-be6a-abbf3c3e2177",
   "metadata": {},
   "outputs": [],
   "source": []
  },
  {
   "cell_type": "code",
   "execution_count": null,
   "id": "514e9995-9218-47a5-a653-36392bd3953d",
   "metadata": {},
   "outputs": [],
   "source": []
  }
 ],
 "metadata": {
  "kernelspec": {
   "display_name": "Python 3 (ipykernel)",
   "language": "python",
   "name": "python3"
  },
  "language_info": {
   "codemirror_mode": {
    "name": "ipython",
    "version": 3
   },
   "file_extension": ".py",
   "mimetype": "text/x-python",
   "name": "python",
   "nbconvert_exporter": "python",
   "pygments_lexer": "ipython3",
   "version": "3.10.10"
  }
 },
 "nbformat": 4,
 "nbformat_minor": 5
}
