{
 "cells": [
  {
   "cell_type": "code",
   "execution_count": null,
   "id": "e37b9446-2c99-418a-99ef-c1229782ed9a",
   "metadata": {},
   "outputs": [],
   "source": [
    "import pandas as pd\n",
    "\n",
    "ctl = pd.read_csv(\"celltype_lipidomes.csv\", index_col=0)\n",
    "ctl = ctl.iloc[2:,:]\n",
    "ctl"
   ]
  },
  {
   "cell_type": "code",
   "execution_count": null,
   "id": "23614b64-3ffe-4c2c-8a4e-114728999dfc",
   "metadata": {},
   "outputs": [],
   "source": [
    "import numpy as np\n",
    "\n",
    "fitznerlips = ctl.index\n",
    "astro = np.nanmean(ctl[['Astrocytes1', 'Astrocytes2',\n",
    "       'Astrocytes3']].astype(float),axis=1)\n",
    "\n",
    "mgl = np.nanmean(ctl[['Microglia1', 'Microglia2', 'Microglia3']].astype(float),axis=1)\n",
    "\n",
    "oli = np.nanmean(ctl[['OligodendrocytesDIV11', 'OligodendrocytesDIV12',\n",
    "       'OligodendrocytesDIV13', 'OligodendrocytesDIV251',\n",
    "       'OligodendrocytesDIV252', 'OligodendrocytesDIV253',\n",
    "       'OligodendrocytesDIV41', 'OligodendrocytesDIV42',\n",
    "       'OligodendrocytesDIV43']].astype(float),axis=1)\n",
    "\n",
    "neu = np.nanmean(ctl[['NeuronsDIV101', 'NeuronsDIV102', 'NeuronsDIV103', 'NeuronsDIV161',\n",
    "       'NeuronsDIV162', 'NeuronsDIV163', 'NeuronsDIV51', 'NeuronsDIV52',\n",
    "       'NeuronsDIV53']].astype(float),axis=1)\n",
    "\n",
    "aveprof = pd.DataFrame([astro, mgl, oli, neu], columns=ctl.index, index = [\"astro\", \"mgl\", \"oli\", \"neu\"]).T\n",
    "aveprof.fillna(0, inplace=True)\n",
    "aveprof"
   ]
  },
  {
   "cell_type": "code",
   "execution_count": null,
   "id": "05a83487-c82a-4f5e-a2da-dedc6777ae74",
   "metadata": {},
   "outputs": [],
   "source": [
    "names = pd.read_csv(\"goslinfitzner_celltyoes.tsv\", sep=\"\\t\")\n",
    "namesgoslin = names[['Original Name', 'Species Name']]\n",
    "namesgoslin.index = namesgoslin['Original Name']\n",
    "\n",
    "aveprof.index = namesgoslin.loc[:,'Species Name']\n",
    "aveprof"
   ]
  },
  {
   "cell_type": "code",
   "execution_count": null,
   "id": "cd16ee8f-d693-498b-b42b-276bc41e7465",
   "metadata": {},
   "outputs": [],
   "source": [
    "tmp = pd.read_hdf(\"20241104_FullyAnnotatedLBA.h5ad\", key=\"table\")\n",
    "tmp"
   ]
  },
  {
   "cell_type": "code",
   "execution_count": null,
   "id": "66396ecf-a369-4fa9-8df0-8aa4e05687f4",
   "metadata": {},
   "outputs": [],
   "source": [
    "tree = pd.read_hdf(\"tree_seeded_deep-Copy1.h5ad\", key=\"table\")\n",
    "tmp = tmp.loc[tree.index,:]\n",
    "tmp"
   ]
  },
  {
   "cell_type": "code",
   "execution_count": null,
   "id": "59f51b9e-5d8a-498c-8f13-83d1551b662b",
   "metadata": {},
   "outputs": [],
   "source": [
    "centroids = tmp.iloc[:, :1400].groupby(tree['cluster']).mean()\n",
    "centroids"
   ]
  },
  {
   "cell_type": "code",
   "execution_count": null,
   "id": "4c188f46-29db-4cce-8d9a-7e22c6dfbf6a",
   "metadata": {},
   "outputs": [],
   "source": [
    "incommon = np.intersect1d(aveprof.index.astype(str), centroids.columns.astype(str))\n",
    "len(incommon) # 173 lipids to be used for deconvolution"
   ]
  },
  {
   "cell_type": "code",
   "execution_count": null,
   "id": "5c5c524b-f7b0-4275-b4ad-005b032ae7d3",
   "metadata": {},
   "outputs": [],
   "source": [
    "aveprof = aveprof.loc[incommon,:]\n",
    "aveprof = aveprof.groupby(aveprof.index).mean()\n",
    "aveprof = aveprof.T\n",
    "aveprof = (aveprof - aveprof.min()) / (aveprof.max() - aveprof.min())\n",
    "aveprof"
   ]
  },
  {
   "cell_type": "code",
   "execution_count": null,
   "id": "340f570d-89aa-4c13-be20-adcb2ed35ffd",
   "metadata": {},
   "outputs": [],
   "source": [
    "centroids = centroids.loc[:, aveprof.columns]\n",
    "centroids = (centroids - centroids.min()) / (centroids.max() - centroids.min())\n",
    "\n",
    "aveprof_pinv = np.linalg.pinv(aveprof.values)\n",
    "\n",
    "matrix_X = np.dot(centroids.values, aveprof_pinv)\n",
    "\n",
    "matrix_X_df = pd.DataFrame(matrix_X, index=centroids.index, columns=aveprof.index)\n",
    "matrix_X_df = (matrix_X_df.T / matrix_X_df.sum(axis=1)).T\n",
    "matrix_X_df"
   ]
  },
  {
   "cell_type": "code",
   "execution_count": null,
   "id": "1bc5f3a5-6a3a-4812-94a8-173f7e201c9d",
   "metadata": {},
   "outputs": [],
   "source": []
  },
  {
   "cell_type": "code",
   "execution_count": null,
   "id": "940f0163-2953-4182-829f-fa68d26b66fb",
   "metadata": {},
   "outputs": [],
   "source": []
  },
  {
   "cell_type": "code",
   "execution_count": null,
   "id": "2dad02b8-22c8-4f79-8d17-f42910b896fc",
   "metadata": {},
   "outputs": [],
   "source": []
  }
 ],
 "metadata": {
  "kernelspec": {
   "display_name": "Python 3 (ipykernel)",
   "language": "python",
   "name": "python3"
  },
  "language_info": {
   "codemirror_mode": {
    "name": "ipython",
    "version": 3
   },
   "file_extension": ".py",
   "mimetype": "text/x-python",
   "name": "python",
   "nbconvert_exporter": "python",
   "pygments_lexer": "ipython3",
   "version": "3.10.10"
  }
 },
 "nbformat": 4,
 "nbformat_minor": 5
}
