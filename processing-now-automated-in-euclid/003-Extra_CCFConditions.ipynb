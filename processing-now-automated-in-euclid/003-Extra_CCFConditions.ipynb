version https://git-lfs.github.com/spec/v1
oid sha256:12f28601bcabc9c7af123b8061589284a239c8834eb39a615e2a38be0717f615
size 6304979
