{
 "cells": [
  {
   "cell_type": "code",
   "execution_count": null,
   "metadata": {},
   "outputs": [],
   "source": [
    "from STalign import STalign\n",
    "import numpy as np\n",
    "import matplotlib.pyplot as plt"
   ]
  },
  {
   "cell_type": "code",
   "execution_count": null,
   "metadata": {},
   "outputs": [],
   "source": [
    "import numpy as np\n",
    "#%matplotlib notebook\n",
    "import matplotlib.pyplot as plt\n",
    "import pandas as pd # for csv.\n",
    "from matplotlib import cm\n",
    "from matplotlib.lines import Line2D\n",
    "import os\n",
    "from os.path import exists,split,join,splitext\n",
    "from os import makedirs\n",
    "import glob\n",
    "import requests\n",
    "from collections import defaultdict\n",
    "import nrrd\n",
    "import torch\n",
    "from torch.nn.functional import grid_sample\n",
    "import tornado\n",
    "import copy\n",
    "import skimage\n",
    "from mpl_toolkits.mplot3d.art3d import Poly3DCollection\n",
    "import pandas as pd\n",
    "import pickle\n",
    "import pandas as pd\n",
    "import numpy as np\n",
    "import matplotlib.pyplot as mpl\n",
    "import matplotlib.cm as cm\n",
    "from scipy.ndimage import maximum_filter\n",
    "import matplotlib.pyplot as plt\n",
    "import pandas as pd"
   ]
  },
  {
   "cell_type": "code",
   "execution_count": null,
   "metadata": {},
   "outputs": [],
   "source": [
    "import os\n",
    "from threadpoolctl import threadpool_limits\n",
    "os.environ[\"MKL_NUM_THREADS\"] = \"50\"\n",
    "os.environ[\"NUMEXPR_NUM_THREADS\"] = \"50\"\n",
    "os.environ[\"OMP_NUM_THREADS\"] = \"50\"\n",
    "threadpool_limits(50)"
   ]
  },
  {
   "cell_type": "code",
   "execution_count": null,
   "metadata": {},
   "outputs": [],
   "source": [
    "lipids = pd.read_csv('Data/STAlign_initialization_points.csv')\n",
    "print(lipids.head())"
   ]
  },
  {
   "cell_type": "code",
   "execution_count": null,
   "metadata": {},
   "outputs": [],
   "source": [
    "n_section = 2"
   ]
  },
  {
   "cell_type": "code",
   "execution_count": null,
   "metadata": {},
   "outputs": [],
   "source": [
    "section = lipids.loc[lipids['Section'] == n_section,:]\n",
    "image_array = np.zeros((320, 456))\n",
    "for _, row in section.iterrows():\n",
    "    z = row['z_index']\n",
    "    y = row['y_index']\n",
    "    intensity = row['density']\n",
    "    image_array[y, z] = intensity\n",
    "Allen_slice = maximum_filter(image_array, 2)\n",
    "plt.imshow(Allen_slice)\n",
    "ALLEN = Allen_slice\n",
    "ALLEN = STalign.normalize(ALLEN)"
   ]
  },
  {
   "cell_type": "code",
   "execution_count": null,
   "metadata": {},
   "outputs": [],
   "source": [
    "image_array = np.zeros((320, 456))\n",
    "for _, row in section.iterrows():\n",
    "    z = row['z_index']\n",
    "    y = row['y_index']\n",
    "    intensity = row['845.528']\n",
    "    image_array[y, z] = intensity\n",
    "lipid = maximum_filter(image_array, 2)\n",
    "plt.imshow(lipid)\n",
    "LIPID = lipid\n",
    "LIPID = STalign.normalize(LIPID)"
   ]
  },
  {
   "cell_type": "code",
   "execution_count": null,
   "metadata": {},
   "outputs": [],
   "source": [
    "zI = section['z_index']\n",
    "yI = section['y_index']"
   ]
  },
  {
   "cell_type": "code",
   "execution_count": null,
   "metadata": {},
   "outputs": [],
   "source": [
    "#Plot unrasterized/rasterized images\n",
    "fig,ax = plt.subplots(1,2, figsize=(15,5))\n",
    "ax[0].imshow(LIPID,  origin='lower')\n",
    "ax[0].set_title('Lipids')\n",
    "\n",
    "ax[1].imshow(ALLEN,  origin='lower')\n",
    "ax[1].set_title('Allen')\n"
   ]
  },
  {
   "cell_type": "code",
   "execution_count": null,
   "metadata": {},
   "outputs": [],
   "source": [
    "factor = 50\n",
    "ZI = np.arange(0, 22800, factor)\n",
    "YI = np.arange(0, 16000, factor)\n",
    "xA = [YI,ZI]\n",
    "xB = [YI,ZI]"
   ]
  },
  {
   "cell_type": "code",
   "execution_count": null,
   "metadata": {},
   "outputs": [],
   "source": [
    "fig,ax = plt.subplots()\n",
    "ax.hist(LIPID.ravel())\n",
    "plt.xlabel('Intensity')\n",
    "plt.ylabel('Number of Pixels')\n",
    "plt.title('Intensity Histogram of Target Image')"
   ]
  },
  {
   "cell_type": "code",
   "execution_count": null,
   "metadata": {},
   "outputs": [],
   "source": [
    "lipid_I = LIPID[None]\n",
    "allen_J = ALLEN[None]\n"
   ]
  },
  {
   "cell_type": "code",
   "execution_count": null,
   "metadata": {},
   "outputs": [],
   "source": [
    "from importlib import reload\n",
    "reload(STalign)"
   ]
  },
  {
   "cell_type": "code",
   "execution_count": null,
   "metadata": {},
   "outputs": [],
   "source": [
    "# initialize variables\n",
    "scale_x = 0.23 #0.04 #default = 0.9\n",
    "scale_y = 0.23 #0.045 #default = 0.9\n",
    "scale_z = 1 #default = 0.9\n",
    "\n",
    "\n",
    "\n",
    "scale_atlas = np.array([[scale_y,0],\n",
    "                        [0,scale_x]])\n",
    "L = np.array([[1.0,0.0],\n",
    "             [0.0,1.0]])\n",
    "L = np.matmul(L,scale_atlas)#np.identity(3)"
   ]
  },
  {
   "cell_type": "code",
   "execution_count": null,
   "metadata": {},
   "outputs": [],
   "source": [
    "%%time\n",
    "# run LDDMM\n",
    "# specify device (default device for STalign.LDDMM is cpu)\n",
    "if torch.cuda.is_available():\n",
    "    device = 'cuda:0'\n",
    "else:\n",
    "    device = 'cpu'\n",
    "\n",
    "# keep all other parameters default\n",
    "params = {\n",
    "            'niter': 2000,#4000,\n",
    "            'device':'cpu',\n",
    "            'epV': 1000,\n",
    "            #'nt' : 10,\n",
    "            'sigmaM' :0.5,\n",
    "            #'L' : L,\n",
    "            #'T' : T,\n",
    "            #'sigmaR' : 100000000,\n",
    "            #'epL' : 2e-7,\n",
    "            #'epT' : 2,\n",
    "            #'a' : 420\n",
    "          }\n",
    "\n",
    "out = STalign.LDDMM(xA,lipid_I,xB,allen_J,**params)"
   ]
  },
  {
   "cell_type": "code",
   "execution_count": null,
   "metadata": {},
   "outputs": [],
   "source": [
    "A = out['A']\n",
    "v = out['v']\n",
    "xv = out['xv']\n",
    "AI = out['AI']\n",
    "Xs = out['Xs']"
   ]
  },
  {
   "cell_type": "code",
   "execution_count": null,
   "metadata": {},
   "outputs": [],
   "source": [
    "import pandas as pd\n",
    "import numpy as np\n",
    "import matplotlib.pyplot as mpl\n",
    "import matplotlib.cm as cm\n",
    "Ishow_target = ALLEN\n",
    "Ishow_target = Ishow_target.squeeze()\n",
    "fig,ax = plt.subplots(2,2, figsize=(12,10))\n",
    "ax0 = ax[0,0].imshow(Ishow_target, cmap = mpl.cm.Blues,alpha=0.9)\n",
    "ax[0,0].set_title('Allen Slice 9')\n",
    "\n",
    "ax1 = ax[0,1].imshow(AI[0])\n",
    "#ax1 = ax[0,1].imshow(((AI-torch.amin(AI,(1,2))[...,None,None])/(torch.amax(AI,(1,2))-torch.amin(AI,(1,2)))[...,None,None]).permute(1,2,0)[:,:,0].clone().detach().cpu(), cmap = mpl.cm.Reds,alpha=0.9)\n",
    "ax1 = ax[0,1].set_title('Our slice post STalign')\n",
    "\n",
    "ax2 = ax[1,0].imshow(AI[0], cmap = mpl.cm.Reds,alpha=0.9)\n",
    "#ax2 = ax[1,0].imshow(grid, cmap = mpl.cm.Greens,alpha=0.2)\n",
    "ax[1,0].set_title('Our slice post STalign with Allen  contours')\n",
    "\n",
    "ax3 = ax[1,1].imshow(AI[0], cmap = mpl.cm.Reds,alpha=0.9)\n",
    "ax3 = ax[1,1].imshow(LIPID, cmap = mpl.cm.Greens,alpha=0.6)\n",
    "ax[1,1].set_title('Overlayed before(green)-after(red) STalign')"
   ]
  },
  {
   "cell_type": "code",
   "execution_count": null,
   "metadata": {},
   "outputs": [],
   "source": [
    "import matplotlib.pyplot as plt\n",
    "import numpy as np\n",
    "import ipywidgets as widgets\n",
    "from ipywidgets import interact\n",
    "from PIL import Image\n",
    "\n",
    "def blend_images(alpha):\n",
    "    fig,ax = plt.subplots(1,1, figsize=(15,5))\n",
    "    ax.imshow(((AI-torch.amin(AI,(1,2))[...,None,None])/(torch.amax(AI,(1,2))-torch.amin(AI,(1,2)))[...,None,None]).permute(1,2,0)[:,:,0].clone().detach().cpu(), cmap = mpl.cm.Blues,alpha=alpha)\n",
    "    ax.imshow(Ishow_target, cmap = mpl.cm.Reds,alpha=1-alpha)\n",
    "    #ax.imshow(grid, cmap = mpl.cm.Greys,alpha=0.1)\n",
    "    plt.axis('off')\n",
    "    plt.show()\n",
    "\n",
    "# Crea una barra di regolazione per l'intensità\n",
    "interact(blend_images, alpha=widgets.FloatSlider(value=0.5, min=0, max=1, step=0.01, description='Intensità'))"
   ]
  },
  {
   "cell_type": "markdown",
   "metadata": {},
   "source": [
    "# Point-to-point alignment"
   ]
  },
  {
   "cell_type": "code",
   "execution_count": null,
   "metadata": {},
   "outputs": [],
   "source": [
    "# ORIGINAL COORDINATES\n",
    "zI = torch.tensor(zI.values)\n",
    "yI = torch.tensor(yI.values)\n",
    "\n",
    "device = 'cpu'\n",
    "v = v.to(device) # VELOCITY FIELD\n",
    "A = A.to(device)\n",
    "zI = torch.tensor(zI, dtype=torch.double)\n",
    "yI = torch.tensor(yI, dtype=torch.double)\n",
    "zI_upscaled = zI*factor\n",
    "yI_upscaled = yI*factor\n",
    "\n",
    "# ALIGNED COORDINATES\n",
    "tpointsI = STalign.transform_points_source_to_target(xv,v,A, np.stack([yI_upscaled, zI_upscaled], 1))\n",
    "\n",
    "#switch tensor from cuda to cpu for plotting with numpy\n",
    "if tpointsI.is_cuda:\n",
    "    tpointsI = tpointsI.cpu()\n",
    "\n",
    "\n",
    "section['y_index_new'] = tpointsI[:,0]/factor\n",
    "section['z_index_new'] = tpointsI[:,1]/factor\n",
    "print(section.head())"
   ]
  },
  {
   "cell_type": "code",
   "execution_count": null,
   "metadata": {},
   "outputs": [],
   "source": [
    "section.to_csv(f'Output/section_{n_section}.csv', index=False)"
   ]
  }
 ],
 "metadata": {
  "kernelspec": {
   "display_name": "Python 3 (ipykernel)",
   "language": "python",
   "name": "python3"
  },
  "language_info": {
   "codemirror_mode": {
    "name": "ipython",
    "version": 3
   },
   "file_extension": ".py",
   "mimetype": "text/x-python",
   "name": "python",
   "nbconvert_exporter": "python",
   "pygments_lexer": "ipython3",
   "version": "3.10.10"
  }
 },
 "nbformat": 4,
 "nbformat_minor": 4
}
