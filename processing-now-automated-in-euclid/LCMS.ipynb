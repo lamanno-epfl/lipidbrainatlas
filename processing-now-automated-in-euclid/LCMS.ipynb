{
 "cells": [
  {
   "cell_type": "code",
   "execution_count": null,
   "id": "7fb7a6c8-457f-4339-a2ec-1126b2d1408b",
   "metadata": {},
   "outputs": [],
   "source": [
    "import pandas as pd\n",
    "\n",
    "quantlcms = pd.read_csv(\"QuantitativeLCMS.csv\", index_col=0)\n",
    "\n",
    "quantlcms"
   ]
  },
  {
   "cell_type": "code",
   "execution_count": null,
   "id": "81544e01-92c6-4f72-8b7c-046fab58b7e5",
   "metadata": {},
   "outputs": [],
   "source": [
    "atlas = quantlcms[['Male',\t'Male.1',\t'Male.2',\t'Male.3']] ### mean across males to augment our atlas"
   ]
  },
  {
   "cell_type": "code",
   "execution_count": null,
   "id": "15ab3464-c388-4629-ae24-c9d52a99a662",
   "metadata": {},
   "outputs": [],
   "source": [
    "ref = atlas.iloc[1:,:].astype(float).mean(axis=1)\n",
    "ref"
   ]
  },
  {
   "cell_type": "code",
   "execution_count": null,
   "id": "840e57f3-fb15-421d-8f06-f343c6919fa3",
   "metadata": {},
   "outputs": [],
   "source": [
    "annots = pd.read_csv(\"goslin_output.tsv\",sep='\\t')\n",
    "annots"
   ]
  },
  {
   "cell_type": "code",
   "execution_count": null,
   "id": "a6ef9594-e282-43a6-bb64-ea20be4b02b1",
   "metadata": {},
   "outputs": [],
   "source": [
    "convt = annots[['Original Name', 'Species Name']]\n",
    "convt"
   ]
  },
  {
   "cell_type": "code",
   "execution_count": null,
   "id": "a378cc21-4b58-448c-ab33-a0059a8c00a6",
   "metadata": {},
   "outputs": [],
   "source": [
    "convt.index = convt['Original Name'].astype(str)\n",
    "convt"
   ]
  },
  {
   "cell_type": "code",
   "execution_count": null,
   "id": "e61e5cc3-334b-44ce-a2c3-0396ae138932",
   "metadata": {},
   "outputs": [],
   "source": [
    "refvals = pd.DataFrame(ref.values, index = ref.index, columns=[\"nmol_fraction_LCMS\"])\n",
    "refvals.index = refvals.index.str.replace('Hex1Cer', 'HexCer')\n",
    "refvals"
   ]
  },
  {
   "cell_type": "code",
   "execution_count": null,
   "id": "be278670-9464-4cf8-ae36-2d697faafd78",
   "metadata": {},
   "outputs": [],
   "source": [
    "tmp = pd.read_csv(\"manuallyannotated_addlcms.csv\", index_col=0).dropna()\n",
    "tmp"
   ]
  },
  {
   "cell_type": "code",
   "execution_count": null,
   "id": "ee15b9e0-b507-4622-be72-687ded79c124",
   "metadata": {},
   "outputs": [],
   "source": [
    "refvalstmp = refvals.loc[refvals.index.isin(tmp.iloc[:,0]),:]\n",
    "refvalstmp"
   ]
  },
  {
   "cell_type": "code",
   "execution_count": null,
   "id": "74908711-2e14-4a11-b74b-b5410d5601f0",
   "metadata": {},
   "outputs": [],
   "source": [
    "import numpy as np\n",
    "\n",
    "rvl = np.array(refvals.index)\n",
    "convl = np.array(convt.index)\n",
    "\n",
    "len(np.intersect1d(rvl, convl)) ###### only a fraction... differences in nomenclature??"
   ]
  },
  {
   "cell_type": "code",
   "execution_count": null,
   "id": "634aff6f-a037-4df7-b3c7-a96ec93145b5",
   "metadata": {},
   "outputs": [],
   "source": [
    "np.intersect1d(rvl, convl)"
   ]
  },
  {
   "cell_type": "code",
   "execution_count": null,
   "id": "3063e48d-6256-48fc-a6c5-1262e3d33f16",
   "metadata": {},
   "outputs": [],
   "source": [
    "len(rvl)"
   ]
  },
  {
   "cell_type": "code",
   "execution_count": null,
   "id": "5d19c2cc-7cd7-4d1a-82f7-69a102a39f63",
   "metadata": {
    "tags": []
   },
   "outputs": [],
   "source": [
    "np.setdiff1d(rvl, convl) ## these are curently lost: mostly the AND/OR, plus some species"
   ]
  },
  {
   "cell_type": "code",
   "execution_count": null,
   "id": "b7851abd-688b-4bbf-a383-8fcad74e04dc",
   "metadata": {},
   "outputs": [],
   "source": [
    "pd.DataFrame(np.setdiff1d(rvl, convl)).to_csv(\"tomanuallyannotate.csv\")"
   ]
  },
  {
   "cell_type": "code",
   "execution_count": null,
   "id": "5a82d753-b0db-4923-b3ef-3a12fbee2193",
   "metadata": {},
   "outputs": [],
   "source": [
    "annots.index = annots['Original Name']\n",
    "annots = annots.loc[np.intersect1d(rvl, convl),:]\n",
    "annots"
   ]
  },
  {
   "cell_type": "code",
   "execution_count": null,
   "id": "5842a806-1a92-43d3-b6c3-4e3824427c66",
   "metadata": {},
   "outputs": [],
   "source": [
    "refvals = refvals.loc[np.intersect1d(rvl, convl),:]\n",
    "refvals"
   ]
  },
  {
   "cell_type": "code",
   "execution_count": null,
   "id": "2ff35715-751c-453f-a384-c385ef8a2e63",
   "metadata": {},
   "outputs": [],
   "source": [
    "indivannots = annots[['Species Name']]"
   ]
  },
  {
   "cell_type": "code",
   "execution_count": null,
   "id": "73b1581e-e851-4730-a2b6-e45fa5171768",
   "metadata": {},
   "outputs": [],
   "source": [
    "len(indivannots.index.unique())"
   ]
  },
  {
   "cell_type": "code",
   "execution_count": null,
   "id": "3f1a4f31-d40a-4fe3-894f-7baadebc81c3",
   "metadata": {},
   "outputs": [],
   "source": [
    "indivannots = indivannots.groupby('Original Name').first()"
   ]
  },
  {
   "cell_type": "code",
   "execution_count": null,
   "id": "aac50092-32c4-4bc6-847c-072a5a976e73",
   "metadata": {},
   "outputs": [],
   "source": [
    "refvals['Species Name'] = refvals.index.map(indivannots['Species Name'])"
   ]
  },
  {
   "cell_type": "code",
   "execution_count": null,
   "id": "d1682a8a-e5df-4ecf-b2e4-9ed30fe744b8",
   "metadata": {},
   "outputs": [],
   "source": [
    "refvals"
   ]
  },
  {
   "cell_type": "code",
   "execution_count": null,
   "id": "e62fb9d3-e201-4a18-bbea-de2ce48ef1e0",
   "metadata": {},
   "outputs": [],
   "source": [
    "tmp.index = tmp.iloc[:,0]\n",
    "tmp = tmp.loc[refvalstmp.index,:]\n",
    "refvalstmp['Species Name'] = tmp['Unnamed: 2']\n",
    "refvalstmp"
   ]
  },
  {
   "cell_type": "code",
   "execution_count": null,
   "id": "6c7bf4e6-29d2-4621-bcb5-5d064606129c",
   "metadata": {},
   "outputs": [],
   "source": [
    "quantlcms = pd.concat([refvals, refvalstmp], axis=0)\n",
    "quantlcms.index = quantlcms['Species Name']\n",
    "quantlcms = quantlcms[['nmol_fraction_LCMS']]\n",
    "quantlcms"
   ]
  },
  {
   "cell_type": "code",
   "execution_count": null,
   "id": "a562714a-fbdf-4286-afb0-9568a6ca1e5f",
   "metadata": {},
   "outputs": [],
   "source": [
    "quantlcms.to_csv(\"quantlcms_totals_averagemales_updatednomenclature.csv\")"
   ]
  },
  {
   "cell_type": "code",
   "execution_count": null,
   "id": "65e6df4a-73a4-4a1c-96a6-c432b8957313",
   "metadata": {},
   "outputs": [],
   "source": [
    "import matplotlib.pyplot as plt\n",
    "plt.hist(quantlcms['nmol_fraction_LCMS'], bins=100)\n",
    "plt.show()"
   ]
  },
  {
   "cell_type": "code",
   "execution_count": null,
   "id": "e0b89b05-9e48-4980-a771-ecfdc9ac698b",
   "metadata": {},
   "outputs": [],
   "source": [
    "measuredlips = pd.read_hdf(\"datavignettes20240815.h5ad\", key=\"table\")"
   ]
  },
  {
   "cell_type": "code",
   "execution_count": null,
   "id": "3d72e237-2203-4638-b0cc-9492c24e61ab",
   "metadata": {},
   "outputs": [],
   "source": [
    "measuredlips = measuredlips.iloc[:,:548]\n",
    "measuredlips                          "
   ]
  },
  {
   "cell_type": "code",
   "execution_count": null,
   "id": "52e64c37-2b79-49e2-a5a3-4518822cfd9e",
   "metadata": {},
   "outputs": [],
   "source": [
    "measlips = np.array(measuredlips.columns)\n",
    "measlips = [entry for entry in measlips if \"TIE\" not in entry and \"BAD\" not in entry and \"ISOTIE\" not in entry] # start easy with those supposed not to have ties\n",
    "measlips = [entry.replace(\"_1\", \"\").replace(\"_2\", \"\").replace(\"_3\", \"\").replace(\"_4\", \"\").replace(\"_dup\", \"\") for entry in measlips]\n",
    "measlips = [entry for entry in measlips if '.' not in entry]\n",
    "\n",
    "len(np.unique(measlips)) # unique lipids with a name"
   ]
  },
  {
   "cell_type": "code",
   "execution_count": null,
   "id": "65794bb2-9464-4c21-9726-249e4de24941",
   "metadata": {
    "tags": []
   },
   "outputs": [],
   "source": [
    "measlips"
   ]
  },
  {
   "cell_type": "code",
   "execution_count": null,
   "id": "0676eaf3-2c2b-4e2b-8868-ead6558ca950",
   "metadata": {},
   "outputs": [],
   "source": [
    "len(np.intersect1d(measlips, np.array(quantlcms.index)))"
   ]
  },
  {
   "cell_type": "code",
   "execution_count": null,
   "id": "32679800-e667-47a0-bdfb-c16ed2c6b510",
   "metadata": {},
   "outputs": [],
   "source": [
    "np.intersect1d(measlips, np.array(quantlcms.index))"
   ]
  },
  {
   "cell_type": "code",
   "execution_count": null,
   "id": "b2fbb539-1f68-46bc-9a77-3411c9c30b78",
   "metadata": {},
   "outputs": [],
   "source": [
    "# what are we missing?\n",
    "\n",
    "np.setdiff1d(measlips, np.array(quantlcms.index)) # they make sense: some escaped ties, some t --> now O2, some PA that are not in the QUANT, ..."
   ]
  },
  {
   "cell_type": "code",
   "execution_count": null,
   "id": "a6b8166d-2e85-46d0-aa68-e35b1e54e5c6",
   "metadata": {
    "tags": []
   },
   "outputs": [],
   "source": [
    "colsss = measuredlips.columns\n",
    "colsss = [\"CUT\" if '.' in entry else entry for entry in colsss]\n",
    "colsss"
   ]
  },
  {
   "cell_type": "code",
   "execution_count": null,
   "id": "268fc318-d67e-4c03-a225-bf8436d5e57e",
   "metadata": {
    "tags": []
   },
   "outputs": [],
   "source": [
    "colsss = [\"CUT\" if \"TIE\" in xxx else xxx for xxx in colsss]\n",
    "colsss = [\"CUT\" if \"BAD\" in xxx else xxx for xxx in colsss]\n",
    "colsss = [\"CUT\" if \"ISOTIE\" in xxx else xxx for xxx in colsss]\n",
    "colsss = [entry.replace(\"_1\", \"\").replace(\"_2\", \"\").replace(\"_3\", \"\").replace(\"_4\", \"\").replace(\"_dup\", \"\") for entry in colsss]\n",
    "colsss"
   ]
  },
  {
   "cell_type": "code",
   "execution_count": null,
   "id": "d46537b6-2a8c-4707-a4b6-a3b9b7c51b5a",
   "metadata": {},
   "outputs": [],
   "source": [
    "measuredlips.columns = colsss\n",
    "measuredlips"
   ]
  },
  {
   "cell_type": "code",
   "execution_count": null,
   "id": "1afbe19a-2c9c-49d3-8ad7-706f91b13d86",
   "metadata": {},
   "outputs": [],
   "source": [
    "toquant = measuredlips"
   ]
  },
  {
   "cell_type": "code",
   "execution_count": null,
   "id": "0ea96567-4c6b-4288-85ea-6e61e19a6bb5",
   "metadata": {},
   "outputs": [],
   "source": [
    "toquant = toquant.drop(\"CUT\", axis=1)"
   ]
  },
  {
   "cell_type": "code",
   "execution_count": null,
   "id": "46675eff-3d25-44f3-820b-657049d91879",
   "metadata": {},
   "outputs": [],
   "source": [
    "toquant = toquant.loc[:, np.intersect1d(measlips, np.array(quantlcms.index))]\n",
    "toquant # note there are several duplicates and there might be outliers floating around"
   ]
  },
  {
   "cell_type": "code",
   "execution_count": null,
   "id": "966ec1c3-9fb9-4af7-8891-619e2a90daa0",
   "metadata": {},
   "outputs": [],
   "source": [
    "totsig = pd.DataFrame(toquant.values.sum(axis=0),index=toquant.columns, columns=['totsig'])"
   ]
  },
  {
   "cell_type": "code",
   "execution_count": null,
   "id": "446eeafa-aaeb-4e05-822e-d0a9a76a2f95",
   "metadata": {},
   "outputs": [],
   "source": [
    "quantlcms['Species Name'] = quantlcms.index\n",
    "quantlcms"
   ]
  },
  {
   "cell_type": "code",
   "execution_count": null,
   "id": "2b20a712-3057-42c9-9657-2400e0cef199",
   "metadata": {},
   "outputs": [],
   "source": [
    "mean_nmols_undiscriminablespecies = quantlcms.loc[np.intersect1d(totsig.index, quantlcms.index),'nmol_fraction_LCMS'].groupby('Species Name').mean()\n",
    "mean_nmols_undiscriminablespecies"
   ]
  },
  {
   "cell_type": "code",
   "execution_count": null,
   "id": "00b9af6f-7dfa-4ee8-a8e7-b5f3dd634198",
   "metadata": {},
   "outputs": [],
   "source": [
    "totsig"
   ]
  },
  {
   "cell_type": "code",
   "execution_count": null,
   "id": "8d3d19f9-8aa1-4033-8da3-1a382211971a",
   "metadata": {},
   "outputs": [],
   "source": [
    "mean_nmols_undiscriminablespecies = pd.DataFrame(mean_nmols_undiscriminablespecies)\n",
    "mean_nmols_undiscriminablespecies "
   ]
  },
  {
   "cell_type": "code",
   "execution_count": null,
   "id": "5bf892bd-df15-42d9-96c4-6a85e52bed9d",
   "metadata": {},
   "outputs": [],
   "source": [
    "mean_nmols_undiscriminablespecies"
   ]
  },
  {
   "cell_type": "code",
   "execution_count": null,
   "id": "f6d88e45-a0cd-4bea-9c18-dc4d2b9ca72b",
   "metadata": {},
   "outputs": [],
   "source": [
    "totsig['MeanNmols'] = totsig.index.map(mean_nmols_undiscriminablespecies.squeeze()) * 1000000000\n",
    "totsig['ScaleFactor'] = totsig['MeanNmols'] / totsig['totsig']\n",
    "totsig"
   ]
  },
  {
   "cell_type": "code",
   "execution_count": null,
   "id": "48a33296-3d47-4837-9e45-ba11ff5a5dfa",
   "metadata": {},
   "outputs": [],
   "source": [
    "plt.scatter(totsig['totsig'][totsig['totsig']<0.1*1e6], totsig['MeanNmols'][totsig['totsig']<0.1*1e6], s=0.5, alpha=0.5)\n",
    "plt.show()"
   ]
  },
  {
   "cell_type": "code",
   "execution_count": null,
   "id": "326c45c0-5a84-4f33-a92e-6758e2fbd014",
   "metadata": {},
   "outputs": [],
   "source": [
    "filtered_data = totsig[totsig['totsig'] < 0.1 * 1e6]\n",
    "\n",
    "correlation = np.corrcoef(filtered_data['totsig'], filtered_data['MeanNmols'])[0, 1]\n",
    "correlation"
   ]
  },
  {
   "cell_type": "code",
   "execution_count": null,
   "id": "f6255523-90d8-495f-ba1b-1ea326168260",
   "metadata": {},
   "outputs": [],
   "source": [
    "filtered_data = totsig[totsig['totsig'] < 5000]\n",
    "\n",
    "correlation = np.corrcoef(filtered_data['totsig'], filtered_data['MeanNmols'])[0, 1]\n",
    "correlation"
   ]
  },
  {
   "cell_type": "code",
   "execution_count": null,
   "id": "416c401d-9f87-49ad-b1b5-d9ec64d6903d",
   "metadata": {},
   "outputs": [],
   "source": [
    "scalef = np.array(totsig['ScaleFactor'])"
   ]
  },
  {
   "cell_type": "code",
   "execution_count": null,
   "id": "fcc8464c-6823-4d45-a61c-ea82880c8236",
   "metadata": {},
   "outputs": [],
   "source": [
    "toquant"
   ]
  },
  {
   "cell_type": "code",
   "execution_count": null,
   "id": "aa009adb-3709-4457-8bb1-a87777e96dfc",
   "metadata": {},
   "outputs": [],
   "source": [
    "augmented = toquant * scalef\n",
    "augmented"
   ]
  },
  {
   "cell_type": "code",
   "execution_count": null,
   "id": "8e361bd9-6157-4903-b67e-264d015fe2d9",
   "metadata": {},
   "outputs": [],
   "source": [
    "augmented.values.sum(axis=0) # great!"
   ]
  },
  {
   "cell_type": "code",
   "execution_count": null,
   "id": "5106002d-2c82-479e-875f-abe16bb927b2",
   "metadata": {},
   "outputs": [],
   "source": [
    "transposed_df = augmented.transpose()\n",
    "\n",
    "mean_df = transposed_df.groupby(transposed_df.index).mean()\n",
    "\n",
    "averaged_df = mean_df.transpose()\n",
    "averaged_df"
   ]
  },
  {
   "cell_type": "code",
   "execution_count": null,
   "id": "a9eeb184-09a5-442f-906c-bf2b7c645343",
   "metadata": {},
   "outputs": [],
   "source": [
    "measuredlips = pd.read_hdf(\"datavignettes20240815.h5ad\", key=\"table\")"
   ]
  },
  {
   "cell_type": "code",
   "execution_count": null,
   "id": "6da76074-b9e7-4bc5-bd31-ab922dfcef4e",
   "metadata": {},
   "outputs": [],
   "source": [
    "averaged_df = pd.concat([averaged_df, measuredlips.iloc[:,548:]], axis=1)\n",
    "averaged_df"
   ]
  },
  {
   "cell_type": "code",
   "execution_count": null,
   "id": "2af5c60a-e733-4739-bc0b-ae082da12fb1",
   "metadata": {},
   "outputs": [],
   "source": [
    "averaged_df.to_hdf(\"20240821_augmented_quantlcms_AVERAGED.h5ad\", key=\"table\")"
   ]
  },
  {
   "cell_type": "code",
   "execution_count": null,
   "id": "8ccfaf40-671f-4710-a13e-b668dd500705",
   "metadata": {},
   "outputs": [],
   "source": []
  },
  {
   "cell_type": "code",
   "execution_count": null,
   "id": "a0cd904b-491d-4a98-8526-8437f97d3a90",
   "metadata": {},
   "outputs": [],
   "source": []
  },
  {
   "cell_type": "code",
   "execution_count": null,
   "id": "abae1954-e540-42fa-8b3f-5352812c21ac",
   "metadata": {},
   "outputs": [],
   "source": []
  },
  {
   "cell_type": "code",
   "execution_count": null,
   "id": "cf0043e7-b4ca-46ed-9b72-f32416df4938",
   "metadata": {},
   "outputs": [],
   "source": []
  },
  {
   "cell_type": "code",
   "execution_count": null,
   "id": "a77a262c-7a20-473f-9fde-a4e7a705434f",
   "metadata": {},
   "outputs": [],
   "source": []
  },
  {
   "cell_type": "code",
   "execution_count": null,
   "id": "7ed22c47-1db1-4ecd-b086-718b2a3f25bd",
   "metadata": {},
   "outputs": [],
   "source": []
  },
  {
   "cell_type": "code",
   "execution_count": null,
   "id": "dddfc59a-a611-4f4b-828d-b16a9d4259e4",
   "metadata": {},
   "outputs": [],
   "source": []
  },
  {
   "cell_type": "code",
   "execution_count": null,
   "id": "d6fda991-be5a-4255-9f3b-42d36ba9c5f5",
   "metadata": {},
   "outputs": [],
   "source": []
  },
  {
   "cell_type": "code",
   "execution_count": null,
   "id": "b5cb2459-60c4-4135-b9e6-12001ea1294c",
   "metadata": {},
   "outputs": [],
   "source": []
  },
  {
   "cell_type": "code",
   "execution_count": null,
   "id": "6d39959d-71b5-4070-9a8a-8084a14d77c6",
   "metadata": {},
   "outputs": [],
   "source": []
  },
  {
   "cell_type": "code",
   "execution_count": null,
   "id": "49a8e9bf-70ef-4bd5-afa0-8c22a090cb78",
   "metadata": {},
   "outputs": [],
   "source": [
    "def rename_duplicated_columns(df):\n",
    "    cols = pd.Series(df.columns)\n",
    "    for dup in cols[cols.duplicated()].unique(): \n",
    "        dup_count = 1\n",
    "        cols[cols[cols == dup].index.values.tolist()] = [dup + '_' + str(i) if i != 0 else dup for i in range(len(cols[cols == dup]))]\n",
    "    df.columns = cols\n",
    "    return df\n",
    "\n",
    "augmented = rename_duplicated_columns(augmented)"
   ]
  },
  {
   "cell_type": "code",
   "execution_count": null,
   "id": "f4af4516-f94c-4461-ab16-3b0f17b32fd7",
   "metadata": {},
   "outputs": [],
   "source": [
    "augmented.to_hdf(\"20240821_augmented_quantlcms.h5ad\", key=\"table\")"
   ]
  },
  {
   "cell_type": "code",
   "execution_count": null,
   "id": "8faa0a55-c21b-44c7-9f6c-3a0bd1a93959",
   "metadata": {},
   "outputs": [],
   "source": [
    "augmented"
   ]
  },
  {
   "cell_type": "code",
   "execution_count": null,
   "id": "7e9494ef-ca20-42f8-b017-c15c96d8fe60",
   "metadata": {},
   "outputs": [],
   "source": [
    "measuredlips[['Section', 'xccf', 'yccf', 'zccf']].to_hdf(\"coordinates.h5ad\", key=\"table\")"
   ]
  },
  {
   "cell_type": "code",
   "execution_count": null,
   "id": "e0edcd03-38ff-4c23-9758-b4542e8d81a2",
   "metadata": {},
   "outputs": [],
   "source": []
  }
 ],
 "metadata": {
  "kernelspec": {
   "display_name": "Python 3 (ipykernel)",
   "language": "python",
   "name": "python3"
  },
  "language_info": {
   "codemirror_mode": {
    "name": "ipython",
    "version": 3
   },
   "file_extension": ".py",
   "mimetype": "text/x-python",
   "name": "python",
   "nbconvert_exporter": "python",
   "pygments_lexer": "ipython3",
   "version": "3.10.10"
  }
 },
 "nbformat": 4,
 "nbformat_minor": 5
}
