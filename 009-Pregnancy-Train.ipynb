{
 "cells": [
  {
   "cell_type": "code",
   "execution_count": null,
   "id": "d358cc03-6850-4da6-8f0a-ca45fd39714e",
   "metadata": {},
   "outputs": [],
   "source": [
    "from threadpoolctl import threadpool_limits, threadpool_info\n",
    "threadpool_limits(limits=8)\n",
    "import os\n",
    "os.environ['OMP_NUM_THREADS'] = '6'\n",
    "\n",
    "import pandas as pd\n",
    "import matplotlib.pyplot as plt\n",
    "import numpy as np\n",
    "import seaborn as sns\n",
    "from jax import random\n",
    "import jax\n",
    "import jax.numpy as jnp\n",
    "import jax.nn as jnn\n",
    "import numpyro\n",
    "import numpyro.distributions as dist\n",
    "from numpyro.infer import MCMC, NUTS, Predictive, SVI, Trace_ELBO\n",
    "from numpyro.infer.autoguide import AutoNormal\n",
    "import optax\n",
    "from concurrent.futures import ProcessPoolExecutor\n",
    "from tqdm import tqdm\n",
    "import statsmodels.formula.api as smf\n",
    "import arviz as az\n",
    "from sklearn.preprocessing import LabelEncoder\n",
    "from scipy.spatial import cKDTree\n",
    "import scipy.stats as stats\n",
    "from jax.ops import segment_sum\n",
    "from numba import njit\n",
    "import matplotlib.gridspec as gridspec\n",
    "import random as py_random\n",
    "from scipy.stats import norm\n",
    "\n",
    "from bayes.euclid_hbda import *"
   ]
  },
  {
   "cell_type": "code",
   "execution_count": null,
   "id": "4ee07966-22ea-4f6e-955d-c4f040ec7df2",
   "metadata": {},
   "outputs": [],
   "source": [
    "import warnings\n",
    "warnings.filterwarnings(\"ignore\", category=UserWarning)\n",
    "\n",
    "sub_alldata = load_data()\n",
    "coords      = sub_alldata[['x','y','SectionID']]\n",
    "\n",
    "from threadpoolctl import threadpool_limits, threadpool_info\n",
    "threadpool_limits(limits=8)\n",
    "import os\n",
    "os.environ['OMP_NUM_THREADS'] = '6'\n",
    "\n",
    "config_overrides = [\n",
    "    {\"num_epochs\": 2500},\n",
    "]\n",
    "\n",
    "for overrides in config_overrides:\n",
    "    cfg = LipidAnalysisConfig()\n",
    "    cfg.lipids_to_analyze     = [\"PC 38:7\", \"PC 38:6\", \"HexCer 40:1;O2\", \"HexCer 42:1;O2\"]#sub_alldata.columns[:1].values #173\n",
    "    #sub_alldata.columns[:173].values\n",
    "    cfg.normalize_percentiles = (0.5, 99.5)\n",
    "    for k,v in overrides.items():\n",
    "        setattr(cfg, k, v)\n",
    "\n",
    "    print(\"Running with config:\", cfg_string(cfg))\n",
    "    results = main(sub_alldata, coords, cfg)"
   ]
  },
  {
   "cell_type": "code",
   "execution_count": null,
   "id": "ec7d0b1c-ad72-4d04-95d9-8d0ce1a8338f",
   "metadata": {},
   "outputs": [],
   "source": []
  },
  {
   "cell_type": "markdown",
   "id": "0764f774-91a4-4ee9-b143-715e451ef372",
   "metadata": {},
   "source": [
    "## Extract the models results"
   ]
  },
  {
   "cell_type": "code",
   "execution_count": null,
   "id": "4c11d188-d908-4e3d-953e-bb36ec7d1ff6",
   "metadata": {},
   "outputs": [],
   "source": [
    "stindex = np.sort(sub_alldata['supertype'].unique())"
   ]
  },
  {
   "cell_type": "code",
   "execution_count": null,
   "id": "16b29d02-5309-445c-80f0-2f8cdc57ebc3",
   "metadata": {},
   "outputs": [],
   "source": [
    "from tqdm import tqdm\n",
    "\n",
    "aaaaaas = []\n",
    "bbbbbbs = []\n",
    "xxxs = []\n",
    "\n",
    "from jax.nn import sigmoid\n",
    "\n",
    "for xxx in tqdm(sub_alldata.columns.values[:173]):\n",
    "\n",
    "    try:\n",
    "        aaaaaa = np.load(xxx+\"_model_params.npy\", allow_pickle=True).item()\n",
    "        bbbbbb = pd.DataFrame(sigmoid(aaaaaa['alpha_supertype_unconst_loc']), index=stindex)\n",
    "        aaaaaa = pd.DataFrame(aaaaaa['alpha_supertype_susceptibility_loc'], index=stindex)\n",
    "\n",
    "        aaaaaas.append(aaaaaa)\n",
    "        bbbbbbs.append(bbbbbb)\n",
    "        xxxs.append(xxx)\n",
    "        \n",
    "    except:\n",
    "        continue\n",
    "        \n",
    "shift = pd.concat(aaaaaas, axis=1)\n",
    "baseline = pd.concat(bbbbbbs, axis=1)\n",
    "shift.columns = xxxs\n",
    "baseline.columns = xxxs"
   ]
  },
  {
   "cell_type": "code",
   "execution_count": null,
   "id": "551d187c-48ae-4aa2-bb62-8a327ad2b57e",
   "metadata": {},
   "outputs": [],
   "source": [
    "shift"
   ]
  },
  {
   "cell_type": "code",
   "execution_count": null,
   "id": "c6131b71-ab4e-43eb-be98-fe75036b4a66",
   "metadata": {
    "tags": []
   },
   "outputs": [],
   "source": [
    "for lipid_name in sub_alldata.columns.values[:173]:\n",
    "    sub_alldata = normalize_lipid_column(\n",
    "        sub_alldata, \n",
    "        lipid_name,\n",
    "        lower_percentile=config.normalize_percentiles[0],\n",
    "        upper_percentile=config.normalize_percentiles[1]\n",
    "    )"
   ]
  },
  {
   "cell_type": "code",
   "execution_count": null,
   "id": "929e9caf-febb-46b4-bbdd-ab74b7a3619c",
   "metadata": {},
   "outputs": [],
   "source": []
  },
  {
   "cell_type": "markdown",
   "id": "f099e4f3-87d1-4626-b366-0953e5a6389c",
   "metadata": {},
   "source": [
    "## Check consistency with raw, direct calculations"
   ]
  },
  {
   "cell_type": "code",
   "execution_count": null,
   "id": "f5e2d5d0-d9a8-4d44-b32b-1764972868d7",
   "metadata": {},
   "outputs": [],
   "source": [
    "centroids = sub_alldata.loc[sub_alldata['Condition'] != \"pregnant\",sub_alldata.columns.values[:173]].groupby(sub_alldata[\"supertype\"]).mean()\n",
    "centroids2 = sub_alldata.loc[sub_alldata['Condition'] == \"pregnant\",sub_alldata.columns.values[:173]].groupby(sub_alldata[\"supertype\"]).mean()\n",
    "centroids2 = centroids2.loc[centroids.index, centroids.columns]\n",
    "delll = centroids2 - centroids\n",
    "\n",
    "delll"
   ]
  },
  {
   "cell_type": "code",
   "execution_count": null,
   "id": "40726153-8ca2-41a7-b933-2b3b8d72e406",
   "metadata": {
    "tags": []
   },
   "outputs": [],
   "source": [
    "for xxxxx in np.random.choice(shift.columns, 10):\n",
    "\n",
    "    plt.scatter(shift[xxxxx], delll.loc[shift.index, xxxxx])\n",
    "    plt.show()"
   ]
  },
  {
   "cell_type": "code",
   "execution_count": null,
   "id": "a5ed4c80-5bbd-4559-ae5a-2be83fa04986",
   "metadata": {
    "tags": []
   },
   "outputs": [],
   "source": [
    "for xxxxx in np.random.choice(baseline.columns, 10):\n",
    "\n",
    "    plt.scatter(baseline[xxxxx], centroids.loc[baseline.index, xxxxx])\n",
    "    plt.show()"
   ]
  },
  {
   "cell_type": "code",
   "execution_count": null,
   "id": "8ea237ad-1a5f-4617-bda9-0a99c1a7ba62",
   "metadata": {},
   "outputs": [],
   "source": []
  },
  {
   "cell_type": "markdown",
   "id": "f294b442-101d-45b6-b6ec-e491308f666f",
   "metadata": {},
   "source": [
    "## Export to file"
   ]
  },
  {
   "cell_type": "code",
   "execution_count": null,
   "id": "833bfac8-b0bc-4ff7-bbaa-de3ed2113a3c",
   "metadata": {},
   "outputs": [],
   "source": [
    "foldchange = shift / baseline\n",
    "shift.to_parquet(\"shift_pregnancy.parquet\")\n",
    "baseline.to_parquet(\"baseline_pregnancy.parquet\")\n",
    "foldchange.to_parquet(\"foldchange_pregnancy.parquet\")"
   ]
  },
  {
   "cell_type": "raw",
   "id": "7c933a02-9e23-4be7-ab9c-2afd17b30f53",
   "metadata": {
    "tags": []
   },
   "source": [
    "import pandas as pd\n",
    "import numpy as np\n",
    "from threadpoolctl import threadpool_limits, threadpool_info\n",
    "threadpool_limits(limits=8)\n",
    "import os\n",
    "os.environ['OMP_NUM_THREADS'] = '6'\n",
    "\n",
    "pattern = '_pregnancy_shifts_fdr5_vs0.csv'\n",
    "files = [\n",
    "    f \n",
    "    for f in os.listdir('.') \n",
    "    if f.endswith(pattern) \n",
    "]\n",
    "\n",
    "lipid_dfs = {\n",
    "    f.replace(pattern, ''): pd.read_csv(f, index_col=0).loc[foldchange.index.values.astype(int),:]\n",
    "    for f in files\n",
    "}\n",
    "\n",
    "len(lipid_dfs)"
   ]
  },
  {
   "cell_type": "raw",
   "id": "b967de67-f691-494f-a69d-c3f5e6451310",
   "metadata": {
    "jupyter": {
     "outputs_hidden": true
    },
    "tags": []
   },
   "source": [
    "bottom = [lipid_dfs[xxx]['ci_2.5%'] for xxx in list(lipid_dfs.keys())]\n",
    "top = [lipid_dfs[xxx]['ci_97.5%'] for xxx in list(lipid_dfs.keys())]\n",
    "\n",
    "bottom = pd.concat(bottom,axis=1)\n",
    "bottom.index = foldchange.index.values\n",
    "bottom.columns = list(lipid_dfs.keys())\n",
    "top = pd.concat(top,axis=1)\n",
    "top.index = foldchange.index.values\n",
    "top.columns = list(lipid_dfs.keys())\n",
    "significant = ((top > 0) & (bottom > 0)) | ((top < 0) & (bottom < 0))\n",
    "significant.to_parquet(\"sign_significance_pregnancy.parquet\")\n",
    "significant"
   ]
  },
  {
   "cell_type": "code",
   "execution_count": null,
   "id": "ff04f6be-f0e7-4e94-9baa-a87331610740",
   "metadata": {},
   "outputs": [],
   "source": []
  },
  {
   "cell_type": "markdown",
   "id": "7409ff1b-ba68-4de3-8cd2-e6cacbaf3d08",
   "metadata": {},
   "source": [
    "## Explore significant, large-scale changes"
   ]
  },
  {
   "cell_type": "code",
   "execution_count": null,
   "id": "83a4c485-0e75-463a-988c-c35d28926ff5",
   "metadata": {},
   "outputs": [],
   "source": []
  },
  {
   "cell_type": "code",
   "execution_count": null,
   "id": "d42af9e8-25bb-4c5c-8d3a-dff449762dea",
   "metadata": {},
   "outputs": [],
   "source": []
  },
  {
   "cell_type": "code",
   "execution_count": null,
   "id": "8f026512-cb50-40da-8fac-63617f974cdf",
   "metadata": {},
   "outputs": [],
   "source": []
  }
 ],
 "metadata": {
  "kernelspec": {
   "display_name": "Python 3 (ipykernel)",
   "language": "python",
   "name": "python3"
  },
  "language_info": {
   "codemirror_mode": {
    "name": "ipython",
    "version": 3
   },
   "file_extension": ".py",
   "mimetype": "text/x-python",
   "name": "python",
   "nbconvert_exporter": "python",
   "pygments_lexer": "ipython3",
   "version": "3.10.10"
  }
 },
 "nbformat": 4,
 "nbformat_minor": 5
}
