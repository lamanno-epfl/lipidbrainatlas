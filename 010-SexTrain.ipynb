{
 "cells": [
  {
   "cell_type": "code",
   "execution_count": null,
   "id": "d358cc03-6850-4da6-8f0a-ca45fd39714e",
   "metadata": {},
   "outputs": [],
   "source": [
    "from threadpoolctl import threadpool_limits, threadpool_info\n",
    "threadpool_limits(limits=8)\n",
    "import os\n",
    "os.environ['OMP_NUM_THREADS'] = '6'\n",
    "\n",
    "import pandas as pd\n",
    "import matplotlib.pyplot as plt\n",
    "import numpy as np\n",
    "import seaborn as sns\n",
    "from jax import random\n",
    "import jax\n",
    "import jax.numpy as jnp\n",
    "import jax.nn as jnn\n",
    "import numpyro\n",
    "import numpyro.distributions as dist\n",
    "from numpyro.infer import MCMC, NUTS, Predictive, SVI, Trace_ELBO\n",
    "from numpyro.infer.autoguide import AutoNormal\n",
    "import optax\n",
    "from concurrent.futures import ProcessPoolExecutor\n",
    "from tqdm import tqdm\n",
    "import statsmodels.formula.api as smf\n",
    "import arviz as az\n",
    "from sklearn.preprocessing import LabelEncoder\n",
    "from scipy.spatial import cKDTree\n",
    "import scipy.stats as stats\n",
    "from jax.ops import segment_sum\n",
    "from numba import njit\n",
    "import matplotlib.gridspec as gridspec\n",
    "import random as py_random\n",
    "from scipy.stats import norm\n",
    "\n",
    "from bayes.euclid_hbda_doMF import *"
   ]
  },
  {
   "cell_type": "code",
   "execution_count": null,
   "id": "c9931dc9-26af-4e27-87d3-ac6a0e6add27",
   "metadata": {},
   "outputs": [],
   "source": [
    "import warnings\n",
    "warnings.filterwarnings(\"ignore\", category=UserWarning)\n",
    "\n",
    "sub_alldata = load_data()\n",
    "coords      = sub_alldata[['x','y','SectionID']]\n",
    "import os\n",
    "import glob\n",
    "import numpy as np\n",
    "\n",
    "cwd     = os.getcwd()\n",
    "pattern = os.path.join(cwd, '*_MF.npy')\n",
    "files   = np.unique(glob.glob(pattern))\n",
    "\n",
    "trained = [\n",
    "    os.path.basename(f)[:-len(\"_model_params_MF.npy\")]\n",
    "    for f in files\n",
    "]\n",
    "totrain = np.setdiff1d(sub_alldata.columns[:173].values, trained)\n",
    "\n",
    "from threadpoolctl import threadpool_limits, threadpool_info\n",
    "threadpool_limits(limits=2)\n",
    "import os\n",
    "os.environ['OMP_NUM_THREADS'] = '2'\n",
    "\n",
    "config_overrides = [\n",
    "    {\"num_epochs\": 2500},\n",
    "]\n",
    "\n",
    "for overrides in config_overrides:\n",
    "    cfg = LipidAnalysisConfig()\n",
    "    cfg.lipids_to_analyze     = totrain#sub_alldata.columns[:173].values\n",
    "    cfg.normalize_percentiles = (0.5, 99.5)\n",
    "    for k,v in overrides.items():\n",
    "        setattr(cfg, k, v)\n",
    "\n",
    "    print(\"Running with config:\", cfg_string(cfg))\n",
    "    results = main(sub_alldata, coords, cfg)"
   ]
  },
  {
   "cell_type": "code",
   "execution_count": null,
   "id": "f12bb7e0-4f37-473f-8296-16b5872fbf06",
   "metadata": {},
   "outputs": [],
   "source": []
  },
  {
   "cell_type": "markdown",
   "id": "6d771b40-226c-4aca-8618-0ffb8d74a947",
   "metadata": {},
   "source": [
    "## Analyze and export"
   ]
  },
  {
   "cell_type": "code",
   "execution_count": null,
   "id": "3041de1a-192c-4131-98cc-7381e2b25af6",
   "metadata": {},
   "outputs": [],
   "source": [
    "from tqdm import tqdm\n",
    "stindex = np.sort(sub_alldata['supertype'].unique())\n",
    "aaaaaas = []\n",
    "bbbbbbs = []\n",
    "xxxs = []\n",
    "\n",
    "from jax.nn import sigmoid\n",
    "\n",
    "for xxx in tqdm(sub_alldata.columns.values[:173]):\n",
    "\n",
    "    try:\n",
    "        aaaaaa = np.load(xxx+\"_model_params_MF.npy\", allow_pickle=True).item()\n",
    "        bbbbbb = pd.DataFrame(sigmoid(aaaaaa['alpha_supertype_unconst_loc']), index=stindex)\n",
    "        aaaaaa = pd.DataFrame(aaaaaa['alpha_supertype_susceptibility_loc'], index=stindex)\n",
    "\n",
    "        aaaaaas.append(aaaaaa)\n",
    "        bbbbbbs.append(bbbbbb)\n",
    "        xxxs.append(xxx)\n",
    "        \n",
    "    except:\n",
    "        continue\n",
    "        \n",
    "shift = -pd.concat(aaaaaas, axis=1)\n",
    "baseline = pd.concat(bbbbbbs, axis=1)\n",
    "shift.columns = xxxs\n",
    "baseline.columns = xxxs"
   ]
  },
  {
   "cell_type": "code",
   "execution_count": null,
   "id": "255d2354-3b5c-447a-9ffb-a00e7597b661",
   "metadata": {},
   "outputs": [],
   "source": [
    "for lipid_name in sub_alldata.columns.values[:173]:\n",
    "    sub_alldata = normalize_lipid_column(\n",
    "        sub_alldata, \n",
    "        lipid_name,\n",
    "        lower_percentile=config.normalize_percentiles[0],\n",
    "        upper_percentile=config.normalize_percentiles[1]\n",
    "    )"
   ]
  },
  {
   "cell_type": "code",
   "execution_count": null,
   "id": "d83fdb89-d007-4049-b2e2-3875f0ede955",
   "metadata": {},
   "outputs": [],
   "source": [
    "centroids = sub_alldata.loc[sub_alldata['Condition'] != \"female\",sub_alldata.columns.values[:173]].groupby(sub_alldata[\"supertype\"]).mean()\n",
    "centroids2 = sub_alldata.loc[sub_alldata['Condition'] == \"female\",sub_alldata.columns.values[:173]].groupby(sub_alldata[\"supertype\"]).mean()\n",
    "centroids2 = centroids2.loc[centroids.index, centroids.columns]\n",
    "delll = centroids2 - centroids\n",
    "\n",
    "delll"
   ]
  },
  {
   "cell_type": "code",
   "execution_count": null,
   "id": "fc526de5-5f26-47a1-8f59-428935c4206f",
   "metadata": {
    "tags": []
   },
   "outputs": [],
   "source": [
    "for xxxxx in np.random.choice(shift.columns, 10):\n",
    "\n",
    "    plt.scatter(shift[xxxxx], delll.loc[shift.index, xxxxx])\n",
    "    plt.show()\n",
    "\n",
    "for xxxxx in np.random.choice(baseline.columns, 10):\n",
    "\n",
    "    plt.scatter(baseline[xxxxx], centroids.loc[baseline.index, xxxxx])\n",
    "    plt.show()\n",
    "    \n",
    "foldchange = shift / baseline\n",
    "shift.to_parquet(\"shift_MF.parquet\")\n",
    "baseline.to_parquet(\"baseline_MF.parquet\")\n",
    "foldchange.to_parquet(\"relshift_MF.parquet\")"
   ]
  },
  {
   "cell_type": "code",
   "execution_count": null,
   "id": "c948624c-0e0b-4499-9cc9-c69f5ca97648",
   "metadata": {},
   "outputs": [],
   "source": [
    "import pandas as pd\n",
    "import numpy as np\n",
    "from threadpoolctl import threadpool_limits, threadpool_info\n",
    "threadpool_limits(limits=8)\n",
    "import os\n",
    "os.environ['OMP_NUM_THREADS'] = '6'\n",
    "\n",
    "pattern = '_MF_shifts_fdr5_vs0.csv'\n",
    "files = [\n",
    "    f \n",
    "    for f in os.listdir('.') \n",
    "    if f.endswith(pattern) \n",
    "]\n",
    "\n",
    "lipid_dfs = {\n",
    "    f.replace(pattern, ''): pd.read_csv(f, index_col=0).loc[foldchange.index.values.astype(int),:]\n",
    "    for f in files\n",
    "}\n",
    "\n",
    "bottom = [lipid_dfs[xxx]['ci_2.5%'] for xxx in list(lipid_dfs.keys())]\n",
    "top = [lipid_dfs[xxx]['ci_97.5%'] for xxx in list(lipid_dfs.keys())]\n",
    "\n",
    "bottom = pd.concat(bottom,axis=1)\n",
    "bottom.index = foldchange.index.values\n",
    "bottom.columns = list(lipid_dfs.keys())\n",
    "top = pd.concat(top,axis=1)\n",
    "top.index = foldchange.index.values\n",
    "top.columns = list(lipid_dfs.keys())\n",
    "significant = ((top > 0) & (bottom > 0)) | ((top < 0) & (bottom < 0))\n",
    "significant.to_parquet(\"sign_significance_MF.parquet\")\n",
    "significant"
   ]
  },
  {
   "cell_type": "code",
   "execution_count": null,
   "id": "c5cc4062-03e6-436f-a997-753f1755f847",
   "metadata": {},
   "outputs": [],
   "source": []
  },
  {
   "cell_type": "code",
   "execution_count": null,
   "id": "0228b9f6-2126-4288-9bff-f17fee8568d4",
   "metadata": {},
   "outputs": [],
   "source": []
  },
  {
   "cell_type": "code",
   "execution_count": null,
   "id": "c315418f-04fd-45f4-9fd0-40379acd2f9f",
   "metadata": {},
   "outputs": [],
   "source": []
  },
  {
   "cell_type": "code",
   "execution_count": null,
   "id": "de00df76-40e3-4e42-98e6-7ff381816cd0",
   "metadata": {},
   "outputs": [],
   "source": []
  },
  {
   "cell_type": "code",
   "execution_count": null,
   "id": "3456519e-d710-4449-9bce-e5e29d061fc0",
   "metadata": {},
   "outputs": [],
   "source": []
  }
 ],
 "metadata": {
  "kernelspec": {
   "display_name": "Python 3 (ipykernel)",
   "language": "python",
   "name": "python3"
  },
  "language_info": {
   "codemirror_mode": {
    "name": "ipython",
    "version": 3
   },
   "file_extension": ".py",
   "mimetype": "text/x-python",
   "name": "python",
   "nbconvert_exporter": "python",
   "pygments_lexer": "ipython3",
   "version": "3.10.10"
  }
 },
 "nbformat": 4,
 "nbformat_minor": 5
}
