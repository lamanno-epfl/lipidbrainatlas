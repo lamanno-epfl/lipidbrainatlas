{
 "cells": [
  {
   "cell_type": "code",
   "execution_count": null,
   "id": "a81f4265-e960-49cb-9f89-09356730f5b8",
   "metadata": {},
   "outputs": [],
   "source": [
    "import pandas as pd\n",
    "import numpy as np\n",
    "import matplotlib.pyplot as plt\n",
    "import seaborn as sns\n",
    "import scanpy as sc\n",
    "import anndata\n",
    "import matplotlib\n",
    "matplotlib.rcParams['pdf.fonttype'] = 42\n",
    "\n",
    "atlas = pd.read_parquet(\"./zenodo/maindata_2.parquet\")\n",
    "atlas = atlas.loc[atlas['Sample'] == \"ReferenceAtlas\",:]\n",
    "atlas"
   ]
  },
  {
   "cell_type": "code",
   "execution_count": null,
   "id": "5140898c-7930-42be-9377-f117f0ec1f66",
   "metadata": {},
   "outputs": [],
   "source": []
  },
  {
   "cell_type": "markdown",
   "id": "2e642479-77db-4fc5-aab8-88ee901b6d40",
   "metadata": {},
   "source": [
    "## Clean cell types vs lipizones"
   ]
  },
  {
   "cell_type": "code",
   "execution_count": null,
   "id": "4be69ad4-0c5a-4d74-958b-6e3149e86603",
   "metadata": {},
   "outputs": [],
   "source": [
    "import scipy.cluster.hierarchy as sch\n",
    "\n",
    "pixelclosestcells = pd.read_hdf(\"./zenodo/multimodal/pixelclosestcells.h5ad\", key=\"table\")\n",
    "pixelclosestcells = pixelclosestcells.loc[pixelclosestcells.index.isin(atlas.index)]\n",
    "pixelclosestcells = pixelclosestcells.dropna()\n",
    "lipizoneZ = atlas.loc[pixelclosestcells.index, 'lipizone_names']\n",
    "ctnow = pd.read_hdf(\"./zenodo/multimodal/celltypesnow.h5ad\", key=\"table\")\n",
    "\n",
    "#####\n",
    "ctnow = ctnow[ctnow.isin(ctnow.value_counts()[ctnow.value_counts() > 40].index)] \n",
    "pixelclosestcells = pixelclosestcells[pixelclosestcells.isin(ctnow.index)]\n",
    "lipizoneZ = lipizoneZ.loc[pixelclosestcells.index]\n",
    "#####\n",
    "\n",
    "celltypeZ = ctnow.loc[pixelclosestcells.values]\n",
    "celltypeZ.index = lipizoneZ.index\n",
    "cmat = pd.crosstab(lipizoneZ, celltypeZ)\n",
    "substrings = ['Micro', 'Lymphocyte', 'Endo', 'Macro', 'NG', 'Ng', 'Pit']\n",
    "rows_to_keep = ~cmat.index.to_series().str.contains('|'.join(substrings), case=False, na=False)\n",
    "cols_to_keep = ~cmat.columns.to_series().str.contains('|'.join(substrings), case=False, na=False)\n",
    "cmat = cmat.loc[:, cols_to_keep]\n",
    "normalized_df = cmat / cmat.sum() # fraction \n",
    "normalized_df = (normalized_df.T / normalized_df.T.mean()).T ## switch to enrichments\n",
    "normalized_df1 = normalized_df.copy()\n",
    "\n",
    "pixelclosestcells = pd.read_hdf(\"./zenodo/multimodal/pixelclosestcells.h5ad\", key=\"table\")\n",
    "pixelclosestcells = pixelclosestcells.loc[pixelclosestcells.index.isin(atlas.index)]\n",
    "pixelclosestcells = pixelclosestcells.dropna()\n",
    "lipizoneZ = atlas.loc[pixelclosestcells.index, 'lipizone_names']\n",
    "ctnow = pd.read_hdf(\"./zenodo/multimodal/celltypesnow.h5ad\", key=\"table\")\n",
    "\n",
    "#####\n",
    "ctnow = ctnow[ctnow.isin(ctnow.value_counts()[ctnow.value_counts() > 40].index)]\n",
    "pixelclosestcells = pixelclosestcells[pixelclosestcells.isin(ctnow.index)]\n",
    "lipizoneZ = lipizoneZ.loc[pixelclosestcells.index]\n",
    "#####\n",
    "\n",
    "celltypeZ = ctnow.loc[pixelclosestcells.values]\n",
    "celltypeZ.index = lipizoneZ.index\n",
    "cmat = pd.crosstab(lipizoneZ, celltypeZ).T\n",
    "substrings = ['Micro', 'Lymphocyte', 'Endo', 'Macro', 'NG', 'Ng', 'Pit']\n",
    "rows_to_keep = ~cmat.index.to_series().str.contains('|'.join(substrings), case=False, na=False)\n",
    "cols_to_keep = ~cmat.columns.to_series().str.contains('|'.join(substrings), case=False, na=False)\n",
    "cmat = cmat.loc[rows_to_keep, :]\n",
    "normalized_df = cmat / cmat.sum() # fraction \n",
    "normalized_df = (normalized_df.T / normalized_df.T.mean()) ## switch to enrichments\n",
    "normalized_df2 = normalized_df.copy()\n",
    "\n",
    "normalized_df = normalized_df2 * normalized_df1\n",
    "normalized_df[cmat.T < 20] = 0\n",
    "normalized_df = normalized_df.loc[:, normalized_df.sum() > 200]\n",
    "\n",
    "linkage = sch.linkage(sch.distance.pdist(normalized_df.T), method='weighted', optimal_ordering=True)\n",
    "order = sch.leaves_list(linkage)\n",
    "normalized_df = normalized_df.iloc[:, order]\n",
    "\n",
    "order = np.argmax(normalized_df.values, axis=1)\n",
    "order = np.argsort(order)\n",
    "normalized_df = normalized_df.iloc[order,:]"
   ]
  },
  {
   "cell_type": "code",
   "execution_count": null,
   "id": "6cf27d82-7587-486d-92a9-bb01236b49d5",
   "metadata": {},
   "outputs": [],
   "source": [
    "normalized_df = normalized_df.loc[:, normalized_df.sum() > 0]\n",
    "import pandas as pd\n",
    "import matplotlib.pyplot as plt\n",
    "import seaborn as sns\n",
    "import numpy as np\n",
    "from matplotlib.colors import LinearSegmentedColormap\n",
    "\n",
    "def process_column_names(df):\n",
    "    processed_df = df.copy()\n",
    "\n",
    "    new_columns = []\n",
    "    for col in processed_df.columns:\n",
    "        if '=' in col:\n",
    "            new_col = col.split('=', 1)[1]\n",
    "        else:\n",
    "            new_col = col\n",
    "        new_columns.append(new_col)\n",
    "    \n",
    "    processed_df.columns = new_columns\n",
    "    \n",
    "    categories = []\n",
    "    for col in processed_df.columns:\n",
    "        if '_' in col:\n",
    "            category = col.split('_', 1)[0] \n",
    "        else:\n",
    "            category = col\n",
    "        categories.append(category)\n",
    "    \n",
    "    return processed_df, categories\n",
    "\n",
    "processed_df, categories = process_column_names(normalized_df)\n",
    "\n",
    "unique_categories = list(set(categories))\n",
    "freq_series = pd.Series(categories).value_counts()\n",
    "# engineer the sequence to make it more logical\n",
    "unique_categories = freq_series.index.values\n",
    "unique_categories = np.concatenate((unique_categories[1:], np.array(['Ex'])))\n",
    "unique_categories = unique_categories.tolist()\n",
    "\n",
    "import seaborn as sns\n",
    "\n",
    "n_categories = len(unique_categories)\n",
    "\n",
    "beautiful_colors = sns.color_palette(\"tab20\", n_categories).as_hex()\n",
    "\n",
    "color_dict = {cat: beautiful_colors[i] for i, cat in enumerate(unique_categories)}\n",
    "\n",
    "color_dict['Ex'] = \"#000000\"\n",
    "color_dict['Inh'] = \"#d3d3d3\"\n",
    "\n",
    "col_colors = [color_dict[cat] for cat in categories]\n",
    "\n",
    "import matplotlib.pyplot as plt\n",
    "import numpy as np\n",
    "import pandas as pd\n",
    "from matplotlib.colors import to_rgb\n",
    "\n",
    "vmin, vmax = 0, np.percentile(normalized_df, 98) #np.percentile(normalized_df, 99.9), np.percentile(normalized_df, 99.9)\n",
    "data = normalized_df.to_numpy()  \n",
    "nrows, ncols = data.shape\n",
    "\n",
    "img = np.zeros((nrows, ncols, 3))\n",
    "\n",
    "for j in range(ncols):\n",
    "    base_color = np.array(to_rgb(col_colors[j]))\n",
    "    for i in range(nrows):\n",
    "        norm_val = (data[i, j] - vmin) / (vmax - vmin)\n",
    "        norm_val = np.clip(norm_val, 0, 1)\n",
    "        img[i, j, :] = (1 - norm_val) * np.array([1, 1, 1]) + norm_val * base_color\n",
    "\n",
    "plt.figure(figsize=(20, 20))\n",
    "plt.imshow(img, aspect='auto')\n",
    "xtick_labels = [\n",
    "    categories[j] if categories[j] not in ['Ex', 'Inh'] else ''\n",
    "    for j in range(ncols)\n",
    "]\n",
    "plt.xticks(ticks=np.arange(ncols), labels=xtick_labels, rotation=90)\n",
    "plt.yticks([])\n",
    "plt.title('Enrichment of lipids across major brain divisions')\n",
    "plt.tight_layout()\n",
    "plt.show()\n",
    "\n",
    "from matplotlib.patches import Patch\n",
    "\n",
    "legend_elements = [Patch(facecolor=color, edgecolor='black', label=label)\n",
    "                   for label, color in color_dict.items()]\n",
    "\n",
    "plt.figure(figsize=(8, 6))\n",
    "plt.legend(handles=legend_elements, loc='center left', bbox_to_anchor=(1, 0.5), title=\"Categories\")\n",
    "plt.axis('off')  # Hide axes\n",
    "plt.title(\"Color Legend\")\n",
    "plt.tight_layout()\n",
    "plt.show()"
   ]
  },
  {
   "cell_type": "code",
   "execution_count": null,
   "id": "6443b063-5efb-4011-a201-24e4355b0333",
   "metadata": {},
   "outputs": [],
   "source": []
  },
  {
   "cell_type": "markdown",
   "id": "12967bb6-1393-4c49-a739-f4cfb44c21c4",
   "metadata": {},
   "source": [
    "## A briefing on neurotransmitters and neuromodulators"
   ]
  },
  {
   "cell_type": "code",
   "execution_count": null,
   "id": "7f53408f-0777-4418-88c6-d75cec0910d3",
   "metadata": {},
   "outputs": [],
   "source": [
    "normalized_df.loc[:, np.array(categories)== \"Nor\"].sort_values(by = \"300-0-0-0-0-0-0-12-1-0-1-0-0=Nor_Phox2b_Pla2g4d_1\")"
   ]
  },
  {
   "cell_type": "code",
   "execution_count": null,
   "id": "9586e2d8-9615-414b-a06e-a7ea17e265fa",
   "metadata": {},
   "outputs": [],
   "source": [
    "normalized_df.loc[:, np.array(categories)== \"Chol\"].sort_values(by = \"300-0-0-0-0-0-1-2-0-1-0=Chol_Ecel1_Crabp2_1\") # not so clean probably"
   ]
  },
  {
   "cell_type": "code",
   "execution_count": null,
   "id": "7fb827b3-4366-4060-ac74-2a7fa68bc4a7",
   "metadata": {},
   "outputs": [],
   "source": [
    "normalized_df.loc[:, np.array(categories)== \"Chol\"].sort_values(by = \"300-0-0-0-6-0-0-0-0=Chol_Tbx20_A4galt_1\") # this seems clean"
   ]
  },
  {
   "cell_type": "code",
   "execution_count": null,
   "id": "36f50e6f-d5aa-4186-b97c-d4d1523d5727",
   "metadata": {},
   "outputs": [],
   "source": [
    "normalized_df.loc[:, np.array(categories)== \"CholEx\"].sort_values(by = \"300-0-0-0-3-0-0=CholEx_Irx2_Gm5741\") # a promising one "
   ]
  },
  {
   "cell_type": "code",
   "execution_count": null,
   "id": "9018f8b2-082d-40a0-bdaf-bb08cbe7de8e",
   "metadata": {},
   "outputs": [],
   "source": [
    "data = atlas\n",
    "unique_sections = data[\"Section\"].unique()\n",
    "\n",
    "for XXX in [\"B-LC-SG-PDTg-PB\", \"Ventrolateral preoptic nucleus_2\", \"IPDM-IAM-IPN-IPDL-mp\"]:\n",
    "    fig, axs = plt.subplots(4, 8, figsize=(32, 16))\n",
    "    axs = axs.flatten()\n",
    "    \n",
    "    print(normalized_df.loc[XXX,:].sort_values()[-5:])\n",
    "\n",
    "    for i, section_value in enumerate(unique_sections):\n",
    "        if i >= len(axs):\n",
    "            break\n",
    "        ax = axs[i]\n",
    "        section = data[data[\"Section\"] == section_value]\n",
    "        filtered_section = section.loc[section['lipizone_names'].isin([XXX]),:]\n",
    "\n",
    "        ax.scatter(filtered_section['z_index'], -filtered_section['y_index'],\n",
    "                        c=\"red\", s=0.2,\n",
    "                        alpha=1, zorder=1, rasterized=True)  \n",
    "\n",
    "        filtered_section_contour = section.loc[section['boundary'] == 1,:]\n",
    "        ax.scatter(filtered_section_contour['z_index'], -filtered_section_contour['y_index'],\n",
    "                        c='black', s=0.01, rasterized=True, zorder=2, alpha=0.9)\n",
    "\n",
    "        ax.set_aspect('equal')\n",
    "\n",
    "    for ax in axs:\n",
    "        ax.axis('off') \n",
    "\n",
    "    plt.tight_layout()\n",
    "    plt.show()"
   ]
  },
  {
   "cell_type": "code",
   "execution_count": null,
   "id": "cf54d6e9-e30c-4282-87a5-2522a3ceb0fa",
   "metadata": {},
   "outputs": [],
   "source": []
  },
  {
   "cell_type": "markdown",
   "id": "2005bb2d-224d-4dfe-ab57-3eae583664aa",
   "metadata": {},
   "source": [
    "## How many lipizones \"are cell types\"?"
   ]
  },
  {
   "cell_type": "code",
   "execution_count": null,
   "id": "ad37b83c-3667-4367-acea-7dd4a11e378d",
   "metadata": {},
   "outputs": [],
   "source": [
    "normalized_df # notice i'm considering only a minority of reliable cell types"
   ]
  },
  {
   "cell_type": "code",
   "execution_count": null,
   "id": "aa003d9a-1101-40d3-9995-4d5680e4d70e",
   "metadata": {},
   "outputs": [],
   "source": [
    "mappers = (normalized_df > 200).sum(axis=1).sort_values()\n",
    "mappers"
   ]
  },
  {
   "cell_type": "code",
   "execution_count": null,
   "id": "a48ba1fe-1c85-4d9b-82d9-f83b6fb43ea4",
   "metadata": {},
   "outputs": [],
   "source": [
    "plt.hist(mappers.values)"
   ]
  },
  {
   "cell_type": "code",
   "execution_count": null,
   "id": "b4d51503-c918-4780-8777-34850bc21193",
   "metadata": {},
   "outputs": [],
   "source": [
    "maxcoloc = normalized_df.max(axis=1).sort_values()\n",
    "maxcoloc"
   ]
  },
  {
   "cell_type": "code",
   "execution_count": null,
   "id": "1d052a1c-c0c0-484e-98d5-32b177706bbb",
   "metadata": {},
   "outputs": [],
   "source": [
    "plt.hist(maxcoloc.values, bins=50)\n",
    "plt.show()"
   ]
  },
  {
   "cell_type": "code",
   "execution_count": null,
   "id": "930e6789-9324-4969-a582-7ba65210a2ee",
   "metadata": {},
   "outputs": [],
   "source": [
    "maxcoloc[:10]"
   ]
  },
  {
   "cell_type": "code",
   "execution_count": null,
   "id": "37b4988c-01dd-4402-9e11-20deac1c1d7a",
   "metadata": {
    "tags": []
   },
   "outputs": [],
   "source": [
    "# these are the \"oooo these are NOOOOT cell types...\"\n",
    "\n",
    "data = atlas\n",
    "unique_sections = data[\"Section\"].unique()\n",
    "\n",
    "for XXX in maxcoloc[:5].index:\n",
    "    fig, axs = plt.subplots(4, 8, figsize=(32, 16))\n",
    "    axs = axs.flatten()\n",
    "    \n",
    "    print(normalized_df.loc[XXX,:].sort_values()[-5:])\n",
    "\n",
    "    for i, section_value in enumerate(unique_sections):\n",
    "        if i >= len(axs):\n",
    "            break\n",
    "        ax = axs[i]\n",
    "        section = data[data[\"Section\"] == section_value]\n",
    "        filtered_section = section.loc[section['lipizone_names'].isin([XXX]),:]\n",
    "\n",
    "        ax.scatter(filtered_section['z_index'], -filtered_section['y_index'],\n",
    "                        c=\"red\", s=0.2,\n",
    "                        alpha=1, zorder=1, rasterized=True)  \n",
    "\n",
    "        filtered_section_contour = section.loc[section['boundary'] == 1,:]\n",
    "        ax.scatter(filtered_section_contour['z_index'], -filtered_section_contour['y_index'],\n",
    "                        c='black', s=0.01, rasterized=True, zorder=2, alpha=0.9)\n",
    "\n",
    "        ax.set_aspect('equal')\n",
    "\n",
    "    for ax in axs:\n",
    "        ax.axis('off') \n",
    "\n",
    "    plt.tight_layout()\n",
    "    plt.show()"
   ]
  },
  {
   "cell_type": "code",
   "execution_count": null,
   "id": "3a52bf38-87d5-40be-b3c4-5a54739cda4a",
   "metadata": {
    "tags": []
   },
   "outputs": [],
   "source": [
    "# these are the \"oooo these are DEFINITELY cell types...\" (in theory -  and in practice, perfectly)\n",
    "\n",
    "data = atlas\n",
    "unique_sections = data[\"Section\"].unique()\n",
    "\n",
    "for XXX in maxcoloc[-10:].index:\n",
    "    fig, axs = plt.subplots(4, 8, figsize=(32, 16))\n",
    "    axs = axs.flatten()\n",
    "    \n",
    "    print(normalized_df.loc[XXX,:].sort_values()[-5:])\n",
    "\n",
    "    for i, section_value in enumerate(unique_sections):\n",
    "        if i >= len(axs):\n",
    "            break\n",
    "        ax = axs[i]\n",
    "        section = data[data[\"Section\"] == section_value]\n",
    "        filtered_section = section.loc[section['lipizone_names'].isin([XXX]),:]\n",
    "\n",
    "        ax.scatter(filtered_section['z_index'], -filtered_section['y_index'],\n",
    "                        c=\"red\", s=0.2,\n",
    "                        alpha=1, zorder=1, rasterized=True)  \n",
    "\n",
    "        filtered_section_contour = section.loc[section['boundary'] == 1,:]\n",
    "        ax.scatter(filtered_section_contour['z_index'], -filtered_section_contour['y_index'],\n",
    "                        c='black', s=0.01, rasterized=True, zorder=2, alpha=0.9)\n",
    "\n",
    "        ax.set_aspect('equal')\n",
    "\n",
    "    for ax in axs:\n",
    "        ax.axis('off') \n",
    "\n",
    "    plt.tight_layout()\n",
    "    plt.show()"
   ]
  },
  {
   "cell_type": "code",
   "execution_count": null,
   "id": "35d6f521-3b9f-4cd4-9b4c-3c6d7c3bbd34",
   "metadata": {},
   "outputs": [],
   "source": [
    "# where is the threshold??\n",
    "maxcoloc[maxcoloc > 200][:10] # is it around 200?"
   ]
  },
  {
   "cell_type": "code",
   "execution_count": null,
   "id": "2c08fe20-fcdc-4239-bd97-5915c3196af8",
   "metadata": {
    "tags": []
   },
   "outputs": [],
   "source": [
    "data = atlas\n",
    "unique_sections = data[\"Section\"].unique()\n",
    "\n",
    "for XXX in maxcoloc[maxcoloc > 200][:5].index:\n",
    "    fig, axs = plt.subplots(4, 8, figsize=(32, 16))\n",
    "    axs = axs.flatten()\n",
    "    \n",
    "    print(normalized_df.loc[XXX,:].sort_values()[-5:])\n",
    "\n",
    "    for i, section_value in enumerate(unique_sections):\n",
    "        if i >= len(axs):\n",
    "            break\n",
    "        ax = axs[i]\n",
    "        section = data[data[\"Section\"] == section_value]\n",
    "        filtered_section = section.loc[section['lipizone_names'].isin([XXX]),:]\n",
    "\n",
    "        ax.scatter(filtered_section['z_index'], -filtered_section['y_index'],\n",
    "                        c=\"red\", s=0.2,\n",
    "                        alpha=1, zorder=1, rasterized=True)  \n",
    "\n",
    "        filtered_section_contour = section.loc[section['boundary'] == 1,:]\n",
    "        ax.scatter(filtered_section_contour['z_index'], -filtered_section_contour['y_index'],\n",
    "                        c='black', s=0.01, rasterized=True, zorder=2, alpha=0.9)\n",
    "\n",
    "        ax.set_aspect('equal')\n",
    "\n",
    "    for ax in axs:\n",
    "        ax.axis('off') \n",
    "\n",
    "    plt.tight_layout()\n",
    "    plt.show()"
   ]
  },
  {
   "cell_type": "code",
   "execution_count": null,
   "id": "254db5c5-d3f0-493f-acc8-16dd74e5af59",
   "metadata": {},
   "outputs": [],
   "source": [
    "(maxcoloc > 200).sum() # this would be 30% of lipizones are cell types. this seems to emerge consistently, i will stick to it"
   ]
  },
  {
   "cell_type": "code",
   "execution_count": null,
   "id": "1d3820a8-9d80-4b99-90e0-890f354b9178",
   "metadata": {},
   "outputs": [],
   "source": [
    "lipizonesthatarecelltypes = maxcoloc[maxcoloc > 200][::-1]\n",
    "lipizonesthatarecelltypes"
   ]
  },
  {
   "cell_type": "code",
   "execution_count": null,
   "id": "d4004356-ad42-4698-8fdc-960226b67213",
   "metadata": {},
   "outputs": [],
   "source": []
  },
  {
   "cell_type": "markdown",
   "id": "71f346c3-5ab6-4318-a856-1b5a58432c90",
   "metadata": {},
   "source": [
    "## Lipizones that are not cell types: what are you?"
   ]
  },
  {
   "cell_type": "code",
   "execution_count": null,
   "id": "d2454b71-e272-4461-b3a9-0f8db4c624a0",
   "metadata": {},
   "outputs": [],
   "source": [
    "maxcoloc[maxcoloc <= 200] # these do not map to a cell type (conditional to macoscko btw)"
   ]
  },
  {
   "cell_type": "code",
   "execution_count": null,
   "id": "ba443caa-76d7-4a2e-96a9-7b5e0e78603a",
   "metadata": {},
   "outputs": [],
   "source": [
    "noncelltypes = maxcoloc[maxcoloc <= 200].index.values"
   ]
  },
  {
   "cell_type": "code",
   "execution_count": null,
   "id": "35250c5c-b679-4632-9e8d-a272c1b42db8",
   "metadata": {},
   "outputs": [],
   "source": [
    "# 1) who's anatomical but not cell type?\n",
    "\n",
    "acronyms = atlas['acronym'].copy()\n",
    "lipizones = atlas['lipizone_names'].copy()\n",
    "\n",
    "acronyms = acronyms.loc[acronyms.isin(acronyms.value_counts().index[acronyms.value_counts() > 50])]\n",
    "lipizones = lipizones.loc[acronyms.index]\n",
    "\n",
    "cmat = pd.crosstab(acronyms, lipizones)\n",
    "\n",
    "normalized_df = cmat / cmat.sum() # fraction \n",
    "normalized_df = (normalized_df.T / normalized_df.T.mean()).T ## switch to enrichments\n",
    "normalized_df1 = normalized_df.copy()\n",
    "normalized_df1\n",
    "\n",
    "cmat = pd.crosstab(lipizones, acronyms)\n",
    "normalized_df = cmat / cmat.sum() \n",
    "normalized_df = (normalized_df.T / normalized_df.T.mean()).T \n",
    "normalized_df2 = normalized_df.copy().T\n",
    "normalized_df2\n",
    "\n",
    "normalized_df = normalized_df2 * normalized_df1\n",
    "normalized_df[cmat.T < 20] = 0\n",
    "\n",
    "linkage = sch.linkage(sch.distance.pdist(normalized_df.T), method='weighted', optimal_ordering=True)\n",
    "order = sch.leaves_list(linkage)\n",
    "normalized_df = normalized_df.iloc[:, order]\n",
    "\n",
    "order = np.argmax(normalized_df.values, axis=1)\n",
    "order = np.argsort(order)\n",
    "normalized_df = normalized_df.iloc[order,:]\n",
    "\n",
    "plt.figure(figsize=(10, 10))\n",
    "sns.heatmap(normalized_df, cmap=\"Grays\", cbar_kws={'label': 'Enrichment'}, xticklabels=True, yticklabels=False, vmin = np.percentile(normalized_df, 2), vmax = np.percentile(normalized_df, 98))\n",
    "\n",
    "plt.tick_params(axis='x', which='both', bottom=False, top=False, labelbottom=False)\n",
    "plt.tick_params(axis='y', which='both', left=False, right=False)\n",
    "\n",
    "plt.yticks(rotation=0)\n",
    "\n",
    "plt.tight_layout()\n",
    "plt.show()"
   ]
  },
  {
   "cell_type": "code",
   "execution_count": null,
   "id": "0e1859cf-3743-4326-9451-d90881ac09ad",
   "metadata": {},
   "outputs": [],
   "source": [
    "callosalwm = atlas.loc[(atlas['level_1'] == 1.0) & (atlas['level_2'] == 1.0) & (atlas['level_3'] == 1.0),:]\n",
    "myelin = callosalwm['lipizone_names'].unique()"
   ]
  },
  {
   "cell_type": "code",
   "execution_count": null,
   "id": "3a55948f-286b-424a-9e20-2ff798c40d7a",
   "metadata": {
    "tags": []
   },
   "outputs": [],
   "source": [
    "inout_related = pd.read_csv(\"./zenodo/csv/islipizoneinoutconnection.csv\", index_col=0)\n",
    "mapper = atlas[['old_lipizone_names', 'lipizone_names']].drop_duplicates().reset_index().iloc[:,1:]\n",
    "mapper.index = mapper['old_lipizone_names']\n",
    "inout_related.index = inout_related.index.map(mapper['lipizone_names'])\n",
    "inout = inout_related.index[inout_related[\"0\"] < 0.05].values\n",
    "inout"
   ]
  },
  {
   "cell_type": "code",
   "execution_count": null,
   "id": "7eb7344c-fe39-42fa-8cc1-6b4b75884b32",
   "metadata": {},
   "outputs": [],
   "source": [
    "normalized_df = normalized_df.loc[normalized_df.sum(axis=1) > 0,:]\n",
    "normalized_df"
   ]
  },
  {
   "cell_type": "code",
   "execution_count": null,
   "id": "32f2df4f-c4ab-4043-803c-53a16166fe2a",
   "metadata": {},
   "outputs": [],
   "source": [
    "import numpy as np\n",
    "import matplotlib.pyplot as plt\n",
    "from matplotlib.patches import Patch\n",
    "\n",
    "vmin, vmax = 0, np.percentile(normalized_df, 98)\n",
    "data = normalized_df.to_numpy()\n",
    "nrows, ncols = data.shape\n",
    "img = np.zeros((nrows, ncols, 3))\n",
    "\n",
    "for j, col_name in enumerate(normalized_df.columns):\n",
    "    if col_name in myelin:\n",
    "        base_color = np.array([1.0, 1.0, 0.0])\n",
    "    elif col_name not in noncelltypes:\n",
    "        base_color = np.array([1, 0, 0])\n",
    "    elif col_name in inout:\n",
    "        base_color = np.array([0, 0, 1])\n",
    "    else:\n",
    "        base_color = np.array([0, 0, 0])\n",
    "    for i in range(nrows):\n",
    "        norm_val = (data[i, j] - vmin) / (vmax - vmin)\n",
    "        norm_val = np.clip(norm_val, 0, 1)\n",
    "        img[i, j, :] = (1 - norm_val) * np.array([1, 1, 1]) + norm_val * base_color\n",
    "\n",
    "fig, ax = plt.subplots(figsize=(20, 20))\n",
    "im = ax.imshow(img, aspect='auto')\n",
    "ax.set_xticks([])\n",
    "ax.set_yticks([])\n",
    "ax.set_title('Enrichment of lipids across major brain divisions')\n",
    "fig.tight_layout()\n",
    "im.set_rasterized(True)\n",
    "plt.show()\n",
    "\n",
    "legend_elements = [\n",
    "    Patch(facecolor=[1.0, 1.0, 0.0], edgecolor='black', label='Myelin'),\n",
    "    Patch(facecolor='red',       edgecolor='black', label='Cell Types'),\n",
    "    Patch(facecolor='blue',      edgecolor='black', label='InOut'),\n",
    "    Patch(facecolor='black',     edgecolor='black', label='Non-Cell Types')\n",
    "]\n",
    "\n",
    "fig2, ax2 = plt.subplots(figsize=(8, 6))\n",
    "ax2.legend(handles=legend_elements, loc='center left', bbox_to_anchor=(1, 0.5), title=\"Categories\")\n",
    "ax2.axis('off')\n",
    "ax2.set_title(\"Color Legend\")\n",
    "fig2.tight_layout()\n",
    "plt.show()"
   ]
  },
  {
   "cell_type": "code",
   "execution_count": null,
   "id": "5f1d3b9c-4534-47a7-8664-924ce57a95f1",
   "metadata": {},
   "outputs": [],
   "source": [
    "yellow_count = 0\n",
    "red_count = 0\n",
    "blue_count = 0\n",
    "black_count = 0\n",
    "\n",
    "for col in normalized_df.columns:\n",
    "    if col in myelin:\n",
    "        yellow_count += 1\n",
    "    elif col not in noncelltypes:\n",
    "        red_count += 1\n",
    "    elif col in inout:\n",
    "        blue_count += 1\n",
    "    else:\n",
    "        black_count += 1\n",
    "\n",
    "print(\"Yellow (Myelin):\", yellow_count)\n",
    "print(\"Red (Cell Types):\", red_count)\n",
    "print(\"Blue (InOut):\", blue_count)\n",
    "print(\"Black (Non-Cell Types):\", black_count)"
   ]
  },
  {
   "cell_type": "code",
   "execution_count": null,
   "id": "49fc6af4-4873-4a3a-9a51-84ee08219b24",
   "metadata": {},
   "outputs": [],
   "source": []
  },
  {
   "cell_type": "markdown",
   "id": "80d35f2a-bf37-4a5f-b23f-5e042d853f7d",
   "metadata": {},
   "source": [
    "## Assess unexplained intra-cluster variability"
   ]
  },
  {
   "cell_type": "code",
   "execution_count": null,
   "id": "9760b9a9-89e1-4204-9cc5-70048e1f8eab",
   "metadata": {
    "tags": []
   },
   "outputs": [],
   "source": [
    "import pandas as pd\n",
    "\n",
    "datavignettes = atlas\n",
    "\n",
    "# subselect the two ventricular subclasses\n",
    "ventricles = datavignettes.loc[datavignettes['subclass'].isin(['12111', '12112']),:]"
   ]
  },
  {
   "cell_type": "code",
   "execution_count": null,
   "id": "c7fdb30d-b1eb-4970-84cd-55a9ad0799b8",
   "metadata": {
    "tags": []
   },
   "outputs": [],
   "source": [
    "from sklearn.preprocessing import StandardScaler\n",
    "lipid_cols = datavignettes.columns[:173]\n",
    "scaler = StandardScaler()\n",
    "datavignettes.loc[:, lipid_cols] = scaler.fit_transform(datavignettes.loc[:, lipid_cols])"
   ]
  },
  {
   "cell_type": "code",
   "execution_count": null,
   "id": "fd0d0666-35c9-4723-99eb-d54b2e2ed768",
   "metadata": {},
   "outputs": [],
   "source": [
    "from tqdm import tqdm\n",
    "results = []\n",
    "\n",
    "for zone in tqdm(datavignettes['lipizone_names'].unique()):\n",
    "    subset = datavignettes[datavignettes['lipizone_names'] == zone]\n",
    "    \n",
    "    lipid_data = subset.loc[:, lipid_cols]\n",
    "    \n",
    "    cov_matrix = np.cov(lipid_data, rowvar=False)\n",
    "    \n",
    "    # transition to log vs numerical instability\n",
    "    sign, logdet = np.linalg.slogdet(cov_matrix)\n",
    "    \n",
    "    results.append({'lipizone': zone, 'determinant': logdet})\n",
    "\n",
    "results_df = pd.DataFrame(results)\n",
    "\n",
    "results_df = results_df.sort_values(by='determinant', ascending=True)\n",
    "\n",
    "results_df"
   ]
  },
  {
   "cell_type": "code",
   "execution_count": null,
   "id": "617e6321-4a85-4781-96b6-cab34ddbb476",
   "metadata": {},
   "outputs": [],
   "source": [
    "import matplotlib.pyplot as plt\n",
    "\n",
    "results_df['determinant2'] = 1000+results_df['determinant']\n",
    "ventricle_zones = ventricles['lipizone_names'].unique()\n",
    "is_ventricle = results_df['lipizone'].isin(ventricle_zones)\n",
    "\n",
    "colors = ['red' if v else 'gray' for v in is_ventricle]\n",
    "\n",
    "plt.figure(figsize=(5, 6))\n",
    "plt.bar(range(len(results_df)), results_df['determinant2'].values/100000, color=colors)\n",
    "\n",
    "plt.ylabel('Unexplained variability after clustering')\n",
    "plt.xlabel('Sorted lipizones')\n",
    "plt.tight_layout()\n",
    "plt.show()"
   ]
  },
  {
   "cell_type": "code",
   "execution_count": null,
   "id": "ea2799be-87cf-4863-9ea6-abd752f5d03e",
   "metadata": {},
   "outputs": [],
   "source": []
  },
  {
   "cell_type": "code",
   "execution_count": null,
   "id": "b93bf8bc-5c5d-40a9-985b-b218a256ce2c",
   "metadata": {},
   "outputs": [],
   "source": []
  }
 ],
 "metadata": {
  "kernelspec": {
   "display_name": "Python 3 (ipykernel)",
   "language": "python",
   "name": "python3"
  },
  "language_info": {
   "codemirror_mode": {
    "name": "ipython",
    "version": 3
   },
   "file_extension": ".py",
   "mimetype": "text/x-python",
   "name": "python",
   "nbconvert_exporter": "python",
   "pygments_lexer": "ipython3",
   "version": "3.10.10"
  }
 },
 "nbformat": 4,
 "nbformat_minor": 5
}
